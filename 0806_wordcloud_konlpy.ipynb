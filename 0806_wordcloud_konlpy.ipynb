{
  "cells": [
    {
      "cell_type": "markdown",
      "metadata": {
        "id": "view-in-github",
        "colab_type": "text"
      },
      "source": [
        "<a href=\"https://colab.research.google.com/github/leedy40259/Ybigta_summer/blob/main/0806_wordcloud_konlpy.ipynb\" target=\"_parent\"><img src=\"https://colab.research.google.com/assets/colab-badge.svg\" alt=\"Open In Colab\"/></a>"
      ]
    },
    {
      "cell_type": "markdown",
      "source": [
        "<h1> 데이콘 영화리뷰 감성분석 경진대회 </h1>\n",
        "\n",
        "어렵지 않으니 스스로 # To do 부분을 채워보시고 고민해봐도 모르겠다면 코드공유를 참고해주세요! 아니면 과제를 다 하시고 설명이 자세히 적혀있는 코드공유로 리뷰를 하셔도 좋습니다"
      ],
      "metadata": {
        "id": "g90kUrOX_P53"
      }
    },
    {
      "cell_type": "markdown",
      "metadata": {
        "id": "n1QU5sygxzX5"
      },
      "source": [
        "# train.csv 학습/검증"
      ]
    },
    {
      "cell_type": "markdown",
      "metadata": {
        "id": "AAcvJqY7xzX8"
      },
      "source": [
        "### 필요한 패키지 불러오기\n"
      ]
    },
    {
      "cell_type": "code",
      "source": [
        "from google.colab import drive\n",
        "drive.mount('/content/drive')"
      ],
      "metadata": {
        "colab": {
          "base_uri": "https://localhost:8080/"
        },
        "id": "dAVQLrGB0gW_",
        "outputId": "63516fbe-5822-4f76-b266-8a67db22066b"
      },
      "execution_count": null,
      "outputs": [
        {
          "output_type": "stream",
          "name": "stdout",
          "text": [
            "Drive already mounted at /content/drive; to attempt to forcibly remount, call drive.mount(\"/content/drive\", force_remount=True).\n"
          ]
        }
      ]
    },
    {
      "cell_type": "code",
      "execution_count": null,
      "metadata": {
        "id": "CNZo3SKtxzX_"
      },
      "outputs": [],
      "source": [
        "import pandas as pd\n",
        "import numpy as np\n",
        "import re\n",
        "import warnings\n",
        "warnings.filterwarnings(action='ignore')\n",
        "import nltk\n",
        "# nltk.download('all') # 처음 실행 시 주석을 제거하고 실행해주세요!"
      ]
    },
    {
      "cell_type": "code",
      "source": [
        "!pip install konlpy"
      ],
      "metadata": {
        "colab": {
          "base_uri": "https://localhost:8080/"
        },
        "id": "3HOca6Yz1FK5",
        "outputId": "ac9c77da-42fd-4100-b89a-b89064889302"
      },
      "execution_count": null,
      "outputs": [
        {
          "output_type": "stream",
          "name": "stdout",
          "text": [
            "Looking in indexes: https://pypi.org/simple, https://us-python.pkg.dev/colab-wheels/public/simple/\n",
            "Requirement already satisfied: konlpy in /usr/local/lib/python3.7/dist-packages (0.6.0)\n",
            "Requirement already satisfied: JPype1>=0.7.0 in /usr/local/lib/python3.7/dist-packages (from konlpy) (1.4.0)\n",
            "Requirement already satisfied: numpy>=1.6 in /usr/local/lib/python3.7/dist-packages (from konlpy) (1.21.6)\n",
            "Requirement already satisfied: lxml>=4.1.0 in /usr/local/lib/python3.7/dist-packages (from konlpy) (4.9.1)\n",
            "Requirement already satisfied: typing-extensions in /usr/local/lib/python3.7/dist-packages (from JPype1>=0.7.0->konlpy) (4.1.1)\n"
          ]
        }
      ]
    },
    {
      "cell_type": "markdown",
      "metadata": {
        "id": "9G_ACS_lxzYE"
      },
      "source": [
        "### train 데이터 불러오기"
      ]
    },
    {
      "cell_type": "code",
      "execution_count": null,
      "metadata": {
        "id": "eReIcP8OxzYG",
        "colab": {
          "base_uri": "https://localhost:8080/",
          "height": 424
        },
        "outputId": "fd2ec5df-e727-435b-d7f1-abccbf3d2f6a"
      },
      "outputs": [
        {
          "output_type": "execute_result",
          "data": {
            "text/plain": [
              "        id                                 document  label\n",
              "0        1                영상이나 음악이 이쁘다 해도 미화시킨 불륜일뿐      0\n",
              "1        2             히치콕이 이 영화를 봤다면 분명 박수를 쳤을듯...      1\n",
              "2        3     괜찮은 음악영화가 또 나왔군요!!! 따뜻한 겨울이 될 것 같아요~      1\n",
              "3        4              아무래도 20년도지난작품이라 지금보기는너무유치하다      0\n",
              "4        5  지금까지의 영화들이 그랬듯. 이 영화역시 일본에 대한 미화는 여전하다.      0\n",
              "...    ...                                      ...    ...\n",
              "4995  4996                 좋은 배우들로 3류영화를 찍은 안타까운 영화      0\n",
              "4996  4997   진짜 드럽게 재미없다 에드워드 호퍼 그림에 배경 빼고는 볼게 아닌영화      0\n",
              "4997  4998                가장 실망스러운 영화.. 지금까지 본영화중..      0\n",
              "4998  4999          이런 평점 테러, 네이버에서 좀 막아야 하는 것 아닌가?      1\n",
              "4999  5000      여주인공이 전작에서는 귀여웠는데, 여기선 완전 망했네, 실망이다      0\n",
              "\n",
              "[5000 rows x 3 columns]"
            ],
            "text/html": [
              "\n",
              "  <div id=\"df-c918795e-ab27-4dc7-805a-02ef09e6c383\">\n",
              "    <div class=\"colab-df-container\">\n",
              "      <div>\n",
              "<style scoped>\n",
              "    .dataframe tbody tr th:only-of-type {\n",
              "        vertical-align: middle;\n",
              "    }\n",
              "\n",
              "    .dataframe tbody tr th {\n",
              "        vertical-align: top;\n",
              "    }\n",
              "\n",
              "    .dataframe thead th {\n",
              "        text-align: right;\n",
              "    }\n",
              "</style>\n",
              "<table border=\"1\" class=\"dataframe\">\n",
              "  <thead>\n",
              "    <tr style=\"text-align: right;\">\n",
              "      <th></th>\n",
              "      <th>id</th>\n",
              "      <th>document</th>\n",
              "      <th>label</th>\n",
              "    </tr>\n",
              "  </thead>\n",
              "  <tbody>\n",
              "    <tr>\n",
              "      <th>0</th>\n",
              "      <td>1</td>\n",
              "      <td>영상이나 음악이 이쁘다 해도 미화시킨 불륜일뿐</td>\n",
              "      <td>0</td>\n",
              "    </tr>\n",
              "    <tr>\n",
              "      <th>1</th>\n",
              "      <td>2</td>\n",
              "      <td>히치콕이 이 영화를 봤다면 분명 박수를 쳤을듯...</td>\n",
              "      <td>1</td>\n",
              "    </tr>\n",
              "    <tr>\n",
              "      <th>2</th>\n",
              "      <td>3</td>\n",
              "      <td>괜찮은 음악영화가 또 나왔군요!!! 따뜻한 겨울이 될 것 같아요~</td>\n",
              "      <td>1</td>\n",
              "    </tr>\n",
              "    <tr>\n",
              "      <th>3</th>\n",
              "      <td>4</td>\n",
              "      <td>아무래도 20년도지난작품이라 지금보기는너무유치하다</td>\n",
              "      <td>0</td>\n",
              "    </tr>\n",
              "    <tr>\n",
              "      <th>4</th>\n",
              "      <td>5</td>\n",
              "      <td>지금까지의 영화들이 그랬듯. 이 영화역시 일본에 대한 미화는 여전하다.</td>\n",
              "      <td>0</td>\n",
              "    </tr>\n",
              "    <tr>\n",
              "      <th>...</th>\n",
              "      <td>...</td>\n",
              "      <td>...</td>\n",
              "      <td>...</td>\n",
              "    </tr>\n",
              "    <tr>\n",
              "      <th>4995</th>\n",
              "      <td>4996</td>\n",
              "      <td>좋은 배우들로 3류영화를 찍은 안타까운 영화</td>\n",
              "      <td>0</td>\n",
              "    </tr>\n",
              "    <tr>\n",
              "      <th>4996</th>\n",
              "      <td>4997</td>\n",
              "      <td>진짜 드럽게 재미없다 에드워드 호퍼 그림에 배경 빼고는 볼게 아닌영화</td>\n",
              "      <td>0</td>\n",
              "    </tr>\n",
              "    <tr>\n",
              "      <th>4997</th>\n",
              "      <td>4998</td>\n",
              "      <td>가장 실망스러운 영화.. 지금까지 본영화중..</td>\n",
              "      <td>0</td>\n",
              "    </tr>\n",
              "    <tr>\n",
              "      <th>4998</th>\n",
              "      <td>4999</td>\n",
              "      <td>이런 평점 테러, 네이버에서 좀 막아야 하는 것 아닌가?</td>\n",
              "      <td>1</td>\n",
              "    </tr>\n",
              "    <tr>\n",
              "      <th>4999</th>\n",
              "      <td>5000</td>\n",
              "      <td>여주인공이 전작에서는 귀여웠는데, 여기선 완전 망했네, 실망이다</td>\n",
              "      <td>0</td>\n",
              "    </tr>\n",
              "  </tbody>\n",
              "</table>\n",
              "<p>5000 rows × 3 columns</p>\n",
              "</div>\n",
              "      <button class=\"colab-df-convert\" onclick=\"convertToInteractive('df-c918795e-ab27-4dc7-805a-02ef09e6c383')\"\n",
              "              title=\"Convert this dataframe to an interactive table.\"\n",
              "              style=\"display:none;\">\n",
              "        \n",
              "  <svg xmlns=\"http://www.w3.org/2000/svg\" height=\"24px\"viewBox=\"0 0 24 24\"\n",
              "       width=\"24px\">\n",
              "    <path d=\"M0 0h24v24H0V0z\" fill=\"none\"/>\n",
              "    <path d=\"M18.56 5.44l.94 2.06.94-2.06 2.06-.94-2.06-.94-.94-2.06-.94 2.06-2.06.94zm-11 1L8.5 8.5l.94-2.06 2.06-.94-2.06-.94L8.5 2.5l-.94 2.06-2.06.94zm10 10l.94 2.06.94-2.06 2.06-.94-2.06-.94-.94-2.06-.94 2.06-2.06.94z\"/><path d=\"M17.41 7.96l-1.37-1.37c-.4-.4-.92-.59-1.43-.59-.52 0-1.04.2-1.43.59L10.3 9.45l-7.72 7.72c-.78.78-.78 2.05 0 2.83L4 21.41c.39.39.9.59 1.41.59.51 0 1.02-.2 1.41-.59l7.78-7.78 2.81-2.81c.8-.78.8-2.07 0-2.86zM5.41 20L4 18.59l7.72-7.72 1.47 1.35L5.41 20z\"/>\n",
              "  </svg>\n",
              "      </button>\n",
              "      \n",
              "  <style>\n",
              "    .colab-df-container {\n",
              "      display:flex;\n",
              "      flex-wrap:wrap;\n",
              "      gap: 12px;\n",
              "    }\n",
              "\n",
              "    .colab-df-convert {\n",
              "      background-color: #E8F0FE;\n",
              "      border: none;\n",
              "      border-radius: 50%;\n",
              "      cursor: pointer;\n",
              "      display: none;\n",
              "      fill: #1967D2;\n",
              "      height: 32px;\n",
              "      padding: 0 0 0 0;\n",
              "      width: 32px;\n",
              "    }\n",
              "\n",
              "    .colab-df-convert:hover {\n",
              "      background-color: #E2EBFA;\n",
              "      box-shadow: 0px 1px 2px rgba(60, 64, 67, 0.3), 0px 1px 3px 1px rgba(60, 64, 67, 0.15);\n",
              "      fill: #174EA6;\n",
              "    }\n",
              "\n",
              "    [theme=dark] .colab-df-convert {\n",
              "      background-color: #3B4455;\n",
              "      fill: #D2E3FC;\n",
              "    }\n",
              "\n",
              "    [theme=dark] .colab-df-convert:hover {\n",
              "      background-color: #434B5C;\n",
              "      box-shadow: 0px 1px 3px 1px rgba(0, 0, 0, 0.15);\n",
              "      filter: drop-shadow(0px 1px 2px rgba(0, 0, 0, 0.3));\n",
              "      fill: #FFFFFF;\n",
              "    }\n",
              "  </style>\n",
              "\n",
              "      <script>\n",
              "        const buttonEl =\n",
              "          document.querySelector('#df-c918795e-ab27-4dc7-805a-02ef09e6c383 button.colab-df-convert');\n",
              "        buttonEl.style.display =\n",
              "          google.colab.kernel.accessAllowed ? 'block' : 'none';\n",
              "\n",
              "        async function convertToInteractive(key) {\n",
              "          const element = document.querySelector('#df-c918795e-ab27-4dc7-805a-02ef09e6c383');\n",
              "          const dataTable =\n",
              "            await google.colab.kernel.invokeFunction('convertToInteractive',\n",
              "                                                     [key], {});\n",
              "          if (!dataTable) return;\n",
              "\n",
              "          const docLinkHtml = 'Like what you see? Visit the ' +\n",
              "            '<a target=\"_blank\" href=https://colab.research.google.com/notebooks/data_table.ipynb>data table notebook</a>'\n",
              "            + ' to learn more about interactive tables.';\n",
              "          element.innerHTML = '';\n",
              "          dataTable['output_type'] = 'display_data';\n",
              "          await google.colab.output.renderOutput(dataTable, element);\n",
              "          const docLink = document.createElement('div');\n",
              "          docLink.innerHTML = docLinkHtml;\n",
              "          element.appendChild(docLink);\n",
              "        }\n",
              "      </script>\n",
              "    </div>\n",
              "  </div>\n",
              "  "
            ]
          },
          "metadata": {},
          "execution_count": 43
        }
      ],
      "source": [
        "data = pd.read_csv('/content/drive/MyDrive/Ybigta_summer/KoNLPy/train (1).csv') # train 데이터 불러오기\n",
        "data # 데이터 확인하기: 긍정인지 부정인지 label이 되어 있음"
      ]
    },
    {
      "cell_type": "code",
      "execution_count": null,
      "metadata": {
        "id": "bGlSZrSRxzYI",
        "colab": {
          "base_uri": "https://localhost:8080/"
        },
        "outputId": "2b98c221-b1c2-4caa-f519-95de7049760f"
      },
      "outputs": [
        {
          "output_type": "execute_result",
          "data": {
            "text/plain": [
              "id          0\n",
              "document    0\n",
              "label       0\n",
              "dtype: int64"
            ]
          },
          "metadata": {},
          "execution_count": 44
        }
      ],
      "source": [
        "data.isna().sum() # 결측치 확인"
      ]
    },
    {
      "cell_type": "markdown",
      "metadata": {
        "id": "rbSsR-e8xzYO"
      },
      "source": [
        "### 학습/검증셋 분리하기\n",
        "\n",
        "모델링 후 성능을 검증하기 위해 학습셋과 검증셋으로 train 데이터를 나눠줍니다."
      ]
    },
    {
      "cell_type": "code",
      "execution_count": null,
      "metadata": {
        "id": "rQ-PrYtXxzYR"
      },
      "outputs": [],
      "source": [
        "from sklearn.model_selection import train_test_split\n",
        "\n",
        "train, val = train_test_split(data)\n",
        "train.reset_index(inplace=True) # 전처리 과정에서 데이터가 뒤섞이지 않도록 인덱스를 초기화해주었습니다.\n",
        "val.reset_index(inplace=True)"
      ]
    },
    {
      "cell_type": "code",
      "execution_count": null,
      "metadata": {
        "id": "6yoxgB2CxzYT",
        "colab": {
          "base_uri": "https://localhost:8080/",
          "height": 468
        },
        "outputId": "d440099b-bd6e-41d0-b80b-63983f291ee2"
      },
      "outputs": [
        {
          "output_type": "execute_result",
          "data": {
            "text/plain": [
              "      index    id                                    document  label\n",
              "0      4186  4187                          지금까지 만나본 최고 드라마...      1\n",
              "1      2188  2189  노출을 하려면 제대로 하던가... 모자이크를 하던가.. 보는 내가 '민망해'      0\n",
              "2      2963  2964                         엘렌 페이지에 빠진다 화목한 주노네      1\n",
              "3      1528  1529                            별 없는건할수없나 1점도아까움      0\n",
              "4      4971  4972                   사투리 아줌마! 대박 ㅎㅎㅎ 재밌당 은나아~~      1\n",
              "...     ...   ...                                         ...    ...\n",
              "3745   4224  4225                  우리나라의 세븐데이즈랑 비슷할것같은데 재밌겠다ㅎ      1\n",
              "3746   3001  3002       이걸 만든 자원과 자본, 시간, 인력, 기술에게 미안해지는 영화..      0\n",
              "3747   1033  1034   컨트리송,미국민요,CCM, 명배우연기와 함께 잔잔한 감동을 주는 좋은 영화      1\n",
              "3748   3279  3280      벌써30년이되어가는영화네요 그런데 아직도 제목만 들어도 가슴이 찡해요      1\n",
              "3749   1118  1119         여운이 있는 영화. 진지한 연기와 예상을 뒤엎는 전개가 좋았다.      1\n",
              "\n",
              "[3750 rows x 4 columns]"
            ],
            "text/html": [
              "\n",
              "  <div id=\"df-17c237ac-8a90-450f-9a17-e30a172d2c5d\">\n",
              "    <div class=\"colab-df-container\">\n",
              "      <div>\n",
              "<style scoped>\n",
              "    .dataframe tbody tr th:only-of-type {\n",
              "        vertical-align: middle;\n",
              "    }\n",
              "\n",
              "    .dataframe tbody tr th {\n",
              "        vertical-align: top;\n",
              "    }\n",
              "\n",
              "    .dataframe thead th {\n",
              "        text-align: right;\n",
              "    }\n",
              "</style>\n",
              "<table border=\"1\" class=\"dataframe\">\n",
              "  <thead>\n",
              "    <tr style=\"text-align: right;\">\n",
              "      <th></th>\n",
              "      <th>index</th>\n",
              "      <th>id</th>\n",
              "      <th>document</th>\n",
              "      <th>label</th>\n",
              "    </tr>\n",
              "  </thead>\n",
              "  <tbody>\n",
              "    <tr>\n",
              "      <th>0</th>\n",
              "      <td>4186</td>\n",
              "      <td>4187</td>\n",
              "      <td>지금까지 만나본 최고 드라마...</td>\n",
              "      <td>1</td>\n",
              "    </tr>\n",
              "    <tr>\n",
              "      <th>1</th>\n",
              "      <td>2188</td>\n",
              "      <td>2189</td>\n",
              "      <td>노출을 하려면 제대로 하던가... 모자이크를 하던가.. 보는 내가 '민망해'</td>\n",
              "      <td>0</td>\n",
              "    </tr>\n",
              "    <tr>\n",
              "      <th>2</th>\n",
              "      <td>2963</td>\n",
              "      <td>2964</td>\n",
              "      <td>엘렌 페이지에 빠진다 화목한 주노네</td>\n",
              "      <td>1</td>\n",
              "    </tr>\n",
              "    <tr>\n",
              "      <th>3</th>\n",
              "      <td>1528</td>\n",
              "      <td>1529</td>\n",
              "      <td>별 없는건할수없나 1점도아까움</td>\n",
              "      <td>0</td>\n",
              "    </tr>\n",
              "    <tr>\n",
              "      <th>4</th>\n",
              "      <td>4971</td>\n",
              "      <td>4972</td>\n",
              "      <td>사투리 아줌마! 대박 ㅎㅎㅎ 재밌당 은나아~~</td>\n",
              "      <td>1</td>\n",
              "    </tr>\n",
              "    <tr>\n",
              "      <th>...</th>\n",
              "      <td>...</td>\n",
              "      <td>...</td>\n",
              "      <td>...</td>\n",
              "      <td>...</td>\n",
              "    </tr>\n",
              "    <tr>\n",
              "      <th>3745</th>\n",
              "      <td>4224</td>\n",
              "      <td>4225</td>\n",
              "      <td>우리나라의 세븐데이즈랑 비슷할것같은데 재밌겠다ㅎ</td>\n",
              "      <td>1</td>\n",
              "    </tr>\n",
              "    <tr>\n",
              "      <th>3746</th>\n",
              "      <td>3001</td>\n",
              "      <td>3002</td>\n",
              "      <td>이걸 만든 자원과 자본, 시간, 인력, 기술에게 미안해지는 영화..</td>\n",
              "      <td>0</td>\n",
              "    </tr>\n",
              "    <tr>\n",
              "      <th>3747</th>\n",
              "      <td>1033</td>\n",
              "      <td>1034</td>\n",
              "      <td>컨트리송,미국민요,CCM, 명배우연기와 함께 잔잔한 감동을 주는 좋은 영화</td>\n",
              "      <td>1</td>\n",
              "    </tr>\n",
              "    <tr>\n",
              "      <th>3748</th>\n",
              "      <td>3279</td>\n",
              "      <td>3280</td>\n",
              "      <td>벌써30년이되어가는영화네요 그런데 아직도 제목만 들어도 가슴이 찡해요</td>\n",
              "      <td>1</td>\n",
              "    </tr>\n",
              "    <tr>\n",
              "      <th>3749</th>\n",
              "      <td>1118</td>\n",
              "      <td>1119</td>\n",
              "      <td>여운이 있는 영화. 진지한 연기와 예상을 뒤엎는 전개가 좋았다.</td>\n",
              "      <td>1</td>\n",
              "    </tr>\n",
              "  </tbody>\n",
              "</table>\n",
              "<p>3750 rows × 4 columns</p>\n",
              "</div>\n",
              "      <button class=\"colab-df-convert\" onclick=\"convertToInteractive('df-17c237ac-8a90-450f-9a17-e30a172d2c5d')\"\n",
              "              title=\"Convert this dataframe to an interactive table.\"\n",
              "              style=\"display:none;\">\n",
              "        \n",
              "  <svg xmlns=\"http://www.w3.org/2000/svg\" height=\"24px\"viewBox=\"0 0 24 24\"\n",
              "       width=\"24px\">\n",
              "    <path d=\"M0 0h24v24H0V0z\" fill=\"none\"/>\n",
              "    <path d=\"M18.56 5.44l.94 2.06.94-2.06 2.06-.94-2.06-.94-.94-2.06-.94 2.06-2.06.94zm-11 1L8.5 8.5l.94-2.06 2.06-.94-2.06-.94L8.5 2.5l-.94 2.06-2.06.94zm10 10l.94 2.06.94-2.06 2.06-.94-2.06-.94-.94-2.06-.94 2.06-2.06.94z\"/><path d=\"M17.41 7.96l-1.37-1.37c-.4-.4-.92-.59-1.43-.59-.52 0-1.04.2-1.43.59L10.3 9.45l-7.72 7.72c-.78.78-.78 2.05 0 2.83L4 21.41c.39.39.9.59 1.41.59.51 0 1.02-.2 1.41-.59l7.78-7.78 2.81-2.81c.8-.78.8-2.07 0-2.86zM5.41 20L4 18.59l7.72-7.72 1.47 1.35L5.41 20z\"/>\n",
              "  </svg>\n",
              "      </button>\n",
              "      \n",
              "  <style>\n",
              "    .colab-df-container {\n",
              "      display:flex;\n",
              "      flex-wrap:wrap;\n",
              "      gap: 12px;\n",
              "    }\n",
              "\n",
              "    .colab-df-convert {\n",
              "      background-color: #E8F0FE;\n",
              "      border: none;\n",
              "      border-radius: 50%;\n",
              "      cursor: pointer;\n",
              "      display: none;\n",
              "      fill: #1967D2;\n",
              "      height: 32px;\n",
              "      padding: 0 0 0 0;\n",
              "      width: 32px;\n",
              "    }\n",
              "\n",
              "    .colab-df-convert:hover {\n",
              "      background-color: #E2EBFA;\n",
              "      box-shadow: 0px 1px 2px rgba(60, 64, 67, 0.3), 0px 1px 3px 1px rgba(60, 64, 67, 0.15);\n",
              "      fill: #174EA6;\n",
              "    }\n",
              "\n",
              "    [theme=dark] .colab-df-convert {\n",
              "      background-color: #3B4455;\n",
              "      fill: #D2E3FC;\n",
              "    }\n",
              "\n",
              "    [theme=dark] .colab-df-convert:hover {\n",
              "      background-color: #434B5C;\n",
              "      box-shadow: 0px 1px 3px 1px rgba(0, 0, 0, 0.15);\n",
              "      filter: drop-shadow(0px 1px 2px rgba(0, 0, 0, 0.3));\n",
              "      fill: #FFFFFF;\n",
              "    }\n",
              "  </style>\n",
              "\n",
              "      <script>\n",
              "        const buttonEl =\n",
              "          document.querySelector('#df-17c237ac-8a90-450f-9a17-e30a172d2c5d button.colab-df-convert');\n",
              "        buttonEl.style.display =\n",
              "          google.colab.kernel.accessAllowed ? 'block' : 'none';\n",
              "\n",
              "        async function convertToInteractive(key) {\n",
              "          const element = document.querySelector('#df-17c237ac-8a90-450f-9a17-e30a172d2c5d');\n",
              "          const dataTable =\n",
              "            await google.colab.kernel.invokeFunction('convertToInteractive',\n",
              "                                                     [key], {});\n",
              "          if (!dataTable) return;\n",
              "\n",
              "          const docLinkHtml = 'Like what you see? Visit the ' +\n",
              "            '<a target=\"_blank\" href=https://colab.research.google.com/notebooks/data_table.ipynb>data table notebook</a>'\n",
              "            + ' to learn more about interactive tables.';\n",
              "          element.innerHTML = '';\n",
              "          dataTable['output_type'] = 'display_data';\n",
              "          await google.colab.output.renderOutput(dataTable, element);\n",
              "          const docLink = document.createElement('div');\n",
              "          docLink.innerHTML = docLinkHtml;\n",
              "          element.appendChild(docLink);\n",
              "        }\n",
              "      </script>\n",
              "    </div>\n",
              "  </div>\n",
              "  "
            ]
          },
          "metadata": {},
          "execution_count": 46
        }
      ],
      "source": [
        "train # train 셋 확인"
      ]
    },
    {
      "cell_type": "markdown",
      "metadata": {
        "id": "KdPHRQ5NxzYU"
      },
      "source": [
        "### 데이터 정제하기\n",
        "\n",
        "\n",
        "가장 먼저 한글과 공백만 남긴 뒤 preprocessed라는 컬럼으로 저장하겠습니다."
      ]
    },
    {
      "cell_type": "code",
      "execution_count": null,
      "metadata": {
        "id": "GugwWi7bxzYV",
        "outputId": "f978d811-46e4-48e4-d72d-df8b0f4f883b",
        "colab": {
          "base_uri": "https://localhost:8080/",
          "height": 285
        }
      },
      "outputs": [
        {
          "output_type": "execute_result",
          "data": {
            "text/plain": [
              "   index    id                                    document  label  \\\n",
              "0   4186  4187                          지금까지 만나본 최고 드라마...      1   \n",
              "1   2188  2189  노출을 하려면 제대로 하던가... 모자이크를 하던가.. 보는 내가 '민망해'      0   \n",
              "2   2963  2964                         엘렌 페이지에 빠진다 화목한 주노네      1   \n",
              "3   1528  1529                            별 없는건할수없나 1점도아까움      0   \n",
              "4   4971  4972                   사투리 아줌마! 대박 ㅎㅎㅎ 재밌당 은나아~~      1   \n",
              "\n",
              "                          preprocessed  \n",
              "0                      지금까지 만나본 최고 드라마  \n",
              "1  노출을 하려면 제대로 하던가 모자이크를 하던가 보는 내가 민망해  \n",
              "2                  엘렌 페이지에 빠진다 화목한 주노네  \n",
              "3                      별 없는건할수없나 점도아까움  \n",
              "4               사투리 아줌마 대박 ㅎㅎㅎ 재밌당 은나아  "
            ],
            "text/html": [
              "\n",
              "  <div id=\"df-77819907-2889-42d3-af03-a9b8a297d069\">\n",
              "    <div class=\"colab-df-container\">\n",
              "      <div>\n",
              "<style scoped>\n",
              "    .dataframe tbody tr th:only-of-type {\n",
              "        vertical-align: middle;\n",
              "    }\n",
              "\n",
              "    .dataframe tbody tr th {\n",
              "        vertical-align: top;\n",
              "    }\n",
              "\n",
              "    .dataframe thead th {\n",
              "        text-align: right;\n",
              "    }\n",
              "</style>\n",
              "<table border=\"1\" class=\"dataframe\">\n",
              "  <thead>\n",
              "    <tr style=\"text-align: right;\">\n",
              "      <th></th>\n",
              "      <th>index</th>\n",
              "      <th>id</th>\n",
              "      <th>document</th>\n",
              "      <th>label</th>\n",
              "      <th>preprocessed</th>\n",
              "    </tr>\n",
              "  </thead>\n",
              "  <tbody>\n",
              "    <tr>\n",
              "      <th>0</th>\n",
              "      <td>4186</td>\n",
              "      <td>4187</td>\n",
              "      <td>지금까지 만나본 최고 드라마...</td>\n",
              "      <td>1</td>\n",
              "      <td>지금까지 만나본 최고 드라마</td>\n",
              "    </tr>\n",
              "    <tr>\n",
              "      <th>1</th>\n",
              "      <td>2188</td>\n",
              "      <td>2189</td>\n",
              "      <td>노출을 하려면 제대로 하던가... 모자이크를 하던가.. 보는 내가 '민망해'</td>\n",
              "      <td>0</td>\n",
              "      <td>노출을 하려면 제대로 하던가 모자이크를 하던가 보는 내가 민망해</td>\n",
              "    </tr>\n",
              "    <tr>\n",
              "      <th>2</th>\n",
              "      <td>2963</td>\n",
              "      <td>2964</td>\n",
              "      <td>엘렌 페이지에 빠진다 화목한 주노네</td>\n",
              "      <td>1</td>\n",
              "      <td>엘렌 페이지에 빠진다 화목한 주노네</td>\n",
              "    </tr>\n",
              "    <tr>\n",
              "      <th>3</th>\n",
              "      <td>1528</td>\n",
              "      <td>1529</td>\n",
              "      <td>별 없는건할수없나 1점도아까움</td>\n",
              "      <td>0</td>\n",
              "      <td>별 없는건할수없나 점도아까움</td>\n",
              "    </tr>\n",
              "    <tr>\n",
              "      <th>4</th>\n",
              "      <td>4971</td>\n",
              "      <td>4972</td>\n",
              "      <td>사투리 아줌마! 대박 ㅎㅎㅎ 재밌당 은나아~~</td>\n",
              "      <td>1</td>\n",
              "      <td>사투리 아줌마 대박 ㅎㅎㅎ 재밌당 은나아</td>\n",
              "    </tr>\n",
              "  </tbody>\n",
              "</table>\n",
              "</div>\n",
              "      <button class=\"colab-df-convert\" onclick=\"convertToInteractive('df-77819907-2889-42d3-af03-a9b8a297d069')\"\n",
              "              title=\"Convert this dataframe to an interactive table.\"\n",
              "              style=\"display:none;\">\n",
              "        \n",
              "  <svg xmlns=\"http://www.w3.org/2000/svg\" height=\"24px\"viewBox=\"0 0 24 24\"\n",
              "       width=\"24px\">\n",
              "    <path d=\"M0 0h24v24H0V0z\" fill=\"none\"/>\n",
              "    <path d=\"M18.56 5.44l.94 2.06.94-2.06 2.06-.94-2.06-.94-.94-2.06-.94 2.06-2.06.94zm-11 1L8.5 8.5l.94-2.06 2.06-.94-2.06-.94L8.5 2.5l-.94 2.06-2.06.94zm10 10l.94 2.06.94-2.06 2.06-.94-2.06-.94-.94-2.06-.94 2.06-2.06.94z\"/><path d=\"M17.41 7.96l-1.37-1.37c-.4-.4-.92-.59-1.43-.59-.52 0-1.04.2-1.43.59L10.3 9.45l-7.72 7.72c-.78.78-.78 2.05 0 2.83L4 21.41c.39.39.9.59 1.41.59.51 0 1.02-.2 1.41-.59l7.78-7.78 2.81-2.81c.8-.78.8-2.07 0-2.86zM5.41 20L4 18.59l7.72-7.72 1.47 1.35L5.41 20z\"/>\n",
              "  </svg>\n",
              "      </button>\n",
              "      \n",
              "  <style>\n",
              "    .colab-df-container {\n",
              "      display:flex;\n",
              "      flex-wrap:wrap;\n",
              "      gap: 12px;\n",
              "    }\n",
              "\n",
              "    .colab-df-convert {\n",
              "      background-color: #E8F0FE;\n",
              "      border: none;\n",
              "      border-radius: 50%;\n",
              "      cursor: pointer;\n",
              "      display: none;\n",
              "      fill: #1967D2;\n",
              "      height: 32px;\n",
              "      padding: 0 0 0 0;\n",
              "      width: 32px;\n",
              "    }\n",
              "\n",
              "    .colab-df-convert:hover {\n",
              "      background-color: #E2EBFA;\n",
              "      box-shadow: 0px 1px 2px rgba(60, 64, 67, 0.3), 0px 1px 3px 1px rgba(60, 64, 67, 0.15);\n",
              "      fill: #174EA6;\n",
              "    }\n",
              "\n",
              "    [theme=dark] .colab-df-convert {\n",
              "      background-color: #3B4455;\n",
              "      fill: #D2E3FC;\n",
              "    }\n",
              "\n",
              "    [theme=dark] .colab-df-convert:hover {\n",
              "      background-color: #434B5C;\n",
              "      box-shadow: 0px 1px 3px 1px rgba(0, 0, 0, 0.15);\n",
              "      filter: drop-shadow(0px 1px 2px rgba(0, 0, 0, 0.3));\n",
              "      fill: #FFFFFF;\n",
              "    }\n",
              "  </style>\n",
              "\n",
              "      <script>\n",
              "        const buttonEl =\n",
              "          document.querySelector('#df-77819907-2889-42d3-af03-a9b8a297d069 button.colab-df-convert');\n",
              "        buttonEl.style.display =\n",
              "          google.colab.kernel.accessAllowed ? 'block' : 'none';\n",
              "\n",
              "        async function convertToInteractive(key) {\n",
              "          const element = document.querySelector('#df-77819907-2889-42d3-af03-a9b8a297d069');\n",
              "          const dataTable =\n",
              "            await google.colab.kernel.invokeFunction('convertToInteractive',\n",
              "                                                     [key], {});\n",
              "          if (!dataTable) return;\n",
              "\n",
              "          const docLinkHtml = 'Like what you see? Visit the ' +\n",
              "            '<a target=\"_blank\" href=https://colab.research.google.com/notebooks/data_table.ipynb>data table notebook</a>'\n",
              "            + ' to learn more about interactive tables.';\n",
              "          element.innerHTML = '';\n",
              "          dataTable['output_type'] = 'display_data';\n",
              "          await google.colab.output.renderOutput(dataTable, element);\n",
              "          const docLink = document.createElement('div');\n",
              "          docLink.innerHTML = docLinkHtml;\n",
              "          element.appendChild(docLink);\n",
              "        }\n",
              "      </script>\n",
              "    </div>\n",
              "  </div>\n",
              "  "
            ]
          },
          "metadata": {},
          "execution_count": 47
        }
      ],
      "source": [
        "train['preprocessed'] = train['document'].str.replace(\"[^ㄱ-ㅎㅏ-ㅣ가-힣 ]\",\"\") # 한글과 공백을 제외(^)하고 모두 제거\n",
        "train[:5] # 데이터 확인"
      ]
    },
    {
      "cell_type": "markdown",
      "metadata": {
        "id": "kkXkev1txzYX"
      },
      "source": [
        "추가적으로 혹시 모를 다중공백도 제거해줍니다."
      ]
    },
    {
      "cell_type": "code",
      "execution_count": null,
      "metadata": {
        "id": "8dSULak6xzYY",
        "outputId": "c8a64c25-c4fa-4fc9-d624-1e7ae2081a86",
        "colab": {
          "base_uri": "https://localhost:8080/",
          "height": 285
        }
      },
      "outputs": [
        {
          "output_type": "execute_result",
          "data": {
            "text/plain": [
              "   index    id                                    document  label  \\\n",
              "0   4186  4187                          지금까지 만나본 최고 드라마...      1   \n",
              "1   2188  2189  노출을 하려면 제대로 하던가... 모자이크를 하던가.. 보는 내가 '민망해'      0   \n",
              "2   2963  2964                         엘렌 페이지에 빠진다 화목한 주노네      1   \n",
              "3   1528  1529                            별 없는건할수없나 1점도아까움      0   \n",
              "4   4971  4972                   사투리 아줌마! 대박 ㅎㅎㅎ 재밌당 은나아~~      1   \n",
              "\n",
              "                          preprocessed  \n",
              "0                      지금까지 만나본 최고 드라마  \n",
              "1  노출을 하려면 제대로 하던가 모자이크를 하던가 보는 내가 민망해  \n",
              "2                  엘렌 페이지에 빠진다 화목한 주노네  \n",
              "3                      별 없는건할수없나 점도아까움  \n",
              "4               사투리 아줌마 대박 ㅎㅎㅎ 재밌당 은나아  "
            ],
            "text/html": [
              "\n",
              "  <div id=\"df-0b20a62e-a0f0-4e40-b9bd-b1d8a4443329\">\n",
              "    <div class=\"colab-df-container\">\n",
              "      <div>\n",
              "<style scoped>\n",
              "    .dataframe tbody tr th:only-of-type {\n",
              "        vertical-align: middle;\n",
              "    }\n",
              "\n",
              "    .dataframe tbody tr th {\n",
              "        vertical-align: top;\n",
              "    }\n",
              "\n",
              "    .dataframe thead th {\n",
              "        text-align: right;\n",
              "    }\n",
              "</style>\n",
              "<table border=\"1\" class=\"dataframe\">\n",
              "  <thead>\n",
              "    <tr style=\"text-align: right;\">\n",
              "      <th></th>\n",
              "      <th>index</th>\n",
              "      <th>id</th>\n",
              "      <th>document</th>\n",
              "      <th>label</th>\n",
              "      <th>preprocessed</th>\n",
              "    </tr>\n",
              "  </thead>\n",
              "  <tbody>\n",
              "    <tr>\n",
              "      <th>0</th>\n",
              "      <td>4186</td>\n",
              "      <td>4187</td>\n",
              "      <td>지금까지 만나본 최고 드라마...</td>\n",
              "      <td>1</td>\n",
              "      <td>지금까지 만나본 최고 드라마</td>\n",
              "    </tr>\n",
              "    <tr>\n",
              "      <th>1</th>\n",
              "      <td>2188</td>\n",
              "      <td>2189</td>\n",
              "      <td>노출을 하려면 제대로 하던가... 모자이크를 하던가.. 보는 내가 '민망해'</td>\n",
              "      <td>0</td>\n",
              "      <td>노출을 하려면 제대로 하던가 모자이크를 하던가 보는 내가 민망해</td>\n",
              "    </tr>\n",
              "    <tr>\n",
              "      <th>2</th>\n",
              "      <td>2963</td>\n",
              "      <td>2964</td>\n",
              "      <td>엘렌 페이지에 빠진다 화목한 주노네</td>\n",
              "      <td>1</td>\n",
              "      <td>엘렌 페이지에 빠진다 화목한 주노네</td>\n",
              "    </tr>\n",
              "    <tr>\n",
              "      <th>3</th>\n",
              "      <td>1528</td>\n",
              "      <td>1529</td>\n",
              "      <td>별 없는건할수없나 1점도아까움</td>\n",
              "      <td>0</td>\n",
              "      <td>별 없는건할수없나 점도아까움</td>\n",
              "    </tr>\n",
              "    <tr>\n",
              "      <th>4</th>\n",
              "      <td>4971</td>\n",
              "      <td>4972</td>\n",
              "      <td>사투리 아줌마! 대박 ㅎㅎㅎ 재밌당 은나아~~</td>\n",
              "      <td>1</td>\n",
              "      <td>사투리 아줌마 대박 ㅎㅎㅎ 재밌당 은나아</td>\n",
              "    </tr>\n",
              "  </tbody>\n",
              "</table>\n",
              "</div>\n",
              "      <button class=\"colab-df-convert\" onclick=\"convertToInteractive('df-0b20a62e-a0f0-4e40-b9bd-b1d8a4443329')\"\n",
              "              title=\"Convert this dataframe to an interactive table.\"\n",
              "              style=\"display:none;\">\n",
              "        \n",
              "  <svg xmlns=\"http://www.w3.org/2000/svg\" height=\"24px\"viewBox=\"0 0 24 24\"\n",
              "       width=\"24px\">\n",
              "    <path d=\"M0 0h24v24H0V0z\" fill=\"none\"/>\n",
              "    <path d=\"M18.56 5.44l.94 2.06.94-2.06 2.06-.94-2.06-.94-.94-2.06-.94 2.06-2.06.94zm-11 1L8.5 8.5l.94-2.06 2.06-.94-2.06-.94L8.5 2.5l-.94 2.06-2.06.94zm10 10l.94 2.06.94-2.06 2.06-.94-2.06-.94-.94-2.06-.94 2.06-2.06.94z\"/><path d=\"M17.41 7.96l-1.37-1.37c-.4-.4-.92-.59-1.43-.59-.52 0-1.04.2-1.43.59L10.3 9.45l-7.72 7.72c-.78.78-.78 2.05 0 2.83L4 21.41c.39.39.9.59 1.41.59.51 0 1.02-.2 1.41-.59l7.78-7.78 2.81-2.81c.8-.78.8-2.07 0-2.86zM5.41 20L4 18.59l7.72-7.72 1.47 1.35L5.41 20z\"/>\n",
              "  </svg>\n",
              "      </button>\n",
              "      \n",
              "  <style>\n",
              "    .colab-df-container {\n",
              "      display:flex;\n",
              "      flex-wrap:wrap;\n",
              "      gap: 12px;\n",
              "    }\n",
              "\n",
              "    .colab-df-convert {\n",
              "      background-color: #E8F0FE;\n",
              "      border: none;\n",
              "      border-radius: 50%;\n",
              "      cursor: pointer;\n",
              "      display: none;\n",
              "      fill: #1967D2;\n",
              "      height: 32px;\n",
              "      padding: 0 0 0 0;\n",
              "      width: 32px;\n",
              "    }\n",
              "\n",
              "    .colab-df-convert:hover {\n",
              "      background-color: #E2EBFA;\n",
              "      box-shadow: 0px 1px 2px rgba(60, 64, 67, 0.3), 0px 1px 3px 1px rgba(60, 64, 67, 0.15);\n",
              "      fill: #174EA6;\n",
              "    }\n",
              "\n",
              "    [theme=dark] .colab-df-convert {\n",
              "      background-color: #3B4455;\n",
              "      fill: #D2E3FC;\n",
              "    }\n",
              "\n",
              "    [theme=dark] .colab-df-convert:hover {\n",
              "      background-color: #434B5C;\n",
              "      box-shadow: 0px 1px 3px 1px rgba(0, 0, 0, 0.15);\n",
              "      filter: drop-shadow(0px 1px 2px rgba(0, 0, 0, 0.3));\n",
              "      fill: #FFFFFF;\n",
              "    }\n",
              "  </style>\n",
              "\n",
              "      <script>\n",
              "        const buttonEl =\n",
              "          document.querySelector('#df-0b20a62e-a0f0-4e40-b9bd-b1d8a4443329 button.colab-df-convert');\n",
              "        buttonEl.style.display =\n",
              "          google.colab.kernel.accessAllowed ? 'block' : 'none';\n",
              "\n",
              "        async function convertToInteractive(key) {\n",
              "          const element = document.querySelector('#df-0b20a62e-a0f0-4e40-b9bd-b1d8a4443329');\n",
              "          const dataTable =\n",
              "            await google.colab.kernel.invokeFunction('convertToInteractive',\n",
              "                                                     [key], {});\n",
              "          if (!dataTable) return;\n",
              "\n",
              "          const docLinkHtml = 'Like what you see? Visit the ' +\n",
              "            '<a target=\"_blank\" href=https://colab.research.google.com/notebooks/data_table.ipynb>data table notebook</a>'\n",
              "            + ' to learn more about interactive tables.';\n",
              "          element.innerHTML = '';\n",
              "          dataTable['output_type'] = 'display_data';\n",
              "          await google.colab.output.renderOutput(dataTable, element);\n",
              "          const docLink = document.createElement('div');\n",
              "          docLink.innerHTML = docLinkHtml;\n",
              "          element.appendChild(docLink);\n",
              "        }\n",
              "      </script>\n",
              "    </div>\n",
              "  </div>\n",
              "  "
            ]
          },
          "metadata": {},
          "execution_count": 48
        }
      ],
      "source": [
        "train['preprocessed'] = train['preprocessed'].str.replace(\" +\", \" \") # 다중 공백 제거\n",
        "train[:5] # 데이터 확인"
      ]
    },
    {
      "cell_type": "markdown",
      "metadata": {
        "id": "lC08EGCIxzYZ"
      },
      "source": [
        "### 토큰화"
      ]
    },
    {
      "cell_type": "markdown",
      "metadata": {
        "id": "GXUOomhpxzYe"
      },
      "source": [
        "#### 한국어에서의 토큰화\n",
        "\n",
        "한국어는 영어와 달리 형태소(뜻을 가진 말의 최소 단위)간의 결합으로 어절이 이루어집니다. ex) 철수 -가 책 -을 읽- -었- -다\n",
        "\n",
        "따라서 한국어 전용 형태소 분석기가 많이 존재하는데요, 이번에는 koNLPy라는 패키지의 Okt라는 형태소 분석기를 사용해보겠습니다."
      ]
    },
    {
      "cell_type": "markdown",
      "metadata": {
        "id": "4pTwnP67xzYg"
      },
      "source": [
        "이제 영화 리뷰 데이터에서 같은 방법으로 형태소 분석을 해볼까요?"
      ]
    },
    {
      "cell_type": "code",
      "source": [
        "from konlpy.tag import Okt\n",
        "\n",
        "okt = Okt()"
      ],
      "metadata": {
        "id": "ppx0qFvibpBu"
      },
      "execution_count": null,
      "outputs": []
    },
    {
      "cell_type": "code",
      "execution_count": null,
      "metadata": {
        "id": "naE0N0cIxzYg",
        "outputId": "16d537d5-b9b1-429c-a797-40deacfd899e",
        "colab": {
          "base_uri": "https://localhost:8080/",
          "height": 389
        }
      },
      "outputs": [
        {
          "output_type": "execute_result",
          "data": {
            "text/plain": [
              "   index    id                                    document  label  \\\n",
              "0   4186  4187                          지금까지 만나본 최고 드라마...      1   \n",
              "1   2188  2189  노출을 하려면 제대로 하던가... 모자이크를 하던가.. 보는 내가 '민망해'      0   \n",
              "2   2963  2964                         엘렌 페이지에 빠진다 화목한 주노네      1   \n",
              "3   1528  1529                            별 없는건할수없나 1점도아까움      0   \n",
              "4   4971  4972                   사투리 아줌마! 대박 ㅎㅎㅎ 재밌당 은나아~~      1   \n",
              "\n",
              "                          preprocessed                        tokenized_stem  \n",
              "0                      지금까지 만나본 최고 드라마                     지금 까지 만 나본 최고 드라마  \n",
              "1  노출을 하려면 제대로 하던가 모자이크를 하던가 보는 내가 민망해  노출 을 하다 제대로 하다 모자이크 를 하다 보다 내 가 민망하다  \n",
              "2                  엘렌 페이지에 빠진다 화목한 주노네                엘렌 페이지 에 빠지다 화목 한 주노 네  \n",
              "3                      별 없는건할수없나 점도아까움                   별 없다 하다 없다 점도 아깝다 움  \n",
              "4               사투리 아줌마 대박 ㅎㅎㅎ 재밌당 은나아               사투리 아줌마 대박 ㅎㅎㅎ 재밌다 은 나아  "
            ],
            "text/html": [
              "\n",
              "  <div id=\"df-04a8a879-a8c2-498a-a0d2-4950659d9273\">\n",
              "    <div class=\"colab-df-container\">\n",
              "      <div>\n",
              "<style scoped>\n",
              "    .dataframe tbody tr th:only-of-type {\n",
              "        vertical-align: middle;\n",
              "    }\n",
              "\n",
              "    .dataframe tbody tr th {\n",
              "        vertical-align: top;\n",
              "    }\n",
              "\n",
              "    .dataframe thead th {\n",
              "        text-align: right;\n",
              "    }\n",
              "</style>\n",
              "<table border=\"1\" class=\"dataframe\">\n",
              "  <thead>\n",
              "    <tr style=\"text-align: right;\">\n",
              "      <th></th>\n",
              "      <th>index</th>\n",
              "      <th>id</th>\n",
              "      <th>document</th>\n",
              "      <th>label</th>\n",
              "      <th>preprocessed</th>\n",
              "      <th>tokenized_stem</th>\n",
              "    </tr>\n",
              "  </thead>\n",
              "  <tbody>\n",
              "    <tr>\n",
              "      <th>0</th>\n",
              "      <td>4186</td>\n",
              "      <td>4187</td>\n",
              "      <td>지금까지 만나본 최고 드라마...</td>\n",
              "      <td>1</td>\n",
              "      <td>지금까지 만나본 최고 드라마</td>\n",
              "      <td>지금 까지 만 나본 최고 드라마</td>\n",
              "    </tr>\n",
              "    <tr>\n",
              "      <th>1</th>\n",
              "      <td>2188</td>\n",
              "      <td>2189</td>\n",
              "      <td>노출을 하려면 제대로 하던가... 모자이크를 하던가.. 보는 내가 '민망해'</td>\n",
              "      <td>0</td>\n",
              "      <td>노출을 하려면 제대로 하던가 모자이크를 하던가 보는 내가 민망해</td>\n",
              "      <td>노출 을 하다 제대로 하다 모자이크 를 하다 보다 내 가 민망하다</td>\n",
              "    </tr>\n",
              "    <tr>\n",
              "      <th>2</th>\n",
              "      <td>2963</td>\n",
              "      <td>2964</td>\n",
              "      <td>엘렌 페이지에 빠진다 화목한 주노네</td>\n",
              "      <td>1</td>\n",
              "      <td>엘렌 페이지에 빠진다 화목한 주노네</td>\n",
              "      <td>엘렌 페이지 에 빠지다 화목 한 주노 네</td>\n",
              "    </tr>\n",
              "    <tr>\n",
              "      <th>3</th>\n",
              "      <td>1528</td>\n",
              "      <td>1529</td>\n",
              "      <td>별 없는건할수없나 1점도아까움</td>\n",
              "      <td>0</td>\n",
              "      <td>별 없는건할수없나 점도아까움</td>\n",
              "      <td>별 없다 하다 없다 점도 아깝다 움</td>\n",
              "    </tr>\n",
              "    <tr>\n",
              "      <th>4</th>\n",
              "      <td>4971</td>\n",
              "      <td>4972</td>\n",
              "      <td>사투리 아줌마! 대박 ㅎㅎㅎ 재밌당 은나아~~</td>\n",
              "      <td>1</td>\n",
              "      <td>사투리 아줌마 대박 ㅎㅎㅎ 재밌당 은나아</td>\n",
              "      <td>사투리 아줌마 대박 ㅎㅎㅎ 재밌다 은 나아</td>\n",
              "    </tr>\n",
              "  </tbody>\n",
              "</table>\n",
              "</div>\n",
              "      <button class=\"colab-df-convert\" onclick=\"convertToInteractive('df-04a8a879-a8c2-498a-a0d2-4950659d9273')\"\n",
              "              title=\"Convert this dataframe to an interactive table.\"\n",
              "              style=\"display:none;\">\n",
              "        \n",
              "  <svg xmlns=\"http://www.w3.org/2000/svg\" height=\"24px\"viewBox=\"0 0 24 24\"\n",
              "       width=\"24px\">\n",
              "    <path d=\"M0 0h24v24H0V0z\" fill=\"none\"/>\n",
              "    <path d=\"M18.56 5.44l.94 2.06.94-2.06 2.06-.94-2.06-.94-.94-2.06-.94 2.06-2.06.94zm-11 1L8.5 8.5l.94-2.06 2.06-.94-2.06-.94L8.5 2.5l-.94 2.06-2.06.94zm10 10l.94 2.06.94-2.06 2.06-.94-2.06-.94-.94-2.06-.94 2.06-2.06.94z\"/><path d=\"M17.41 7.96l-1.37-1.37c-.4-.4-.92-.59-1.43-.59-.52 0-1.04.2-1.43.59L10.3 9.45l-7.72 7.72c-.78.78-.78 2.05 0 2.83L4 21.41c.39.39.9.59 1.41.59.51 0 1.02-.2 1.41-.59l7.78-7.78 2.81-2.81c.8-.78.8-2.07 0-2.86zM5.41 20L4 18.59l7.72-7.72 1.47 1.35L5.41 20z\"/>\n",
              "  </svg>\n",
              "      </button>\n",
              "      \n",
              "  <style>\n",
              "    .colab-df-container {\n",
              "      display:flex;\n",
              "      flex-wrap:wrap;\n",
              "      gap: 12px;\n",
              "    }\n",
              "\n",
              "    .colab-df-convert {\n",
              "      background-color: #E8F0FE;\n",
              "      border: none;\n",
              "      border-radius: 50%;\n",
              "      cursor: pointer;\n",
              "      display: none;\n",
              "      fill: #1967D2;\n",
              "      height: 32px;\n",
              "      padding: 0 0 0 0;\n",
              "      width: 32px;\n",
              "    }\n",
              "\n",
              "    .colab-df-convert:hover {\n",
              "      background-color: #E2EBFA;\n",
              "      box-shadow: 0px 1px 2px rgba(60, 64, 67, 0.3), 0px 1px 3px 1px rgba(60, 64, 67, 0.15);\n",
              "      fill: #174EA6;\n",
              "    }\n",
              "\n",
              "    [theme=dark] .colab-df-convert {\n",
              "      background-color: #3B4455;\n",
              "      fill: #D2E3FC;\n",
              "    }\n",
              "\n",
              "    [theme=dark] .colab-df-convert:hover {\n",
              "      background-color: #434B5C;\n",
              "      box-shadow: 0px 1px 3px 1px rgba(0, 0, 0, 0.15);\n",
              "      filter: drop-shadow(0px 1px 2px rgba(0, 0, 0, 0.3));\n",
              "      fill: #FFFFFF;\n",
              "    }\n",
              "  </style>\n",
              "\n",
              "      <script>\n",
              "        const buttonEl =\n",
              "          document.querySelector('#df-04a8a879-a8c2-498a-a0d2-4950659d9273 button.colab-df-convert');\n",
              "        buttonEl.style.display =\n",
              "          google.colab.kernel.accessAllowed ? 'block' : 'none';\n",
              "\n",
              "        async function convertToInteractive(key) {\n",
              "          const element = document.querySelector('#df-04a8a879-a8c2-498a-a0d2-4950659d9273');\n",
              "          const dataTable =\n",
              "            await google.colab.kernel.invokeFunction('convertToInteractive',\n",
              "                                                     [key], {});\n",
              "          if (!dataTable) return;\n",
              "\n",
              "          const docLinkHtml = 'Like what you see? Visit the ' +\n",
              "            '<a target=\"_blank\" href=https://colab.research.google.com/notebooks/data_table.ipynb>data table notebook</a>'\n",
              "            + ' to learn more about interactive tables.';\n",
              "          element.innerHTML = '';\n",
              "          dataTable['output_type'] = 'display_data';\n",
              "          await google.colab.output.renderOutput(dataTable, element);\n",
              "          const docLink = document.createElement('div');\n",
              "          docLink.innerHTML = docLinkHtml;\n",
              "          element.appendChild(docLink);\n",
              "        }\n",
              "      </script>\n",
              "    </div>\n",
              "  </div>\n",
              "  "
            ]
          },
          "metadata": {},
          "execution_count": 50
        }
      ],
      "source": [
        "tokenized = [] # 데이터프레임의 한 컬럼으로 추가할 리스트\n",
        "for sentence in train['preprocessed']: # 전처리된 리뷰들을 하나씩 꺼내옵니다\n",
        "    # To do\n",
        "    tokens = okt.morphs(sentence, stem = True)# 형태소 분석 (어간 추출로 옵션 설정)\n",
        "    tokenize = \" \".join(tokens) # tokens라는 리스트 안의 형태소들을 띄어쓰기로 분리된 하나의 문자열로 join시켜줍니다.\n",
        "    tokenized.append(tokenize) # 형태소 단위로 띄어쓰기된 문자열을 최종 리스트에 추가해줍니다\n",
        "train[\"tokenized_stem\"] = pd.DataFrame(tokenized) # 리스트를 데이터프레임으로 변환해 tokenized_stem라는 컬럼명으로 추가해줍니다.\n",
        "\n",
        "train.head() # 데이터 확인"
      ]
    },
    {
      "cell_type": "markdown",
      "metadata": {
        "id": "d4O8ZttGxzYh"
      },
      "source": [
        "형태소 분석 및 어간 추출을 완료한 \"tokenized\" 컬럼이 추가되었습니다!"
      ]
    },
    {
      "cell_type": "markdown",
      "metadata": {
        "id": "CCFNmsj7xzYh"
      },
      "source": [
        "### 품사 태깅(POS Tagging)\n",
        "\n",
        "자 이제 다음 단계인 품사 태깅에 대해 알아봅시다.\n",
        "\n",
        "품사 태깅이란 주어진 텍스트를 형태소 단위로 나눈 뒤, 각 형태소에 해당 품사를 태깅하여 리스트화 하는 것입니다."
      ]
    },
    {
      "cell_type": "markdown",
      "metadata": {
        "id": "gQaS_U04xzYj"
      },
      "source": [
        "한 예시를 살펴보니 Noun, Josa, Adverb, Adjective, Verb, Suffix, Punctuation, KoreanParticle 등으로 품사가 태깅되어 하나의 리스트 형태로 반환됩니다\n",
        "\n",
        "태그되는 품사의 종류는 더 다양하니 직접 다양한 문장을 이용해 공부해보세요!\n",
        "\n",
        "okt의 pos 함수만을 이용해 토큰화와 품사 태깅을 한번에 할 수 있습니다.\n",
        "\n",
        "품사 태깅은 꼭 필요한 품사(ex. 명사)를 추출할 때 유용하게 쓰일 수 있겠네요.\n",
        "\n",
        "바로 명사를 추출해볼까요?"
      ]
    },
    {
      "cell_type": "code",
      "execution_count": null,
      "metadata": {
        "id": "yEWOrDafxzYj",
        "outputId": "f43487aa-0ace-4e28-ffde-35494f89b860",
        "colab": {
          "base_uri": "https://localhost:8080/"
        }
      },
      "outputs": [
        {
          "output_type": "stream",
          "name": "stdout",
          "text": [
            "['오늘', '코딩', '자연어', '처리', '고수']\n"
          ]
        }
      ],
      "source": [
        "print(okt.nouns(\"오늘도 열심히 재밌는 코딩을 해볼까? 같이 힘내서 자연어 처리 고수들이 됩시다! ㅎㅎ\"))"
      ]
    },
    {
      "cell_type": "markdown",
      "metadata": {
        "id": "fYpUkWnExzYk"
      },
      "source": [
        "okt의 nouns 함수를 사용해 간편하게 명사만을 추출하였습니다!\n",
        "\n",
        "이렇게 간단하게 명사만을 추출할수도 있지만, 영화 리뷰는 명사만으로 긍/부정을 판단하기 어렵기 때문에 \n",
        "\n",
        "우선 임의로 명사, 동사, 형용사, 부사를 추출하여 사용해보겠습니다. (이 부분은 직접 고민하고 수정해보세요!)"
      ]
    },
    {
      "cell_type": "code",
      "execution_count": null,
      "metadata": {
        "id": "Y5NeznawxzYk",
        "outputId": "b96854ba-c934-4821-a5a6-8a19e448afff",
        "colab": {
          "base_uri": "https://localhost:8080/",
          "height": 493
        }
      },
      "outputs": [
        {
          "output_type": "execute_result",
          "data": {
            "text/plain": [
              "   index    id                                    document  label  \\\n",
              "0   4186  4187                          지금까지 만나본 최고 드라마...      1   \n",
              "1   2188  2189  노출을 하려면 제대로 하던가... 모자이크를 하던가.. 보는 내가 '민망해'      0   \n",
              "2   2963  2964                         엘렌 페이지에 빠진다 화목한 주노네      1   \n",
              "3   1528  1529                            별 없는건할수없나 1점도아까움      0   \n",
              "4   4971  4972                   사투리 아줌마! 대박 ㅎㅎㅎ 재밌당 은나아~~      1   \n",
              "\n",
              "                          preprocessed                        tokenized_stem  \\\n",
              "0                      지금까지 만나본 최고 드라마                     지금 까지 만 나본 최고 드라마   \n",
              "1  노출을 하려면 제대로 하던가 모자이크를 하던가 보는 내가 민망해  노출 을 하다 제대로 하다 모자이크 를 하다 보다 내 가 민망하다   \n",
              "2                  엘렌 페이지에 빠진다 화목한 주노네                엘렌 페이지 에 빠지다 화목 한 주노 네   \n",
              "3                      별 없는건할수없나 점도아까움                   별 없다 하다 없다 점도 아깝다 움   \n",
              "4               사투리 아줌마 대박 ㅎㅎㅎ 재밌당 은나아               사투리 아줌마 대박 ㅎㅎㅎ 재밌다 은 나아   \n",
              "\n",
              "                         main_pos  \n",
              "0                    지금 나본 최고 드라마  \n",
              "1  노출 하다 제대로 하다 모자이크 하다 보다 내 민망하다  \n",
              "2                엘렌 페이지 빠지다 화목 주노  \n",
              "3             별 없다 하다 없다 점도 아깝다 움  \n",
              "4             사투리 아줌마 대박 재밌다 은 나아  "
            ],
            "text/html": [
              "\n",
              "  <div id=\"df-898374d3-2bb8-4c14-ba08-47ba6e2fb83c\">\n",
              "    <div class=\"colab-df-container\">\n",
              "      <div>\n",
              "<style scoped>\n",
              "    .dataframe tbody tr th:only-of-type {\n",
              "        vertical-align: middle;\n",
              "    }\n",
              "\n",
              "    .dataframe tbody tr th {\n",
              "        vertical-align: top;\n",
              "    }\n",
              "\n",
              "    .dataframe thead th {\n",
              "        text-align: right;\n",
              "    }\n",
              "</style>\n",
              "<table border=\"1\" class=\"dataframe\">\n",
              "  <thead>\n",
              "    <tr style=\"text-align: right;\">\n",
              "      <th></th>\n",
              "      <th>index</th>\n",
              "      <th>id</th>\n",
              "      <th>document</th>\n",
              "      <th>label</th>\n",
              "      <th>preprocessed</th>\n",
              "      <th>tokenized_stem</th>\n",
              "      <th>main_pos</th>\n",
              "    </tr>\n",
              "  </thead>\n",
              "  <tbody>\n",
              "    <tr>\n",
              "      <th>0</th>\n",
              "      <td>4186</td>\n",
              "      <td>4187</td>\n",
              "      <td>지금까지 만나본 최고 드라마...</td>\n",
              "      <td>1</td>\n",
              "      <td>지금까지 만나본 최고 드라마</td>\n",
              "      <td>지금 까지 만 나본 최고 드라마</td>\n",
              "      <td>지금 나본 최고 드라마</td>\n",
              "    </tr>\n",
              "    <tr>\n",
              "      <th>1</th>\n",
              "      <td>2188</td>\n",
              "      <td>2189</td>\n",
              "      <td>노출을 하려면 제대로 하던가... 모자이크를 하던가.. 보는 내가 '민망해'</td>\n",
              "      <td>0</td>\n",
              "      <td>노출을 하려면 제대로 하던가 모자이크를 하던가 보는 내가 민망해</td>\n",
              "      <td>노출 을 하다 제대로 하다 모자이크 를 하다 보다 내 가 민망하다</td>\n",
              "      <td>노출 하다 제대로 하다 모자이크 하다 보다 내 민망하다</td>\n",
              "    </tr>\n",
              "    <tr>\n",
              "      <th>2</th>\n",
              "      <td>2963</td>\n",
              "      <td>2964</td>\n",
              "      <td>엘렌 페이지에 빠진다 화목한 주노네</td>\n",
              "      <td>1</td>\n",
              "      <td>엘렌 페이지에 빠진다 화목한 주노네</td>\n",
              "      <td>엘렌 페이지 에 빠지다 화목 한 주노 네</td>\n",
              "      <td>엘렌 페이지 빠지다 화목 주노</td>\n",
              "    </tr>\n",
              "    <tr>\n",
              "      <th>3</th>\n",
              "      <td>1528</td>\n",
              "      <td>1529</td>\n",
              "      <td>별 없는건할수없나 1점도아까움</td>\n",
              "      <td>0</td>\n",
              "      <td>별 없는건할수없나 점도아까움</td>\n",
              "      <td>별 없다 하다 없다 점도 아깝다 움</td>\n",
              "      <td>별 없다 하다 없다 점도 아깝다 움</td>\n",
              "    </tr>\n",
              "    <tr>\n",
              "      <th>4</th>\n",
              "      <td>4971</td>\n",
              "      <td>4972</td>\n",
              "      <td>사투리 아줌마! 대박 ㅎㅎㅎ 재밌당 은나아~~</td>\n",
              "      <td>1</td>\n",
              "      <td>사투리 아줌마 대박 ㅎㅎㅎ 재밌당 은나아</td>\n",
              "      <td>사투리 아줌마 대박 ㅎㅎㅎ 재밌다 은 나아</td>\n",
              "      <td>사투리 아줌마 대박 재밌다 은 나아</td>\n",
              "    </tr>\n",
              "  </tbody>\n",
              "</table>\n",
              "</div>\n",
              "      <button class=\"colab-df-convert\" onclick=\"convertToInteractive('df-898374d3-2bb8-4c14-ba08-47ba6e2fb83c')\"\n",
              "              title=\"Convert this dataframe to an interactive table.\"\n",
              "              style=\"display:none;\">\n",
              "        \n",
              "  <svg xmlns=\"http://www.w3.org/2000/svg\" height=\"24px\"viewBox=\"0 0 24 24\"\n",
              "       width=\"24px\">\n",
              "    <path d=\"M0 0h24v24H0V0z\" fill=\"none\"/>\n",
              "    <path d=\"M18.56 5.44l.94 2.06.94-2.06 2.06-.94-2.06-.94-.94-2.06-.94 2.06-2.06.94zm-11 1L8.5 8.5l.94-2.06 2.06-.94-2.06-.94L8.5 2.5l-.94 2.06-2.06.94zm10 10l.94 2.06.94-2.06 2.06-.94-2.06-.94-.94-2.06-.94 2.06-2.06.94z\"/><path d=\"M17.41 7.96l-1.37-1.37c-.4-.4-.92-.59-1.43-.59-.52 0-1.04.2-1.43.59L10.3 9.45l-7.72 7.72c-.78.78-.78 2.05 0 2.83L4 21.41c.39.39.9.59 1.41.59.51 0 1.02-.2 1.41-.59l7.78-7.78 2.81-2.81c.8-.78.8-2.07 0-2.86zM5.41 20L4 18.59l7.72-7.72 1.47 1.35L5.41 20z\"/>\n",
              "  </svg>\n",
              "      </button>\n",
              "      \n",
              "  <style>\n",
              "    .colab-df-container {\n",
              "      display:flex;\n",
              "      flex-wrap:wrap;\n",
              "      gap: 12px;\n",
              "    }\n",
              "\n",
              "    .colab-df-convert {\n",
              "      background-color: #E8F0FE;\n",
              "      border: none;\n",
              "      border-radius: 50%;\n",
              "      cursor: pointer;\n",
              "      display: none;\n",
              "      fill: #1967D2;\n",
              "      height: 32px;\n",
              "      padding: 0 0 0 0;\n",
              "      width: 32px;\n",
              "    }\n",
              "\n",
              "    .colab-df-convert:hover {\n",
              "      background-color: #E2EBFA;\n",
              "      box-shadow: 0px 1px 2px rgba(60, 64, 67, 0.3), 0px 1px 3px 1px rgba(60, 64, 67, 0.15);\n",
              "      fill: #174EA6;\n",
              "    }\n",
              "\n",
              "    [theme=dark] .colab-df-convert {\n",
              "      background-color: #3B4455;\n",
              "      fill: #D2E3FC;\n",
              "    }\n",
              "\n",
              "    [theme=dark] .colab-df-convert:hover {\n",
              "      background-color: #434B5C;\n",
              "      box-shadow: 0px 1px 3px 1px rgba(0, 0, 0, 0.15);\n",
              "      filter: drop-shadow(0px 1px 2px rgba(0, 0, 0, 0.3));\n",
              "      fill: #FFFFFF;\n",
              "    }\n",
              "  </style>\n",
              "\n",
              "      <script>\n",
              "        const buttonEl =\n",
              "          document.querySelector('#df-898374d3-2bb8-4c14-ba08-47ba6e2fb83c button.colab-df-convert');\n",
              "        buttonEl.style.display =\n",
              "          google.colab.kernel.accessAllowed ? 'block' : 'none';\n",
              "\n",
              "        async function convertToInteractive(key) {\n",
              "          const element = document.querySelector('#df-898374d3-2bb8-4c14-ba08-47ba6e2fb83c');\n",
              "          const dataTable =\n",
              "            await google.colab.kernel.invokeFunction('convertToInteractive',\n",
              "                                                     [key], {});\n",
              "          if (!dataTable) return;\n",
              "\n",
              "          const docLinkHtml = 'Like what you see? Visit the ' +\n",
              "            '<a target=\"_blank\" href=https://colab.research.google.com/notebooks/data_table.ipynb>data table notebook</a>'\n",
              "            + ' to learn more about interactive tables.';\n",
              "          element.innerHTML = '';\n",
              "          dataTable['output_type'] = 'display_data';\n",
              "          await google.colab.output.renderOutput(dataTable, element);\n",
              "          const docLink = document.createElement('div');\n",
              "          docLink.innerHTML = docLinkHtml;\n",
              "          element.appendChild(docLink);\n",
              "        }\n",
              "      </script>\n",
              "    </div>\n",
              "  </div>\n",
              "  "
            ]
          },
          "metadata": {},
          "execution_count": 52
        }
      ],
      "source": [
        "main_pos = [] # 데이터프레임의 새 컬럼이 될 리스트\n",
        "for sentence in train['document']: # 리뷰들을 하나씩 가져옵니다\n",
        "    # To do\n",
        "    pos = okt.pos(sentence, stem=True)# 품사 태깅으로 형태소 분석을 진행하고 해당 리스트를 pos라는 변수로 받습니다\n",
        "    main_words = [word_pos[0] for word_pos in pos if word_pos[1] in (\"Noun\", \"Adverb\", \"Adjective\", \"Verb\")] # 가져오고자 하는 품사에 해당하면 해당 형태소를 main_words 리스트에 추가합니다.\n",
        "    main_words_str = \" \".join(main_words) # main_words 리스트 안의 형태소들을 띄어쓰기로 분리된 하나의 문자열로 join시켜줍니다.\n",
        "    main_pos.append(main_words_str) # 선택한 형태소들로 이루어진 문자열을 최종 리스트에 추가해줍니다\n",
        "train[\"main_pos\"] = pd.DataFrame(main_pos) # 리스트를 데이터프레임으로 변환해 main_pos라는 컬럼명으로 추가해줍니다.\n",
        "\n",
        "train.head() # 데이터 확인"
      ]
    },
    {
      "cell_type": "markdown",
      "metadata": {
        "id": "0rC48SZmxzYl"
      },
      "source": [
        "자 이제 총 세 개의 전처리된 컬럼이 생성되었습니다!\n",
        "\n",
        "어떤 전처리 과정이 성능이 가장 잘 나올지는 미지수입니다. 직접 다양한 시도를 통해 최적의 전처리 프로세스를 찾아보세요~\n",
        "\n",
        "이번 베이스라인에서는 마지막에 생성한 main_pos 컬럼을 이용해 모델 학습을 진행하겠습니다."
      ]
    },
    {
      "cell_type": "markdown",
      "metadata": {
        "id": "csQKUqYNxzYl"
      },
      "source": [
        "### 벡터화\n",
        "\n",
        "CountVectorizer를 사용하였습니다. "
      ]
    },
    {
      "cell_type": "code",
      "execution_count": null,
      "metadata": {
        "id": "FgLiiwwrxzYl"
      },
      "outputs": [],
      "source": [
        "X_train = train.main_pos #training 데이터에서 문서 추출\n",
        "y_train = train.label #training 데이터에서 라벨 추출"
      ]
    },
    {
      "cell_type": "code",
      "execution_count": null,
      "metadata": {
        "id": "s8i5bjQpxzYm"
      },
      "outputs": [],
      "source": [
        "from sklearn.feature_extraction.text import CountVectorizer\n",
        "# To do\n",
        "vectorizer = CountVectorizer() #countvectorizer 생성\n",
        "# countvectorizer 학습\n",
        "X_train_vec = vectorizer.fit_transform(X_train) # transform"
      ]
    },
    {
      "cell_type": "markdown",
      "metadata": {
        "id": "rGt6dzjVxzYm"
      },
      "source": [
        "### 모델 학습"
      ]
    },
    {
      "cell_type": "code",
      "execution_count": null,
      "metadata": {
        "id": "zYcjr36dxzYm",
        "outputId": "b80927f2-1a5a-41d3-fb96-d396ca5d664a",
        "colab": {
          "base_uri": "https://localhost:8080/"
        }
      },
      "outputs": [
        {
          "output_type": "execute_result",
          "data": {
            "text/plain": [
              "LogisticRegression()"
            ]
          },
          "metadata": {},
          "execution_count": 55
        }
      ],
      "source": [
        "from sklearn.linear_model import LogisticRegression #모델 불러오기\n",
        "model = LogisticRegression() #객체에 모델 할당\n",
        "model.fit(X_train_vec, y_train) #모델 학습"
      ]
    },
    {
      "cell_type": "markdown",
      "metadata": {
        "id": "F_jE_ICnxzYn"
      },
      "source": [
        "### 검증셋으로 모델 성능 검증"
      ]
    },
    {
      "cell_type": "markdown",
      "metadata": {
        "id": "Ch_s74HHxzYn"
      },
      "source": [
        "먼저 검증 셋 val에 train 셋과 동일한 전처리 과정을 거쳐줍니다."
      ]
    },
    {
      "cell_type": "code",
      "execution_count": null,
      "metadata": {
        "id": "rlS82zKBxzYn",
        "outputId": "9787182f-ff57-422c-ac00-17be08c8591b",
        "colab": {
          "base_uri": "https://localhost:8080/",
          "height": 1000
        }
      },
      "outputs": [
        {
          "output_type": "execute_result",
          "data": {
            "text/plain": [
              "      index    id                                    document  label  \\\n",
              "0      4848  4849                        자살하지 말라고 이런 영화를 찍었다니      0   \n",
              "1      3011  3012             왜 죽어야만 했을까..??ㅠㅠ너무 잔잔하면서 가혹한 영화      1   \n",
              "2      4716  4717                        감독의 개성이 너무 좋다.......      1   \n",
              "3      4964  4965                인디아나존스의 선배격 원작에 더 나은 유머와 유쾌함      1   \n",
              "4      2692  2693                        진짜 최악 이다! 본 시간이 아깝다.      0   \n",
              "...     ...   ...                                         ...    ...   \n",
              "1245   1952  1953              집에비됴까지있었지만 틀때마다 끝까지볼수없었다 재미없어서      0   \n",
              "1246    117   118  꼭 봐야하는 영화 마지막이 정말 소름끼치고 시민들의 하... 걍 닥치고 보자      1   \n",
              "1247   2142  2143       더봐야 알겠지만.. 이즈미 노아가 단발로 나온것 부터가 에러 ㅡㅡ;      0   \n",
              "1248    933   934                           유치하고 무난하면서 진부한 영화      0   \n",
              "1249   4315  4316           테이큰으로 파일바꾸신분이 영화추천할려고 그런거라면 성공했네요      1   \n",
              "\n",
              "                                 preprocessed  \\\n",
              "0                        자살하지 말라고 이런 영화를 찍었다니   \n",
              "1                 왜 죽어야만 했을까ㅠㅠ너무 잔잔하면서 가혹한 영화   \n",
              "2                               감독의 개성이 너무 좋다   \n",
              "3                인디아나존스의 선배격 원작에 더 나은 유머와 유쾌함   \n",
              "4                          진짜 최악 이다 본 시간이 아깝다   \n",
              "...                                       ...   \n",
              "1245           집에비됴까지있었지만 틀때마다 끝까지볼수없었다 재미없어서   \n",
              "1246  꼭 봐야하는 영화 마지막이 정말 소름끼치고 시민들의 하 걍 닥치고 보자   \n",
              "1247       더봐야 알겠지만 이즈미 노아가 단발로 나온것 부터가 에러 ㅡㅡ   \n",
              "1248                        유치하고 무난하면서 진부한 영화   \n",
              "1249        테이큰으로 파일바꾸신분이 영화추천할려고 그런거라면 성공했네요   \n",
              "\n",
              "                                    tokenized_stem  \\\n",
              "0                           자살 하다 말 라고 이렇다 영화 를 찍다   \n",
              "1                       왜 죽다 하다 ㅠㅠ 너무 잔잔하다 가혹하다 영화   \n",
              "2                                  감독 의 개성 이 너무 좋다   \n",
              "3               인디아나 존스 의 선 배격 원작 에 더 나은 유머 와 유쾌하다   \n",
              "4                             진짜 최악 이다 보다 시간 이 아깝다   \n",
              "...                                            ...   \n",
              "1245            집 에 비됴 까지 있다 틀때 마다 끝 까지 보다 없다 재미없다   \n",
              "1246  꼭 보다 야하다 영화 마지막 이 정말 소름끼치다 시민 들 의 하 걍 닥치고 보다   \n",
              "1247           더 보다 알다 이즈미 노아 가 단발 로 나오다 부터가 에러 ㅡㅡ   \n",
              "1248                            유치하다 무난 하다 진부하다 영화   \n",
              "1249          테이큰 으로 파일 바꾸다 신분 이 영화 추천 하다 그렇다 성공하다   \n",
              "\n",
              "                                  main_pos  \n",
              "0                        자살 하다 말 이렇다 영화 찍다  \n",
              "1                  왜 죽다 하다 너무 잔잔하다 가혹하다 영화  \n",
              "2                              감독 개성 너무 좋다  \n",
              "3             인디아나 존스 선 배격 원작 더 나은 유머 유쾌하다  \n",
              "4                          진짜 최악 보다 시간 아깝다  \n",
              "...                                    ...  \n",
              "1245               집 비됴 있다 틀때 끝 보다 없다 재미없다  \n",
              "1246  꼭 보다 야하다 영화 마지막 정말 소름끼치다 시민 걍 닥치고 보다  \n",
              "1247              더 보다 알다 이즈미 노아 단발 나오다 에러  \n",
              "1248                    유치하다 무난 하다 진부하다 영화  \n",
              "1249       테이큰 파일 바꾸다 신분 영화 추천 하다 그렇다 성공하다  \n",
              "\n",
              "[1250 rows x 7 columns]"
            ],
            "text/html": [
              "\n",
              "  <div id=\"df-3a49d956-5d02-408e-a146-94737d093a3b\">\n",
              "    <div class=\"colab-df-container\">\n",
              "      <div>\n",
              "<style scoped>\n",
              "    .dataframe tbody tr th:only-of-type {\n",
              "        vertical-align: middle;\n",
              "    }\n",
              "\n",
              "    .dataframe tbody tr th {\n",
              "        vertical-align: top;\n",
              "    }\n",
              "\n",
              "    .dataframe thead th {\n",
              "        text-align: right;\n",
              "    }\n",
              "</style>\n",
              "<table border=\"1\" class=\"dataframe\">\n",
              "  <thead>\n",
              "    <tr style=\"text-align: right;\">\n",
              "      <th></th>\n",
              "      <th>index</th>\n",
              "      <th>id</th>\n",
              "      <th>document</th>\n",
              "      <th>label</th>\n",
              "      <th>preprocessed</th>\n",
              "      <th>tokenized_stem</th>\n",
              "      <th>main_pos</th>\n",
              "    </tr>\n",
              "  </thead>\n",
              "  <tbody>\n",
              "    <tr>\n",
              "      <th>0</th>\n",
              "      <td>4848</td>\n",
              "      <td>4849</td>\n",
              "      <td>자살하지 말라고 이런 영화를 찍었다니</td>\n",
              "      <td>0</td>\n",
              "      <td>자살하지 말라고 이런 영화를 찍었다니</td>\n",
              "      <td>자살 하다 말 라고 이렇다 영화 를 찍다</td>\n",
              "      <td>자살 하다 말 이렇다 영화 찍다</td>\n",
              "    </tr>\n",
              "    <tr>\n",
              "      <th>1</th>\n",
              "      <td>3011</td>\n",
              "      <td>3012</td>\n",
              "      <td>왜 죽어야만 했을까..??ㅠㅠ너무 잔잔하면서 가혹한 영화</td>\n",
              "      <td>1</td>\n",
              "      <td>왜 죽어야만 했을까ㅠㅠ너무 잔잔하면서 가혹한 영화</td>\n",
              "      <td>왜 죽다 하다 ㅠㅠ 너무 잔잔하다 가혹하다 영화</td>\n",
              "      <td>왜 죽다 하다 너무 잔잔하다 가혹하다 영화</td>\n",
              "    </tr>\n",
              "    <tr>\n",
              "      <th>2</th>\n",
              "      <td>4716</td>\n",
              "      <td>4717</td>\n",
              "      <td>감독의 개성이 너무 좋다.......</td>\n",
              "      <td>1</td>\n",
              "      <td>감독의 개성이 너무 좋다</td>\n",
              "      <td>감독 의 개성 이 너무 좋다</td>\n",
              "      <td>감독 개성 너무 좋다</td>\n",
              "    </tr>\n",
              "    <tr>\n",
              "      <th>3</th>\n",
              "      <td>4964</td>\n",
              "      <td>4965</td>\n",
              "      <td>인디아나존스의 선배격 원작에 더 나은 유머와 유쾌함</td>\n",
              "      <td>1</td>\n",
              "      <td>인디아나존스의 선배격 원작에 더 나은 유머와 유쾌함</td>\n",
              "      <td>인디아나 존스 의 선 배격 원작 에 더 나은 유머 와 유쾌하다</td>\n",
              "      <td>인디아나 존스 선 배격 원작 더 나은 유머 유쾌하다</td>\n",
              "    </tr>\n",
              "    <tr>\n",
              "      <th>4</th>\n",
              "      <td>2692</td>\n",
              "      <td>2693</td>\n",
              "      <td>진짜 최악 이다! 본 시간이 아깝다.</td>\n",
              "      <td>0</td>\n",
              "      <td>진짜 최악 이다 본 시간이 아깝다</td>\n",
              "      <td>진짜 최악 이다 보다 시간 이 아깝다</td>\n",
              "      <td>진짜 최악 보다 시간 아깝다</td>\n",
              "    </tr>\n",
              "    <tr>\n",
              "      <th>...</th>\n",
              "      <td>...</td>\n",
              "      <td>...</td>\n",
              "      <td>...</td>\n",
              "      <td>...</td>\n",
              "      <td>...</td>\n",
              "      <td>...</td>\n",
              "      <td>...</td>\n",
              "    </tr>\n",
              "    <tr>\n",
              "      <th>1245</th>\n",
              "      <td>1952</td>\n",
              "      <td>1953</td>\n",
              "      <td>집에비됴까지있었지만 틀때마다 끝까지볼수없었다 재미없어서</td>\n",
              "      <td>0</td>\n",
              "      <td>집에비됴까지있었지만 틀때마다 끝까지볼수없었다 재미없어서</td>\n",
              "      <td>집 에 비됴 까지 있다 틀때 마다 끝 까지 보다 없다 재미없다</td>\n",
              "      <td>집 비됴 있다 틀때 끝 보다 없다 재미없다</td>\n",
              "    </tr>\n",
              "    <tr>\n",
              "      <th>1246</th>\n",
              "      <td>117</td>\n",
              "      <td>118</td>\n",
              "      <td>꼭 봐야하는 영화 마지막이 정말 소름끼치고 시민들의 하... 걍 닥치고 보자</td>\n",
              "      <td>1</td>\n",
              "      <td>꼭 봐야하는 영화 마지막이 정말 소름끼치고 시민들의 하 걍 닥치고 보자</td>\n",
              "      <td>꼭 보다 야하다 영화 마지막 이 정말 소름끼치다 시민 들 의 하 걍 닥치고 보다</td>\n",
              "      <td>꼭 보다 야하다 영화 마지막 정말 소름끼치다 시민 걍 닥치고 보다</td>\n",
              "    </tr>\n",
              "    <tr>\n",
              "      <th>1247</th>\n",
              "      <td>2142</td>\n",
              "      <td>2143</td>\n",
              "      <td>더봐야 알겠지만.. 이즈미 노아가 단발로 나온것 부터가 에러 ㅡㅡ;</td>\n",
              "      <td>0</td>\n",
              "      <td>더봐야 알겠지만 이즈미 노아가 단발로 나온것 부터가 에러 ㅡㅡ</td>\n",
              "      <td>더 보다 알다 이즈미 노아 가 단발 로 나오다 부터가 에러 ㅡㅡ</td>\n",
              "      <td>더 보다 알다 이즈미 노아 단발 나오다 에러</td>\n",
              "    </tr>\n",
              "    <tr>\n",
              "      <th>1248</th>\n",
              "      <td>933</td>\n",
              "      <td>934</td>\n",
              "      <td>유치하고 무난하면서 진부한 영화</td>\n",
              "      <td>0</td>\n",
              "      <td>유치하고 무난하면서 진부한 영화</td>\n",
              "      <td>유치하다 무난 하다 진부하다 영화</td>\n",
              "      <td>유치하다 무난 하다 진부하다 영화</td>\n",
              "    </tr>\n",
              "    <tr>\n",
              "      <th>1249</th>\n",
              "      <td>4315</td>\n",
              "      <td>4316</td>\n",
              "      <td>테이큰으로 파일바꾸신분이 영화추천할려고 그런거라면 성공했네요</td>\n",
              "      <td>1</td>\n",
              "      <td>테이큰으로 파일바꾸신분이 영화추천할려고 그런거라면 성공했네요</td>\n",
              "      <td>테이큰 으로 파일 바꾸다 신분 이 영화 추천 하다 그렇다 성공하다</td>\n",
              "      <td>테이큰 파일 바꾸다 신분 영화 추천 하다 그렇다 성공하다</td>\n",
              "    </tr>\n",
              "  </tbody>\n",
              "</table>\n",
              "<p>1250 rows × 7 columns</p>\n",
              "</div>\n",
              "      <button class=\"colab-df-convert\" onclick=\"convertToInteractive('df-3a49d956-5d02-408e-a146-94737d093a3b')\"\n",
              "              title=\"Convert this dataframe to an interactive table.\"\n",
              "              style=\"display:none;\">\n",
              "        \n",
              "  <svg xmlns=\"http://www.w3.org/2000/svg\" height=\"24px\"viewBox=\"0 0 24 24\"\n",
              "       width=\"24px\">\n",
              "    <path d=\"M0 0h24v24H0V0z\" fill=\"none\"/>\n",
              "    <path d=\"M18.56 5.44l.94 2.06.94-2.06 2.06-.94-2.06-.94-.94-2.06-.94 2.06-2.06.94zm-11 1L8.5 8.5l.94-2.06 2.06-.94-2.06-.94L8.5 2.5l-.94 2.06-2.06.94zm10 10l.94 2.06.94-2.06 2.06-.94-2.06-.94-.94-2.06-.94 2.06-2.06.94z\"/><path d=\"M17.41 7.96l-1.37-1.37c-.4-.4-.92-.59-1.43-.59-.52 0-1.04.2-1.43.59L10.3 9.45l-7.72 7.72c-.78.78-.78 2.05 0 2.83L4 21.41c.39.39.9.59 1.41.59.51 0 1.02-.2 1.41-.59l7.78-7.78 2.81-2.81c.8-.78.8-2.07 0-2.86zM5.41 20L4 18.59l7.72-7.72 1.47 1.35L5.41 20z\"/>\n",
              "  </svg>\n",
              "      </button>\n",
              "      \n",
              "  <style>\n",
              "    .colab-df-container {\n",
              "      display:flex;\n",
              "      flex-wrap:wrap;\n",
              "      gap: 12px;\n",
              "    }\n",
              "\n",
              "    .colab-df-convert {\n",
              "      background-color: #E8F0FE;\n",
              "      border: none;\n",
              "      border-radius: 50%;\n",
              "      cursor: pointer;\n",
              "      display: none;\n",
              "      fill: #1967D2;\n",
              "      height: 32px;\n",
              "      padding: 0 0 0 0;\n",
              "      width: 32px;\n",
              "    }\n",
              "\n",
              "    .colab-df-convert:hover {\n",
              "      background-color: #E2EBFA;\n",
              "      box-shadow: 0px 1px 2px rgba(60, 64, 67, 0.3), 0px 1px 3px 1px rgba(60, 64, 67, 0.15);\n",
              "      fill: #174EA6;\n",
              "    }\n",
              "\n",
              "    [theme=dark] .colab-df-convert {\n",
              "      background-color: #3B4455;\n",
              "      fill: #D2E3FC;\n",
              "    }\n",
              "\n",
              "    [theme=dark] .colab-df-convert:hover {\n",
              "      background-color: #434B5C;\n",
              "      box-shadow: 0px 1px 3px 1px rgba(0, 0, 0, 0.15);\n",
              "      filter: drop-shadow(0px 1px 2px rgba(0, 0, 0, 0.3));\n",
              "      fill: #FFFFFF;\n",
              "    }\n",
              "  </style>\n",
              "\n",
              "      <script>\n",
              "        const buttonEl =\n",
              "          document.querySelector('#df-3a49d956-5d02-408e-a146-94737d093a3b button.colab-df-convert');\n",
              "        buttonEl.style.display =\n",
              "          google.colab.kernel.accessAllowed ? 'block' : 'none';\n",
              "\n",
              "        async function convertToInteractive(key) {\n",
              "          const element = document.querySelector('#df-3a49d956-5d02-408e-a146-94737d093a3b');\n",
              "          const dataTable =\n",
              "            await google.colab.kernel.invokeFunction('convertToInteractive',\n",
              "                                                     [key], {});\n",
              "          if (!dataTable) return;\n",
              "\n",
              "          const docLinkHtml = 'Like what you see? Visit the ' +\n",
              "            '<a target=\"_blank\" href=https://colab.research.google.com/notebooks/data_table.ipynb>data table notebook</a>'\n",
              "            + ' to learn more about interactive tables.';\n",
              "          element.innerHTML = '';\n",
              "          dataTable['output_type'] = 'display_data';\n",
              "          await google.colab.output.renderOutput(dataTable, element);\n",
              "          const docLink = document.createElement('div');\n",
              "          docLink.innerHTML = docLinkHtml;\n",
              "          element.appendChild(docLink);\n",
              "        }\n",
              "      </script>\n",
              "    </div>\n",
              "  </div>\n",
              "  "
            ]
          },
          "metadata": {},
          "execution_count": 56
        }
      ],
      "source": [
        "# preprocessed\n",
        "val['preprocessed'] = val['document'].str.replace(\"[^ㄱ-ㅎㅏ-ㅣ가-힣 ]\",\"\") # 한글과 공백을 제외하고 모두 제거\n",
        "val['preprocessed'] = val['preprocessed'].str.replace(\" +\", \" \") # 다중 공백 제거\n",
        "\n",
        "# tokenized_stem\n",
        "tokenized = []\n",
        "for sentence in val['preprocessed']:\n",
        "    # To do\n",
        "    tokens = okt.morphs(sentence, stem = True)#형태소 분석 어간 추출 옵션\n",
        "    tokenize = \" \".join(tokens)\n",
        "    tokenized.append(tokenize)\n",
        "val[\"tokenized_stem\"] = pd.DataFrame(tokenized)\n",
        "\n",
        "# main_pos\n",
        "main_pos = []\n",
        "for sentence in val['document']:\n",
        "    # To do\n",
        "    pos = okt.pos(sentence, stem=True)# 품사 태깅 형태소 분석\n",
        "    main_words = [word_pos[0] for word_pos in pos if word_pos[1] in (\"Noun\", \"Adverb\", \"Adjective\", \"Verb\")] # 원하는 품사 선택\n",
        "    main_words_str = \" \".join(main_words)\n",
        "    main_pos.append(main_words_str)\n",
        "val[\"main_pos\"] = pd.DataFrame(main_pos)\n",
        "\n",
        "val"
      ]
    },
    {
      "cell_type": "markdown",
      "metadata": {
        "id": "3OkudJa5xzYo"
      },
      "source": [
        "학습한 모델로 예측할 X를 벡터화해줍니다."
      ]
    },
    {
      "cell_type": "code",
      "execution_count": null,
      "metadata": {
        "id": "Lqwz6CoCxzYo"
      },
      "outputs": [],
      "source": [
        "X_val = val.main_pos #validation 데이터에서 전처리된 문서 추출\n",
        "y_val = val.label #validation 데이터에서 라벨 추출\n",
        "# To do\n",
        "X_val_vec = vectorizer.transform(X_val)# train셋으로 fit한 벡터라이저 이용해 transform"
      ]
    },
    {
      "cell_type": "code",
      "execution_count": null,
      "metadata": {
        "id": "A08sNchqxzYo",
        "outputId": "0da0c47f-4076-4acd-fdcf-661bbce8b2af",
        "colab": {
          "base_uri": "https://localhost:8080/"
        }
      },
      "outputs": [
        {
          "output_type": "stream",
          "name": "stdout",
          "text": [
            "[0 1 1 ... 0 0 1]\n"
          ]
        }
      ],
      "source": [
        "from sklearn import *\n",
        "\n",
        "#run model\n",
        "y_pred = model.predict(X_val_vec)\n",
        "print(y_pred)\n",
        "#0:negative 1:positive\n"
      ]
    },
    {
      "cell_type": "code",
      "execution_count": null,
      "metadata": {
        "id": "tP-UOGHaxzYp",
        "outputId": "f8f2eb1e-582b-4a36-c5af-2861c1a82f46",
        "colab": {
          "base_uri": "https://localhost:8080/"
        }
      },
      "outputs": [
        {
          "output_type": "stream",
          "name": "stdout",
          "text": [
            "accuracy = 0.8408\n"
          ]
        }
      ],
      "source": [
        "from sklearn import metrics\n",
        "print('accuracy =', metrics.accuracy_score(y_val, y_pred)) # 정확도 확인"
      ]
    },
    {
      "cell_type": "markdown",
      "metadata": {
        "id": "bDieixi3xzYp"
      },
      "source": [
        "train 셋으로 학습한 모델을 사용해 validation 셋을 예측해본 결과 0.8184의 정확도를 얻었습니다!\n",
        "\n",
        "다양한 전처리 기법과 모델들을 사용하여 성능을 높여보세요~"
      ]
    },
    {
      "cell_type": "markdown",
      "metadata": {
        "id": "RfFDg9ItxzYp"
      },
      "source": [
        "# test.csv 분류하기"
      ]
    },
    {
      "cell_type": "markdown",
      "metadata": {
        "id": "5hnPNLl1xzYp"
      },
      "source": [
        "이제 본격적으로 대회에서 주어진 정답이 없는 test 데이터의 라벨을 예측해보겠습니다.\n",
        "\n",
        "전처리 모델 학습 단계에서 test 데이터를 사용하면 data leakage로 간주되니\n",
        "\n",
        "test.csv는 반드시 모델 학습이 끝난 뒤 예측시에만 등장해야 함에 주의해주세요!\n",
        "\n",
        "train.csv를 이용한 전처리/학습을 test.cvs에 적용하는 것은 허용되지만, test.csv를 전처리/모델링에 직접적으로 이용하면 실격입니다."
      ]
    },
    {
      "cell_type": "code",
      "execution_count": null,
      "metadata": {
        "id": "DzUx56YPxzYq",
        "outputId": "8156f9cf-6df0-4b72-956e-407ac1f4184d",
        "colab": {
          "base_uri": "https://localhost:8080/",
          "height": 424
        }
      },
      "outputs": [
        {
          "output_type": "execute_result",
          "data": {
            "text/plain": [
              "        id                             document\n",
              "0        1                     시간 때우기 좋은 영화 지루함\n",
              "1        2  훈훈한 정이 느껴지는 영화! 가족끼리 드라마 보듯이 보면 딱~!\n",
              "2        3                    Childhood fantasy\n",
              "3        4                  멋있는 영화입니다. 잊을 수 없는!\n",
              "4        5                   너무 감동적이네요 펑펑 울었습니다\n",
              "...    ...                                  ...\n",
              "4995  4996        연계도 제대로 안되고 뭔가 부족한느낌이들고 찝찝한영화\n",
              "4996  4997           내생에 최악의 영화중 하나 졸려서 미칠뻔....\n",
              "4997  4998       지금까지 나온 드라마 중 최고였습니다. 100점 만점!\n",
              "4998  4999       영화값으로 엄청난 공연을 보았다 - 이게 웬 횡재 ..\n",
              "4999  5000              올해엔 롯데 자이언츠가 꼭 우승했으면...\n",
              "\n",
              "[5000 rows x 2 columns]"
            ],
            "text/html": [
              "\n",
              "  <div id=\"df-4dff59a6-4e8f-4242-b2d0-e5d30b88185c\">\n",
              "    <div class=\"colab-df-container\">\n",
              "      <div>\n",
              "<style scoped>\n",
              "    .dataframe tbody tr th:only-of-type {\n",
              "        vertical-align: middle;\n",
              "    }\n",
              "\n",
              "    .dataframe tbody tr th {\n",
              "        vertical-align: top;\n",
              "    }\n",
              "\n",
              "    .dataframe thead th {\n",
              "        text-align: right;\n",
              "    }\n",
              "</style>\n",
              "<table border=\"1\" class=\"dataframe\">\n",
              "  <thead>\n",
              "    <tr style=\"text-align: right;\">\n",
              "      <th></th>\n",
              "      <th>id</th>\n",
              "      <th>document</th>\n",
              "    </tr>\n",
              "  </thead>\n",
              "  <tbody>\n",
              "    <tr>\n",
              "      <th>0</th>\n",
              "      <td>1</td>\n",
              "      <td>시간 때우기 좋은 영화 지루함</td>\n",
              "    </tr>\n",
              "    <tr>\n",
              "      <th>1</th>\n",
              "      <td>2</td>\n",
              "      <td>훈훈한 정이 느껴지는 영화! 가족끼리 드라마 보듯이 보면 딱~!</td>\n",
              "    </tr>\n",
              "    <tr>\n",
              "      <th>2</th>\n",
              "      <td>3</td>\n",
              "      <td>Childhood fantasy</td>\n",
              "    </tr>\n",
              "    <tr>\n",
              "      <th>3</th>\n",
              "      <td>4</td>\n",
              "      <td>멋있는 영화입니다. 잊을 수 없는!</td>\n",
              "    </tr>\n",
              "    <tr>\n",
              "      <th>4</th>\n",
              "      <td>5</td>\n",
              "      <td>너무 감동적이네요 펑펑 울었습니다</td>\n",
              "    </tr>\n",
              "    <tr>\n",
              "      <th>...</th>\n",
              "      <td>...</td>\n",
              "      <td>...</td>\n",
              "    </tr>\n",
              "    <tr>\n",
              "      <th>4995</th>\n",
              "      <td>4996</td>\n",
              "      <td>연계도 제대로 안되고 뭔가 부족한느낌이들고 찝찝한영화</td>\n",
              "    </tr>\n",
              "    <tr>\n",
              "      <th>4996</th>\n",
              "      <td>4997</td>\n",
              "      <td>내생에 최악의 영화중 하나 졸려서 미칠뻔....</td>\n",
              "    </tr>\n",
              "    <tr>\n",
              "      <th>4997</th>\n",
              "      <td>4998</td>\n",
              "      <td>지금까지 나온 드라마 중 최고였습니다. 100점 만점!</td>\n",
              "    </tr>\n",
              "    <tr>\n",
              "      <th>4998</th>\n",
              "      <td>4999</td>\n",
              "      <td>영화값으로 엄청난 공연을 보았다 - 이게 웬 횡재 ..</td>\n",
              "    </tr>\n",
              "    <tr>\n",
              "      <th>4999</th>\n",
              "      <td>5000</td>\n",
              "      <td>올해엔 롯데 자이언츠가 꼭 우승했으면...</td>\n",
              "    </tr>\n",
              "  </tbody>\n",
              "</table>\n",
              "<p>5000 rows × 2 columns</p>\n",
              "</div>\n",
              "      <button class=\"colab-df-convert\" onclick=\"convertToInteractive('df-4dff59a6-4e8f-4242-b2d0-e5d30b88185c')\"\n",
              "              title=\"Convert this dataframe to an interactive table.\"\n",
              "              style=\"display:none;\">\n",
              "        \n",
              "  <svg xmlns=\"http://www.w3.org/2000/svg\" height=\"24px\"viewBox=\"0 0 24 24\"\n",
              "       width=\"24px\">\n",
              "    <path d=\"M0 0h24v24H0V0z\" fill=\"none\"/>\n",
              "    <path d=\"M18.56 5.44l.94 2.06.94-2.06 2.06-.94-2.06-.94-.94-2.06-.94 2.06-2.06.94zm-11 1L8.5 8.5l.94-2.06 2.06-.94-2.06-.94L8.5 2.5l-.94 2.06-2.06.94zm10 10l.94 2.06.94-2.06 2.06-.94-2.06-.94-.94-2.06-.94 2.06-2.06.94z\"/><path d=\"M17.41 7.96l-1.37-1.37c-.4-.4-.92-.59-1.43-.59-.52 0-1.04.2-1.43.59L10.3 9.45l-7.72 7.72c-.78.78-.78 2.05 0 2.83L4 21.41c.39.39.9.59 1.41.59.51 0 1.02-.2 1.41-.59l7.78-7.78 2.81-2.81c.8-.78.8-2.07 0-2.86zM5.41 20L4 18.59l7.72-7.72 1.47 1.35L5.41 20z\"/>\n",
              "  </svg>\n",
              "      </button>\n",
              "      \n",
              "  <style>\n",
              "    .colab-df-container {\n",
              "      display:flex;\n",
              "      flex-wrap:wrap;\n",
              "      gap: 12px;\n",
              "    }\n",
              "\n",
              "    .colab-df-convert {\n",
              "      background-color: #E8F0FE;\n",
              "      border: none;\n",
              "      border-radius: 50%;\n",
              "      cursor: pointer;\n",
              "      display: none;\n",
              "      fill: #1967D2;\n",
              "      height: 32px;\n",
              "      padding: 0 0 0 0;\n",
              "      width: 32px;\n",
              "    }\n",
              "\n",
              "    .colab-df-convert:hover {\n",
              "      background-color: #E2EBFA;\n",
              "      box-shadow: 0px 1px 2px rgba(60, 64, 67, 0.3), 0px 1px 3px 1px rgba(60, 64, 67, 0.15);\n",
              "      fill: #174EA6;\n",
              "    }\n",
              "\n",
              "    [theme=dark] .colab-df-convert {\n",
              "      background-color: #3B4455;\n",
              "      fill: #D2E3FC;\n",
              "    }\n",
              "\n",
              "    [theme=dark] .colab-df-convert:hover {\n",
              "      background-color: #434B5C;\n",
              "      box-shadow: 0px 1px 3px 1px rgba(0, 0, 0, 0.15);\n",
              "      filter: drop-shadow(0px 1px 2px rgba(0, 0, 0, 0.3));\n",
              "      fill: #FFFFFF;\n",
              "    }\n",
              "  </style>\n",
              "\n",
              "      <script>\n",
              "        const buttonEl =\n",
              "          document.querySelector('#df-4dff59a6-4e8f-4242-b2d0-e5d30b88185c button.colab-df-convert');\n",
              "        buttonEl.style.display =\n",
              "          google.colab.kernel.accessAllowed ? 'block' : 'none';\n",
              "\n",
              "        async function convertToInteractive(key) {\n",
              "          const element = document.querySelector('#df-4dff59a6-4e8f-4242-b2d0-e5d30b88185c');\n",
              "          const dataTable =\n",
              "            await google.colab.kernel.invokeFunction('convertToInteractive',\n",
              "                                                     [key], {});\n",
              "          if (!dataTable) return;\n",
              "\n",
              "          const docLinkHtml = 'Like what you see? Visit the ' +\n",
              "            '<a target=\"_blank\" href=https://colab.research.google.com/notebooks/data_table.ipynb>data table notebook</a>'\n",
              "            + ' to learn more about interactive tables.';\n",
              "          element.innerHTML = '';\n",
              "          dataTable['output_type'] = 'display_data';\n",
              "          await google.colab.output.renderOutput(dataTable, element);\n",
              "          const docLink = document.createElement('div');\n",
              "          docLink.innerHTML = docLinkHtml;\n",
              "          element.appendChild(docLink);\n",
              "        }\n",
              "      </script>\n",
              "    </div>\n",
              "  </div>\n",
              "  "
            ]
          },
          "metadata": {},
          "execution_count": 60
        }
      ],
      "source": [
        "test = pd.read_csv('/content/drive/MyDrive/Ybigta_summer/KoNLPy/test.csv')\n",
        "test"
      ]
    },
    {
      "cell_type": "markdown",
      "metadata": {
        "id": "98ZogJRVxzYq"
      },
      "source": [
        "동일한 전처리 과정을 거치되, data leakage가 발생하지 않도록 주의합니다."
      ]
    },
    {
      "cell_type": "code",
      "execution_count": null,
      "metadata": {
        "id": "K1iIpmGPxzYq",
        "outputId": "62a36d2e-501e-4131-a702-4e6ea2f6d5db",
        "colab": {
          "base_uri": "https://localhost:8080/"
        }
      },
      "outputs": [
        {
          "output_type": "execute_result",
          "data": {
            "text/plain": [
              "id          0\n",
              "document    0\n",
              "dtype: int64"
            ]
          },
          "metadata": {},
          "execution_count": 61
        }
      ],
      "source": [
        "test.isna().sum()"
      ]
    },
    {
      "cell_type": "code",
      "execution_count": null,
      "metadata": {
        "id": "6dYZK_XMxzYr",
        "outputId": "f5125176-e9b2-4fb4-f382-d6a60f9059ac",
        "colab": {
          "base_uri": "https://localhost:8080/",
          "height": 354
        }
      },
      "outputs": [
        {
          "output_type": "execute_result",
          "data": {
            "text/plain": [
              "   id                             document                      preprocessed  \\\n",
              "0   1                     시간 때우기 좋은 영화 지루함                  시간 때우기 좋은 영화 지루함   \n",
              "1   2  훈훈한 정이 느껴지는 영화! 가족끼리 드라마 보듯이 보면 딱~!  훈훈한 정이 느껴지는 영화 가족끼리 드라마 보듯이 보면 딱   \n",
              "2   3                    Childhood fantasy                                     \n",
              "3   4                  멋있는 영화입니다. 잊을 수 없는!                 멋있는 영화입니다 잊을 수 없는   \n",
              "4   5                   너무 감동적이네요 펑펑 울었습니다                너무 감동적이네요 펑펑 울었습니다   \n",
              "\n",
              "                      tokenized_stem                           main_pos  \n",
              "0                   시간 때우다 좋다 영화 지루함                   시간 때우다 좋다 영화 지루함  \n",
              "1  훈훈하다 정이 느껴지다 영화 가족 끼리 드라마 보다 보다 딱  훈훈하다 정이 느껴지다 영화 가족 끼리 드라마 보다 보다 딱  \n",
              "2                                                                        \n",
              "3                  멋있다 영화 이다 잊다 수 없다                  멋있다 영화 이다 잊다 수 없다  \n",
              "4                     너무 감동 적다 펑펑 울다                     너무 감동 적다 펑펑 울다  "
            ],
            "text/html": [
              "\n",
              "  <div id=\"df-d57031b4-181c-4d93-b90c-4c99a18f68e1\">\n",
              "    <div class=\"colab-df-container\">\n",
              "      <div>\n",
              "<style scoped>\n",
              "    .dataframe tbody tr th:only-of-type {\n",
              "        vertical-align: middle;\n",
              "    }\n",
              "\n",
              "    .dataframe tbody tr th {\n",
              "        vertical-align: top;\n",
              "    }\n",
              "\n",
              "    .dataframe thead th {\n",
              "        text-align: right;\n",
              "    }\n",
              "</style>\n",
              "<table border=\"1\" class=\"dataframe\">\n",
              "  <thead>\n",
              "    <tr style=\"text-align: right;\">\n",
              "      <th></th>\n",
              "      <th>id</th>\n",
              "      <th>document</th>\n",
              "      <th>preprocessed</th>\n",
              "      <th>tokenized_stem</th>\n",
              "      <th>main_pos</th>\n",
              "    </tr>\n",
              "  </thead>\n",
              "  <tbody>\n",
              "    <tr>\n",
              "      <th>0</th>\n",
              "      <td>1</td>\n",
              "      <td>시간 때우기 좋은 영화 지루함</td>\n",
              "      <td>시간 때우기 좋은 영화 지루함</td>\n",
              "      <td>시간 때우다 좋다 영화 지루함</td>\n",
              "      <td>시간 때우다 좋다 영화 지루함</td>\n",
              "    </tr>\n",
              "    <tr>\n",
              "      <th>1</th>\n",
              "      <td>2</td>\n",
              "      <td>훈훈한 정이 느껴지는 영화! 가족끼리 드라마 보듯이 보면 딱~!</td>\n",
              "      <td>훈훈한 정이 느껴지는 영화 가족끼리 드라마 보듯이 보면 딱</td>\n",
              "      <td>훈훈하다 정이 느껴지다 영화 가족 끼리 드라마 보다 보다 딱</td>\n",
              "      <td>훈훈하다 정이 느껴지다 영화 가족 끼리 드라마 보다 보다 딱</td>\n",
              "    </tr>\n",
              "    <tr>\n",
              "      <th>2</th>\n",
              "      <td>3</td>\n",
              "      <td>Childhood fantasy</td>\n",
              "      <td></td>\n",
              "      <td></td>\n",
              "      <td></td>\n",
              "    </tr>\n",
              "    <tr>\n",
              "      <th>3</th>\n",
              "      <td>4</td>\n",
              "      <td>멋있는 영화입니다. 잊을 수 없는!</td>\n",
              "      <td>멋있는 영화입니다 잊을 수 없는</td>\n",
              "      <td>멋있다 영화 이다 잊다 수 없다</td>\n",
              "      <td>멋있다 영화 이다 잊다 수 없다</td>\n",
              "    </tr>\n",
              "    <tr>\n",
              "      <th>4</th>\n",
              "      <td>5</td>\n",
              "      <td>너무 감동적이네요 펑펑 울었습니다</td>\n",
              "      <td>너무 감동적이네요 펑펑 울었습니다</td>\n",
              "      <td>너무 감동 적다 펑펑 울다</td>\n",
              "      <td>너무 감동 적다 펑펑 울다</td>\n",
              "    </tr>\n",
              "  </tbody>\n",
              "</table>\n",
              "</div>\n",
              "      <button class=\"colab-df-convert\" onclick=\"convertToInteractive('df-d57031b4-181c-4d93-b90c-4c99a18f68e1')\"\n",
              "              title=\"Convert this dataframe to an interactive table.\"\n",
              "              style=\"display:none;\">\n",
              "        \n",
              "  <svg xmlns=\"http://www.w3.org/2000/svg\" height=\"24px\"viewBox=\"0 0 24 24\"\n",
              "       width=\"24px\">\n",
              "    <path d=\"M0 0h24v24H0V0z\" fill=\"none\"/>\n",
              "    <path d=\"M18.56 5.44l.94 2.06.94-2.06 2.06-.94-2.06-.94-.94-2.06-.94 2.06-2.06.94zm-11 1L8.5 8.5l.94-2.06 2.06-.94-2.06-.94L8.5 2.5l-.94 2.06-2.06.94zm10 10l.94 2.06.94-2.06 2.06-.94-2.06-.94-.94-2.06-.94 2.06-2.06.94z\"/><path d=\"M17.41 7.96l-1.37-1.37c-.4-.4-.92-.59-1.43-.59-.52 0-1.04.2-1.43.59L10.3 9.45l-7.72 7.72c-.78.78-.78 2.05 0 2.83L4 21.41c.39.39.9.59 1.41.59.51 0 1.02-.2 1.41-.59l7.78-7.78 2.81-2.81c.8-.78.8-2.07 0-2.86zM5.41 20L4 18.59l7.72-7.72 1.47 1.35L5.41 20z\"/>\n",
              "  </svg>\n",
              "      </button>\n",
              "      \n",
              "  <style>\n",
              "    .colab-df-container {\n",
              "      display:flex;\n",
              "      flex-wrap:wrap;\n",
              "      gap: 12px;\n",
              "    }\n",
              "\n",
              "    .colab-df-convert {\n",
              "      background-color: #E8F0FE;\n",
              "      border: none;\n",
              "      border-radius: 50%;\n",
              "      cursor: pointer;\n",
              "      display: none;\n",
              "      fill: #1967D2;\n",
              "      height: 32px;\n",
              "      padding: 0 0 0 0;\n",
              "      width: 32px;\n",
              "    }\n",
              "\n",
              "    .colab-df-convert:hover {\n",
              "      background-color: #E2EBFA;\n",
              "      box-shadow: 0px 1px 2px rgba(60, 64, 67, 0.3), 0px 1px 3px 1px rgba(60, 64, 67, 0.15);\n",
              "      fill: #174EA6;\n",
              "    }\n",
              "\n",
              "    [theme=dark] .colab-df-convert {\n",
              "      background-color: #3B4455;\n",
              "      fill: #D2E3FC;\n",
              "    }\n",
              "\n",
              "    [theme=dark] .colab-df-convert:hover {\n",
              "      background-color: #434B5C;\n",
              "      box-shadow: 0px 1px 3px 1px rgba(0, 0, 0, 0.15);\n",
              "      filter: drop-shadow(0px 1px 2px rgba(0, 0, 0, 0.3));\n",
              "      fill: #FFFFFF;\n",
              "    }\n",
              "  </style>\n",
              "\n",
              "      <script>\n",
              "        const buttonEl =\n",
              "          document.querySelector('#df-d57031b4-181c-4d93-b90c-4c99a18f68e1 button.colab-df-convert');\n",
              "        buttonEl.style.display =\n",
              "          google.colab.kernel.accessAllowed ? 'block' : 'none';\n",
              "\n",
              "        async function convertToInteractive(key) {\n",
              "          const element = document.querySelector('#df-d57031b4-181c-4d93-b90c-4c99a18f68e1');\n",
              "          const dataTable =\n",
              "            await google.colab.kernel.invokeFunction('convertToInteractive',\n",
              "                                                     [key], {});\n",
              "          if (!dataTable) return;\n",
              "\n",
              "          const docLinkHtml = 'Like what you see? Visit the ' +\n",
              "            '<a target=\"_blank\" href=https://colab.research.google.com/notebooks/data_table.ipynb>data table notebook</a>'\n",
              "            + ' to learn more about interactive tables.';\n",
              "          element.innerHTML = '';\n",
              "          dataTable['output_type'] = 'display_data';\n",
              "          await google.colab.output.renderOutput(dataTable, element);\n",
              "          const docLink = document.createElement('div');\n",
              "          docLink.innerHTML = docLinkHtml;\n",
              "          element.appendChild(docLink);\n",
              "        }\n",
              "      </script>\n",
              "    </div>\n",
              "  </div>\n",
              "  "
            ]
          },
          "metadata": {},
          "execution_count": 62
        }
      ],
      "source": [
        "# preprocessed\n",
        "test['preprocessed'] = test['document'].str.replace(\"[^ㄱ-ㅎㅏ-ㅣ가-힣 ]\",\"\") # 한글과 공백을 제외하고 모두 제거\n",
        "test['preprocessed'] = test['preprocessed'].str.replace(\" +\", \" \") # 다중 공백 제거\n",
        "\n",
        "# tokenized_stem\n",
        "tokenized = []\n",
        "for sentence in test['preprocessed']:\n",
        "    # To do\n",
        "    tokens = okt.morphs(sentence, stem = True)#형태소 분석, 어간 추출\n",
        "    tokenize = \" \".join(tokens)\n",
        "    tokenized.append(tokenize)\n",
        "test[\"tokenized_stem\"] = pd.DataFrame(tokenized)\n",
        "\n",
        "# main_pos\n",
        "main_pos = []\n",
        "for sentence in test['document']:\n",
        "  # To do\n",
        "    pos = okt.pos(sentence, stem=True)#품사 태그\n",
        "    main_words = [word_pos[0] for word_pos in pos if word_pos[1] in (\"Noun\", \"Adverb\", \"Adjective\", \"Verb\")] # 원하는 품사 추출\n",
        "    main_words_str = \" \".join(main_words)\n",
        "    main_pos.append(main_words_str)\n",
        "test[\"main_pos\"] = pd.DataFrame(main_pos)\n",
        "\n",
        "test.head()"
      ]
    },
    {
      "cell_type": "code",
      "execution_count": null,
      "metadata": {
        "id": "7OmdlKhhxzYr",
        "outputId": "1cf268c5-a22e-4b65-f6fd-7c91ddd22d9b",
        "colab": {
          "base_uri": "https://localhost:8080/"
        }
      },
      "outputs": [
        {
          "output_type": "stream",
          "name": "stdout",
          "text": [
            "[0 1 0 ... 1 0 1]\n"
          ]
        }
      ],
      "source": [
        "X_test = test.main_pos\n",
        "# To do\n",
        "X_test_vec = vectorizer.transform(X_test)# train셋으로 fit한 벡터라이저 이용해 transform\n",
        "pred_test = model.predict(X_test_vec)\n",
        "print(pred_test)"
      ]
    },
    {
      "cell_type": "markdown",
      "source": [
        "# 워드클라우드"
      ],
      "metadata": {
        "id": "-zhqvogvj4b3"
      }
    },
    {
      "cell_type": "code",
      "source": [
        "test['pred']=pred_test"
      ],
      "metadata": {
        "id": "K8hlO6rWfEOJ"
      },
      "execution_count": null,
      "outputs": []
    },
    {
      "cell_type": "code",
      "source": [
        "test"
      ],
      "metadata": {
        "colab": {
          "base_uri": "https://localhost:8080/",
          "height": 867
        },
        "id": "SXQ-JDkNfKWF",
        "outputId": "15044db0-1df5-4c9c-c4b4-4bf669c88885"
      },
      "execution_count": null,
      "outputs": [
        {
          "output_type": "execute_result",
          "data": {
            "text/plain": [
              "        id                             document  \\\n",
              "0        1                     시간 때우기 좋은 영화 지루함   \n",
              "1        2  훈훈한 정이 느껴지는 영화! 가족끼리 드라마 보듯이 보면 딱~!   \n",
              "2        3                    Childhood fantasy   \n",
              "3        4                  멋있는 영화입니다. 잊을 수 없는!   \n",
              "4        5                   너무 감동적이네요 펑펑 울었습니다   \n",
              "...    ...                                  ...   \n",
              "4995  4996        연계도 제대로 안되고 뭔가 부족한느낌이들고 찝찝한영화   \n",
              "4996  4997           내생에 최악의 영화중 하나 졸려서 미칠뻔....   \n",
              "4997  4998       지금까지 나온 드라마 중 최고였습니다. 100점 만점!   \n",
              "4998  4999       영화값으로 엄청난 공연을 보았다 - 이게 웬 횡재 ..   \n",
              "4999  5000              올해엔 롯데 자이언츠가 꼭 우승했으면...   \n",
              "\n",
              "                          preprocessed                         tokenized_stem  \\\n",
              "0                     시간 때우기 좋은 영화 지루함                       시간 때우다 좋다 영화 지루함   \n",
              "1     훈훈한 정이 느껴지는 영화 가족끼리 드라마 보듯이 보면 딱      훈훈하다 정이 느껴지다 영화 가족 끼리 드라마 보다 보다 딱   \n",
              "2                                                                               \n",
              "3                    멋있는 영화입니다 잊을 수 없는                      멋있다 영화 이다 잊다 수 없다   \n",
              "4                   너무 감동적이네요 펑펑 울었습니다                         너무 감동 적다 펑펑 울다   \n",
              "...                                ...                                    ...   \n",
              "4995     연계도 제대로 안되고 뭔가 부족한느낌이들고 찝찝한영화  연 계 도 제대로 안되다 뭔가 부족하다 느낌 이 들다 찝찝하다 영화   \n",
              "4996            내생에 최악의 영화중 하나 졸려서 미칠뻔            내생 에 최악 의 영화 중 하나 졸리다 미치다 뻔   \n",
              "4997         지금까지 나온 드라마 중 최고였습니다 점 만점             지금 까지 나오다 드라마 중 최고 이다 점 만점   \n",
              "4998        영화값으로 엄청난 공연을 보았다 이게 웬 횡재           영화 값 으로 엄청나다 공연 을 보다 이 게 웬 횡재   \n",
              "4999              올해엔 롯데 자이언츠가 꼭 우승했으면                  올해 엔 롯데 자이언츠 가 꼭 우승하다   \n",
              "\n",
              "                               main_pos  pred  \n",
              "0                      시간 때우다 좋다 영화 지루함     0  \n",
              "1     훈훈하다 정이 느껴지다 영화 가족 끼리 드라마 보다 보다 딱     1  \n",
              "2                                           0  \n",
              "3                     멋있다 영화 이다 잊다 수 없다     1  \n",
              "4                        너무 감동 적다 펑펑 울다     1  \n",
              "...                                 ...   ...  \n",
              "4995    계 제대로 안되다 뭔가 부족하다 느낌 들다 찝찝하다 영화     0  \n",
              "4996              내생 최악 영화 하나 졸리다 미치다 뻔     0  \n",
              "4997            지금 나오다 드라마 중 최고 이다 점 만점     1  \n",
              "4998             영화 값 엄청나다 공연 보다 이 웬 횡재     0  \n",
              "4999                  올해 롯데 자이언츠 꼭 우승하다     1  \n",
              "\n",
              "[5000 rows x 6 columns]"
            ],
            "text/html": [
              "\n",
              "  <div id=\"df-28f1765a-070b-4899-bc07-3dab011c554e\">\n",
              "    <div class=\"colab-df-container\">\n",
              "      <div>\n",
              "<style scoped>\n",
              "    .dataframe tbody tr th:only-of-type {\n",
              "        vertical-align: middle;\n",
              "    }\n",
              "\n",
              "    .dataframe tbody tr th {\n",
              "        vertical-align: top;\n",
              "    }\n",
              "\n",
              "    .dataframe thead th {\n",
              "        text-align: right;\n",
              "    }\n",
              "</style>\n",
              "<table border=\"1\" class=\"dataframe\">\n",
              "  <thead>\n",
              "    <tr style=\"text-align: right;\">\n",
              "      <th></th>\n",
              "      <th>id</th>\n",
              "      <th>document</th>\n",
              "      <th>preprocessed</th>\n",
              "      <th>tokenized_stem</th>\n",
              "      <th>main_pos</th>\n",
              "      <th>pred</th>\n",
              "    </tr>\n",
              "  </thead>\n",
              "  <tbody>\n",
              "    <tr>\n",
              "      <th>0</th>\n",
              "      <td>1</td>\n",
              "      <td>시간 때우기 좋은 영화 지루함</td>\n",
              "      <td>시간 때우기 좋은 영화 지루함</td>\n",
              "      <td>시간 때우다 좋다 영화 지루함</td>\n",
              "      <td>시간 때우다 좋다 영화 지루함</td>\n",
              "      <td>0</td>\n",
              "    </tr>\n",
              "    <tr>\n",
              "      <th>1</th>\n",
              "      <td>2</td>\n",
              "      <td>훈훈한 정이 느껴지는 영화! 가족끼리 드라마 보듯이 보면 딱~!</td>\n",
              "      <td>훈훈한 정이 느껴지는 영화 가족끼리 드라마 보듯이 보면 딱</td>\n",
              "      <td>훈훈하다 정이 느껴지다 영화 가족 끼리 드라마 보다 보다 딱</td>\n",
              "      <td>훈훈하다 정이 느껴지다 영화 가족 끼리 드라마 보다 보다 딱</td>\n",
              "      <td>1</td>\n",
              "    </tr>\n",
              "    <tr>\n",
              "      <th>2</th>\n",
              "      <td>3</td>\n",
              "      <td>Childhood fantasy</td>\n",
              "      <td></td>\n",
              "      <td></td>\n",
              "      <td></td>\n",
              "      <td>0</td>\n",
              "    </tr>\n",
              "    <tr>\n",
              "      <th>3</th>\n",
              "      <td>4</td>\n",
              "      <td>멋있는 영화입니다. 잊을 수 없는!</td>\n",
              "      <td>멋있는 영화입니다 잊을 수 없는</td>\n",
              "      <td>멋있다 영화 이다 잊다 수 없다</td>\n",
              "      <td>멋있다 영화 이다 잊다 수 없다</td>\n",
              "      <td>1</td>\n",
              "    </tr>\n",
              "    <tr>\n",
              "      <th>4</th>\n",
              "      <td>5</td>\n",
              "      <td>너무 감동적이네요 펑펑 울었습니다</td>\n",
              "      <td>너무 감동적이네요 펑펑 울었습니다</td>\n",
              "      <td>너무 감동 적다 펑펑 울다</td>\n",
              "      <td>너무 감동 적다 펑펑 울다</td>\n",
              "      <td>1</td>\n",
              "    </tr>\n",
              "    <tr>\n",
              "      <th>...</th>\n",
              "      <td>...</td>\n",
              "      <td>...</td>\n",
              "      <td>...</td>\n",
              "      <td>...</td>\n",
              "      <td>...</td>\n",
              "      <td>...</td>\n",
              "    </tr>\n",
              "    <tr>\n",
              "      <th>4995</th>\n",
              "      <td>4996</td>\n",
              "      <td>연계도 제대로 안되고 뭔가 부족한느낌이들고 찝찝한영화</td>\n",
              "      <td>연계도 제대로 안되고 뭔가 부족한느낌이들고 찝찝한영화</td>\n",
              "      <td>연 계 도 제대로 안되다 뭔가 부족하다 느낌 이 들다 찝찝하다 영화</td>\n",
              "      <td>계 제대로 안되다 뭔가 부족하다 느낌 들다 찝찝하다 영화</td>\n",
              "      <td>0</td>\n",
              "    </tr>\n",
              "    <tr>\n",
              "      <th>4996</th>\n",
              "      <td>4997</td>\n",
              "      <td>내생에 최악의 영화중 하나 졸려서 미칠뻔....</td>\n",
              "      <td>내생에 최악의 영화중 하나 졸려서 미칠뻔</td>\n",
              "      <td>내생 에 최악 의 영화 중 하나 졸리다 미치다 뻔</td>\n",
              "      <td>내생 최악 영화 하나 졸리다 미치다 뻔</td>\n",
              "      <td>0</td>\n",
              "    </tr>\n",
              "    <tr>\n",
              "      <th>4997</th>\n",
              "      <td>4998</td>\n",
              "      <td>지금까지 나온 드라마 중 최고였습니다. 100점 만점!</td>\n",
              "      <td>지금까지 나온 드라마 중 최고였습니다 점 만점</td>\n",
              "      <td>지금 까지 나오다 드라마 중 최고 이다 점 만점</td>\n",
              "      <td>지금 나오다 드라마 중 최고 이다 점 만점</td>\n",
              "      <td>1</td>\n",
              "    </tr>\n",
              "    <tr>\n",
              "      <th>4998</th>\n",
              "      <td>4999</td>\n",
              "      <td>영화값으로 엄청난 공연을 보았다 - 이게 웬 횡재 ..</td>\n",
              "      <td>영화값으로 엄청난 공연을 보았다 이게 웬 횡재</td>\n",
              "      <td>영화 값 으로 엄청나다 공연 을 보다 이 게 웬 횡재</td>\n",
              "      <td>영화 값 엄청나다 공연 보다 이 웬 횡재</td>\n",
              "      <td>0</td>\n",
              "    </tr>\n",
              "    <tr>\n",
              "      <th>4999</th>\n",
              "      <td>5000</td>\n",
              "      <td>올해엔 롯데 자이언츠가 꼭 우승했으면...</td>\n",
              "      <td>올해엔 롯데 자이언츠가 꼭 우승했으면</td>\n",
              "      <td>올해 엔 롯데 자이언츠 가 꼭 우승하다</td>\n",
              "      <td>올해 롯데 자이언츠 꼭 우승하다</td>\n",
              "      <td>1</td>\n",
              "    </tr>\n",
              "  </tbody>\n",
              "</table>\n",
              "<p>5000 rows × 6 columns</p>\n",
              "</div>\n",
              "      <button class=\"colab-df-convert\" onclick=\"convertToInteractive('df-28f1765a-070b-4899-bc07-3dab011c554e')\"\n",
              "              title=\"Convert this dataframe to an interactive table.\"\n",
              "              style=\"display:none;\">\n",
              "        \n",
              "  <svg xmlns=\"http://www.w3.org/2000/svg\" height=\"24px\"viewBox=\"0 0 24 24\"\n",
              "       width=\"24px\">\n",
              "    <path d=\"M0 0h24v24H0V0z\" fill=\"none\"/>\n",
              "    <path d=\"M18.56 5.44l.94 2.06.94-2.06 2.06-.94-2.06-.94-.94-2.06-.94 2.06-2.06.94zm-11 1L8.5 8.5l.94-2.06 2.06-.94-2.06-.94L8.5 2.5l-.94 2.06-2.06.94zm10 10l.94 2.06.94-2.06 2.06-.94-2.06-.94-.94-2.06-.94 2.06-2.06.94z\"/><path d=\"M17.41 7.96l-1.37-1.37c-.4-.4-.92-.59-1.43-.59-.52 0-1.04.2-1.43.59L10.3 9.45l-7.72 7.72c-.78.78-.78 2.05 0 2.83L4 21.41c.39.39.9.59 1.41.59.51 0 1.02-.2 1.41-.59l7.78-7.78 2.81-2.81c.8-.78.8-2.07 0-2.86zM5.41 20L4 18.59l7.72-7.72 1.47 1.35L5.41 20z\"/>\n",
              "  </svg>\n",
              "      </button>\n",
              "      \n",
              "  <style>\n",
              "    .colab-df-container {\n",
              "      display:flex;\n",
              "      flex-wrap:wrap;\n",
              "      gap: 12px;\n",
              "    }\n",
              "\n",
              "    .colab-df-convert {\n",
              "      background-color: #E8F0FE;\n",
              "      border: none;\n",
              "      border-radius: 50%;\n",
              "      cursor: pointer;\n",
              "      display: none;\n",
              "      fill: #1967D2;\n",
              "      height: 32px;\n",
              "      padding: 0 0 0 0;\n",
              "      width: 32px;\n",
              "    }\n",
              "\n",
              "    .colab-df-convert:hover {\n",
              "      background-color: #E2EBFA;\n",
              "      box-shadow: 0px 1px 2px rgba(60, 64, 67, 0.3), 0px 1px 3px 1px rgba(60, 64, 67, 0.15);\n",
              "      fill: #174EA6;\n",
              "    }\n",
              "\n",
              "    [theme=dark] .colab-df-convert {\n",
              "      background-color: #3B4455;\n",
              "      fill: #D2E3FC;\n",
              "    }\n",
              "\n",
              "    [theme=dark] .colab-df-convert:hover {\n",
              "      background-color: #434B5C;\n",
              "      box-shadow: 0px 1px 3px 1px rgba(0, 0, 0, 0.15);\n",
              "      filter: drop-shadow(0px 1px 2px rgba(0, 0, 0, 0.3));\n",
              "      fill: #FFFFFF;\n",
              "    }\n",
              "  </style>\n",
              "\n",
              "      <script>\n",
              "        const buttonEl =\n",
              "          document.querySelector('#df-28f1765a-070b-4899-bc07-3dab011c554e button.colab-df-convert');\n",
              "        buttonEl.style.display =\n",
              "          google.colab.kernel.accessAllowed ? 'block' : 'none';\n",
              "\n",
              "        async function convertToInteractive(key) {\n",
              "          const element = document.querySelector('#df-28f1765a-070b-4899-bc07-3dab011c554e');\n",
              "          const dataTable =\n",
              "            await google.colab.kernel.invokeFunction('convertToInteractive',\n",
              "                                                     [key], {});\n",
              "          if (!dataTable) return;\n",
              "\n",
              "          const docLinkHtml = 'Like what you see? Visit the ' +\n",
              "            '<a target=\"_blank\" href=https://colab.research.google.com/notebooks/data_table.ipynb>data table notebook</a>'\n",
              "            + ' to learn more about interactive tables.';\n",
              "          element.innerHTML = '';\n",
              "          dataTable['output_type'] = 'display_data';\n",
              "          await google.colab.output.renderOutput(dataTable, element);\n",
              "          const docLink = document.createElement('div');\n",
              "          docLink.innerHTML = docLinkHtml;\n",
              "          element.appendChild(docLink);\n",
              "        }\n",
              "      </script>\n",
              "    </div>\n",
              "  </div>\n",
              "  "
            ]
          },
          "metadata": {},
          "execution_count": 65
        }
      ]
    },
    {
      "cell_type": "code",
      "source": [
        "df=test.copy()"
      ],
      "metadata": {
        "id": "3Zfud6gkfNQL"
      },
      "execution_count": null,
      "outputs": []
    },
    {
      "cell_type": "code",
      "source": [
        "!pip install matplotlib"
      ],
      "metadata": {
        "colab": {
          "base_uri": "https://localhost:8080/"
        },
        "id": "eoI6_GOkfUiR",
        "outputId": "c7760e63-739b-43ac-b034-1cc5413046dd"
      },
      "execution_count": null,
      "outputs": [
        {
          "output_type": "stream",
          "name": "stdout",
          "text": [
            "Looking in indexes: https://pypi.org/simple, https://us-python.pkg.dev/colab-wheels/public/simple/\n",
            "Requirement already satisfied: matplotlib in /usr/local/lib/python3.7/dist-packages (3.2.2)\n",
            "Requirement already satisfied: cycler>=0.10 in /usr/local/lib/python3.7/dist-packages (from matplotlib) (0.11.0)\n",
            "Requirement already satisfied: python-dateutil>=2.1 in /usr/local/lib/python3.7/dist-packages (from matplotlib) (2.8.2)\n",
            "Requirement already satisfied: kiwisolver>=1.0.1 in /usr/local/lib/python3.7/dist-packages (from matplotlib) (1.4.4)\n",
            "Requirement already satisfied: pyparsing!=2.0.4,!=2.1.2,!=2.1.6,>=2.0.1 in /usr/local/lib/python3.7/dist-packages (from matplotlib) (3.0.9)\n",
            "Requirement already satisfied: numpy>=1.11 in /usr/local/lib/python3.7/dist-packages (from matplotlib) (1.21.6)\n",
            "Requirement already satisfied: typing-extensions in /usr/local/lib/python3.7/dist-packages (from kiwisolver>=1.0.1->matplotlib) (4.1.1)\n",
            "Requirement already satisfied: six>=1.5 in /usr/local/lib/python3.7/dist-packages (from python-dateutil>=2.1->matplotlib) (1.15.0)\n"
          ]
        }
      ]
    },
    {
      "cell_type": "code",
      "source": [
        "!pip install wordcloud "
      ],
      "metadata": {
        "colab": {
          "base_uri": "https://localhost:8080/"
        },
        "id": "0GMjOsA_fYp1",
        "outputId": "86739675-2f4a-47cb-fe40-84be0433b956"
      },
      "execution_count": null,
      "outputs": [
        {
          "output_type": "stream",
          "name": "stdout",
          "text": [
            "Looking in indexes: https://pypi.org/simple, https://us-python.pkg.dev/colab-wheels/public/simple/\n",
            "Requirement already satisfied: wordcloud in /usr/local/lib/python3.7/dist-packages (1.8.2.2)\n",
            "Requirement already satisfied: numpy>=1.6.1 in /usr/local/lib/python3.7/dist-packages (from wordcloud) (1.21.6)\n",
            "Requirement already satisfied: matplotlib in /usr/local/lib/python3.7/dist-packages (from wordcloud) (3.2.2)\n",
            "Requirement already satisfied: pillow in /usr/local/lib/python3.7/dist-packages (from wordcloud) (7.1.2)\n",
            "Requirement already satisfied: kiwisolver>=1.0.1 in /usr/local/lib/python3.7/dist-packages (from matplotlib->wordcloud) (1.4.4)\n",
            "Requirement already satisfied: pyparsing!=2.0.4,!=2.1.2,!=2.1.6,>=2.0.1 in /usr/local/lib/python3.7/dist-packages (from matplotlib->wordcloud) (3.0.9)\n",
            "Requirement already satisfied: cycler>=0.10 in /usr/local/lib/python3.7/dist-packages (from matplotlib->wordcloud) (0.11.0)\n",
            "Requirement already satisfied: python-dateutil>=2.1 in /usr/local/lib/python3.7/dist-packages (from matplotlib->wordcloud) (2.8.2)\n",
            "Requirement already satisfied: typing-extensions in /usr/local/lib/python3.7/dist-packages (from kiwisolver>=1.0.1->matplotlib->wordcloud) (4.1.1)\n",
            "Requirement already satisfied: six>=1.5 in /usr/local/lib/python3.7/dist-packages (from python-dateutil>=2.1->matplotlib->wordcloud) (1.15.0)\n"
          ]
        }
      ]
    },
    {
      "cell_type": "code",
      "source": [
        "import pandas as pd\n",
        "import re\n",
        "\n",
        "from wordcloud import WordCloud, STOPWORDS\n",
        "\n",
        "from matplotlib import font_manager, rc\n",
        "import matplotlib.pyplot as plt\n",
        "\n",
        "from konlpy.tag import Okt\n",
        "from collections import Counter\n",
        "\n",
        "import matplotlib.font_manager as fm\n",
        "\n",
        "fontpath = '/content/drive/MyDrive/Ybigta_summer/KoNLPy/NanumGothic.ttf'\n",
        "font = fm.FontProperties(fname=fontpath, size=9)\n",
        "plt.rc('font', family='NanumGothic')\n",
        "fm._rebuild()\n"
      ],
      "metadata": {
        "id": "1DYLKVfpfh2h"
      },
      "execution_count": 95,
      "outputs": []
    },
    {
      "cell_type": "code",
      "source": [
        "pos = df[df['pred']==1] #긍정리뷰\n",
        "neg = df[df['pred']==0] #부정리뷰"
      ],
      "metadata": {
        "id": "cKgbM9W-foVC"
      },
      "execution_count": 96,
      "outputs": []
    },
    {
      "cell_type": "code",
      "source": [
        "display(pos.head())\n",
        "display(neg.head())"
      ],
      "metadata": {
        "colab": {
          "base_uri": "https://localhost:8080/",
          "height": 769
        },
        "id": "XqDws61of_yx",
        "outputId": "bb2c6c0f-15d6-4608-dece-8e852dcde649"
      },
      "execution_count": 97,
      "outputs": [
        {
          "output_type": "display_data",
          "data": {
            "text/plain": [
              "   id                             document                       preprocessed  \\\n",
              "1   2  훈훈한 정이 느껴지는 영화! 가족끼리 드라마 보듯이 보면 딱~!   훈훈한 정이 느껴지는 영화 가족끼리 드라마 보듯이 보면 딱   \n",
              "3   4                  멋있는 영화입니다. 잊을 수 없는!                  멋있는 영화입니다 잊을 수 없는   \n",
              "4   5                   너무 감동적이네요 펑펑 울었습니다                 너무 감동적이네요 펑펑 울었습니다   \n",
              "6   7    친구한테 추천받고 본 영화이지만 내가 남들한테 추천하는 영화  친구한테 추천받고 본 영화이지만 내가 남들한테 추천하는 영화   \n",
              "8   9           강배우 엄청난데... 여군버전으로 다시 안 찍나            강배우 엄청난데 여군버전으로 다시 안 찍나   \n",
              "\n",
              "                              tokenized_stem  \\\n",
              "1          훈훈하다 정이 느껴지다 영화 가족 끼리 드라마 보다 보다 딱   \n",
              "3                          멋있다 영화 이다 잊다 수 없다   \n",
              "4                             너무 감동 적다 펑펑 울다   \n",
              "6  친구 한테 추천 받다 보다 영화 이지만 내 가 남 들 한테 추천 하다 영화   \n",
              "8                강 배우 엄청나다 여군 버전 으로 다시 안 찍 나   \n",
              "\n",
              "                            main_pos  pred  \n",
              "1  훈훈하다 정이 느껴지다 영화 가족 끼리 드라마 보다 보다 딱     1  \n",
              "3                  멋있다 영화 이다 잊다 수 없다     1  \n",
              "4                     너무 감동 적다 펑펑 울다     1  \n",
              "6        친구 추천 받다 보다 영화 내 남 추천 하다 영화     1  \n",
              "8             강 배우 엄청나다 여군 버전 다시 안 찍     1  "
            ],
            "text/html": [
              "\n",
              "  <div id=\"df-1bfa312c-56f6-42e5-8e98-67f1659a3559\">\n",
              "    <div class=\"colab-df-container\">\n",
              "      <div>\n",
              "<style scoped>\n",
              "    .dataframe tbody tr th:only-of-type {\n",
              "        vertical-align: middle;\n",
              "    }\n",
              "\n",
              "    .dataframe tbody tr th {\n",
              "        vertical-align: top;\n",
              "    }\n",
              "\n",
              "    .dataframe thead th {\n",
              "        text-align: right;\n",
              "    }\n",
              "</style>\n",
              "<table border=\"1\" class=\"dataframe\">\n",
              "  <thead>\n",
              "    <tr style=\"text-align: right;\">\n",
              "      <th></th>\n",
              "      <th>id</th>\n",
              "      <th>document</th>\n",
              "      <th>preprocessed</th>\n",
              "      <th>tokenized_stem</th>\n",
              "      <th>main_pos</th>\n",
              "      <th>pred</th>\n",
              "    </tr>\n",
              "  </thead>\n",
              "  <tbody>\n",
              "    <tr>\n",
              "      <th>1</th>\n",
              "      <td>2</td>\n",
              "      <td>훈훈한 정이 느껴지는 영화! 가족끼리 드라마 보듯이 보면 딱~!</td>\n",
              "      <td>훈훈한 정이 느껴지는 영화 가족끼리 드라마 보듯이 보면 딱</td>\n",
              "      <td>훈훈하다 정이 느껴지다 영화 가족 끼리 드라마 보다 보다 딱</td>\n",
              "      <td>훈훈하다 정이 느껴지다 영화 가족 끼리 드라마 보다 보다 딱</td>\n",
              "      <td>1</td>\n",
              "    </tr>\n",
              "    <tr>\n",
              "      <th>3</th>\n",
              "      <td>4</td>\n",
              "      <td>멋있는 영화입니다. 잊을 수 없는!</td>\n",
              "      <td>멋있는 영화입니다 잊을 수 없는</td>\n",
              "      <td>멋있다 영화 이다 잊다 수 없다</td>\n",
              "      <td>멋있다 영화 이다 잊다 수 없다</td>\n",
              "      <td>1</td>\n",
              "    </tr>\n",
              "    <tr>\n",
              "      <th>4</th>\n",
              "      <td>5</td>\n",
              "      <td>너무 감동적이네요 펑펑 울었습니다</td>\n",
              "      <td>너무 감동적이네요 펑펑 울었습니다</td>\n",
              "      <td>너무 감동 적다 펑펑 울다</td>\n",
              "      <td>너무 감동 적다 펑펑 울다</td>\n",
              "      <td>1</td>\n",
              "    </tr>\n",
              "    <tr>\n",
              "      <th>6</th>\n",
              "      <td>7</td>\n",
              "      <td>친구한테 추천받고 본 영화이지만 내가 남들한테 추천하는 영화</td>\n",
              "      <td>친구한테 추천받고 본 영화이지만 내가 남들한테 추천하는 영화</td>\n",
              "      <td>친구 한테 추천 받다 보다 영화 이지만 내 가 남 들 한테 추천 하다 영화</td>\n",
              "      <td>친구 추천 받다 보다 영화 내 남 추천 하다 영화</td>\n",
              "      <td>1</td>\n",
              "    </tr>\n",
              "    <tr>\n",
              "      <th>8</th>\n",
              "      <td>9</td>\n",
              "      <td>강배우 엄청난데... 여군버전으로 다시 안 찍나</td>\n",
              "      <td>강배우 엄청난데 여군버전으로 다시 안 찍나</td>\n",
              "      <td>강 배우 엄청나다 여군 버전 으로 다시 안 찍 나</td>\n",
              "      <td>강 배우 엄청나다 여군 버전 다시 안 찍</td>\n",
              "      <td>1</td>\n",
              "    </tr>\n",
              "  </tbody>\n",
              "</table>\n",
              "</div>\n",
              "      <button class=\"colab-df-convert\" onclick=\"convertToInteractive('df-1bfa312c-56f6-42e5-8e98-67f1659a3559')\"\n",
              "              title=\"Convert this dataframe to an interactive table.\"\n",
              "              style=\"display:none;\">\n",
              "        \n",
              "  <svg xmlns=\"http://www.w3.org/2000/svg\" height=\"24px\"viewBox=\"0 0 24 24\"\n",
              "       width=\"24px\">\n",
              "    <path d=\"M0 0h24v24H0V0z\" fill=\"none\"/>\n",
              "    <path d=\"M18.56 5.44l.94 2.06.94-2.06 2.06-.94-2.06-.94-.94-2.06-.94 2.06-2.06.94zm-11 1L8.5 8.5l.94-2.06 2.06-.94-2.06-.94L8.5 2.5l-.94 2.06-2.06.94zm10 10l.94 2.06.94-2.06 2.06-.94-2.06-.94-.94-2.06-.94 2.06-2.06.94z\"/><path d=\"M17.41 7.96l-1.37-1.37c-.4-.4-.92-.59-1.43-.59-.52 0-1.04.2-1.43.59L10.3 9.45l-7.72 7.72c-.78.78-.78 2.05 0 2.83L4 21.41c.39.39.9.59 1.41.59.51 0 1.02-.2 1.41-.59l7.78-7.78 2.81-2.81c.8-.78.8-2.07 0-2.86zM5.41 20L4 18.59l7.72-7.72 1.47 1.35L5.41 20z\"/>\n",
              "  </svg>\n",
              "      </button>\n",
              "      \n",
              "  <style>\n",
              "    .colab-df-container {\n",
              "      display:flex;\n",
              "      flex-wrap:wrap;\n",
              "      gap: 12px;\n",
              "    }\n",
              "\n",
              "    .colab-df-convert {\n",
              "      background-color: #E8F0FE;\n",
              "      border: none;\n",
              "      border-radius: 50%;\n",
              "      cursor: pointer;\n",
              "      display: none;\n",
              "      fill: #1967D2;\n",
              "      height: 32px;\n",
              "      padding: 0 0 0 0;\n",
              "      width: 32px;\n",
              "    }\n",
              "\n",
              "    .colab-df-convert:hover {\n",
              "      background-color: #E2EBFA;\n",
              "      box-shadow: 0px 1px 2px rgba(60, 64, 67, 0.3), 0px 1px 3px 1px rgba(60, 64, 67, 0.15);\n",
              "      fill: #174EA6;\n",
              "    }\n",
              "\n",
              "    [theme=dark] .colab-df-convert {\n",
              "      background-color: #3B4455;\n",
              "      fill: #D2E3FC;\n",
              "    }\n",
              "\n",
              "    [theme=dark] .colab-df-convert:hover {\n",
              "      background-color: #434B5C;\n",
              "      box-shadow: 0px 1px 3px 1px rgba(0, 0, 0, 0.15);\n",
              "      filter: drop-shadow(0px 1px 2px rgba(0, 0, 0, 0.3));\n",
              "      fill: #FFFFFF;\n",
              "    }\n",
              "  </style>\n",
              "\n",
              "      <script>\n",
              "        const buttonEl =\n",
              "          document.querySelector('#df-1bfa312c-56f6-42e5-8e98-67f1659a3559 button.colab-df-convert');\n",
              "        buttonEl.style.display =\n",
              "          google.colab.kernel.accessAllowed ? 'block' : 'none';\n",
              "\n",
              "        async function convertToInteractive(key) {\n",
              "          const element = document.querySelector('#df-1bfa312c-56f6-42e5-8e98-67f1659a3559');\n",
              "          const dataTable =\n",
              "            await google.colab.kernel.invokeFunction('convertToInteractive',\n",
              "                                                     [key], {});\n",
              "          if (!dataTable) return;\n",
              "\n",
              "          const docLinkHtml = 'Like what you see? Visit the ' +\n",
              "            '<a target=\"_blank\" href=https://colab.research.google.com/notebooks/data_table.ipynb>data table notebook</a>'\n",
              "            + ' to learn more about interactive tables.';\n",
              "          element.innerHTML = '';\n",
              "          dataTable['output_type'] = 'display_data';\n",
              "          await google.colab.output.renderOutput(dataTable, element);\n",
              "          const docLink = document.createElement('div');\n",
              "          docLink.innerHTML = docLinkHtml;\n",
              "          element.appendChild(docLink);\n",
              "        }\n",
              "      </script>\n",
              "    </div>\n",
              "  </div>\n",
              "  "
            ]
          },
          "metadata": {}
        },
        {
          "output_type": "display_data",
          "data": {
            "text/plain": [
              "   id                            document                        preprocessed  \\\n",
              "0   1                    시간 때우기 좋은 영화 지루함                    시간 때우기 좋은 영화 지루함   \n",
              "2   3                   Childhood fantasy                                       \n",
              "5   6  어이 김구라 자세좀 똑바로 앉어방송마다 왜케 삐딱하게 앉는거지  어이 김구라 자세좀 똑바로 앉어방송마다 왜케 삐딱하게 앉는거지   \n",
              "7   8                  머 내용은 그닥... 특별하지않다                     머 내용은 그닥 특별하지않다   \n",
              "9  10            이렇게 재밋게본 드라마 추노말거 없엇음 ㅜ짱            이렇게 재밋게본 드라마 추노말거 없엇음 ㅜ짱   \n",
              "\n",
              "                         tokenized_stem                           main_pos  \\\n",
              "0                      시간 때우다 좋다 영화 지루함                   시간 때우다 좋다 영화 지루함   \n",
              "2                                                                            \n",
              "5  어이 김구라 자세 좀 똑바로 앉다 방송 마다 왜케 삐 딱하다 앉다  어이 김구라 자세 좀 똑바로 앉다 방송 왜케 삐 딱하다 앉다   \n",
              "7                     머 내용 은 그닥 특별하다 않다                    머 내용 그닥 특별하다 않다   \n",
              "9               이렇게 재밋게본 드라마 추다 없엇음 ㅜ 짱              이렇게 재밋게본 드라마 추다 없엇음 짱   \n",
              "\n",
              "   pred  \n",
              "0     0  \n",
              "2     0  \n",
              "5     0  \n",
              "7     0  \n",
              "9     0  "
            ],
            "text/html": [
              "\n",
              "  <div id=\"df-35fc2a03-e4d3-48a9-b154-6a068dba28a9\">\n",
              "    <div class=\"colab-df-container\">\n",
              "      <div>\n",
              "<style scoped>\n",
              "    .dataframe tbody tr th:only-of-type {\n",
              "        vertical-align: middle;\n",
              "    }\n",
              "\n",
              "    .dataframe tbody tr th {\n",
              "        vertical-align: top;\n",
              "    }\n",
              "\n",
              "    .dataframe thead th {\n",
              "        text-align: right;\n",
              "    }\n",
              "</style>\n",
              "<table border=\"1\" class=\"dataframe\">\n",
              "  <thead>\n",
              "    <tr style=\"text-align: right;\">\n",
              "      <th></th>\n",
              "      <th>id</th>\n",
              "      <th>document</th>\n",
              "      <th>preprocessed</th>\n",
              "      <th>tokenized_stem</th>\n",
              "      <th>main_pos</th>\n",
              "      <th>pred</th>\n",
              "    </tr>\n",
              "  </thead>\n",
              "  <tbody>\n",
              "    <tr>\n",
              "      <th>0</th>\n",
              "      <td>1</td>\n",
              "      <td>시간 때우기 좋은 영화 지루함</td>\n",
              "      <td>시간 때우기 좋은 영화 지루함</td>\n",
              "      <td>시간 때우다 좋다 영화 지루함</td>\n",
              "      <td>시간 때우다 좋다 영화 지루함</td>\n",
              "      <td>0</td>\n",
              "    </tr>\n",
              "    <tr>\n",
              "      <th>2</th>\n",
              "      <td>3</td>\n",
              "      <td>Childhood fantasy</td>\n",
              "      <td></td>\n",
              "      <td></td>\n",
              "      <td></td>\n",
              "      <td>0</td>\n",
              "    </tr>\n",
              "    <tr>\n",
              "      <th>5</th>\n",
              "      <td>6</td>\n",
              "      <td>어이 김구라 자세좀 똑바로 앉어방송마다 왜케 삐딱하게 앉는거지</td>\n",
              "      <td>어이 김구라 자세좀 똑바로 앉어방송마다 왜케 삐딱하게 앉는거지</td>\n",
              "      <td>어이 김구라 자세 좀 똑바로 앉다 방송 마다 왜케 삐 딱하다 앉다</td>\n",
              "      <td>어이 김구라 자세 좀 똑바로 앉다 방송 왜케 삐 딱하다 앉다</td>\n",
              "      <td>0</td>\n",
              "    </tr>\n",
              "    <tr>\n",
              "      <th>7</th>\n",
              "      <td>8</td>\n",
              "      <td>머 내용은 그닥... 특별하지않다</td>\n",
              "      <td>머 내용은 그닥 특별하지않다</td>\n",
              "      <td>머 내용 은 그닥 특별하다 않다</td>\n",
              "      <td>머 내용 그닥 특별하다 않다</td>\n",
              "      <td>0</td>\n",
              "    </tr>\n",
              "    <tr>\n",
              "      <th>9</th>\n",
              "      <td>10</td>\n",
              "      <td>이렇게 재밋게본 드라마 추노말거 없엇음 ㅜ짱</td>\n",
              "      <td>이렇게 재밋게본 드라마 추노말거 없엇음 ㅜ짱</td>\n",
              "      <td>이렇게 재밋게본 드라마 추다 없엇음 ㅜ 짱</td>\n",
              "      <td>이렇게 재밋게본 드라마 추다 없엇음 짱</td>\n",
              "      <td>0</td>\n",
              "    </tr>\n",
              "  </tbody>\n",
              "</table>\n",
              "</div>\n",
              "      <button class=\"colab-df-convert\" onclick=\"convertToInteractive('df-35fc2a03-e4d3-48a9-b154-6a068dba28a9')\"\n",
              "              title=\"Convert this dataframe to an interactive table.\"\n",
              "              style=\"display:none;\">\n",
              "        \n",
              "  <svg xmlns=\"http://www.w3.org/2000/svg\" height=\"24px\"viewBox=\"0 0 24 24\"\n",
              "       width=\"24px\">\n",
              "    <path d=\"M0 0h24v24H0V0z\" fill=\"none\"/>\n",
              "    <path d=\"M18.56 5.44l.94 2.06.94-2.06 2.06-.94-2.06-.94-.94-2.06-.94 2.06-2.06.94zm-11 1L8.5 8.5l.94-2.06 2.06-.94-2.06-.94L8.5 2.5l-.94 2.06-2.06.94zm10 10l.94 2.06.94-2.06 2.06-.94-2.06-.94-.94-2.06-.94 2.06-2.06.94z\"/><path d=\"M17.41 7.96l-1.37-1.37c-.4-.4-.92-.59-1.43-.59-.52 0-1.04.2-1.43.59L10.3 9.45l-7.72 7.72c-.78.78-.78 2.05 0 2.83L4 21.41c.39.39.9.59 1.41.59.51 0 1.02-.2 1.41-.59l7.78-7.78 2.81-2.81c.8-.78.8-2.07 0-2.86zM5.41 20L4 18.59l7.72-7.72 1.47 1.35L5.41 20z\"/>\n",
              "  </svg>\n",
              "      </button>\n",
              "      \n",
              "  <style>\n",
              "    .colab-df-container {\n",
              "      display:flex;\n",
              "      flex-wrap:wrap;\n",
              "      gap: 12px;\n",
              "    }\n",
              "\n",
              "    .colab-df-convert {\n",
              "      background-color: #E8F0FE;\n",
              "      border: none;\n",
              "      border-radius: 50%;\n",
              "      cursor: pointer;\n",
              "      display: none;\n",
              "      fill: #1967D2;\n",
              "      height: 32px;\n",
              "      padding: 0 0 0 0;\n",
              "      width: 32px;\n",
              "    }\n",
              "\n",
              "    .colab-df-convert:hover {\n",
              "      background-color: #E2EBFA;\n",
              "      box-shadow: 0px 1px 2px rgba(60, 64, 67, 0.3), 0px 1px 3px 1px rgba(60, 64, 67, 0.15);\n",
              "      fill: #174EA6;\n",
              "    }\n",
              "\n",
              "    [theme=dark] .colab-df-convert {\n",
              "      background-color: #3B4455;\n",
              "      fill: #D2E3FC;\n",
              "    }\n",
              "\n",
              "    [theme=dark] .colab-df-convert:hover {\n",
              "      background-color: #434B5C;\n",
              "      box-shadow: 0px 1px 3px 1px rgba(0, 0, 0, 0.15);\n",
              "      filter: drop-shadow(0px 1px 2px rgba(0, 0, 0, 0.3));\n",
              "      fill: #FFFFFF;\n",
              "    }\n",
              "  </style>\n",
              "\n",
              "      <script>\n",
              "        const buttonEl =\n",
              "          document.querySelector('#df-35fc2a03-e4d3-48a9-b154-6a068dba28a9 button.colab-df-convert');\n",
              "        buttonEl.style.display =\n",
              "          google.colab.kernel.accessAllowed ? 'block' : 'none';\n",
              "\n",
              "        async function convertToInteractive(key) {\n",
              "          const element = document.querySelector('#df-35fc2a03-e4d3-48a9-b154-6a068dba28a9');\n",
              "          const dataTable =\n",
              "            await google.colab.kernel.invokeFunction('convertToInteractive',\n",
              "                                                     [key], {});\n",
              "          if (!dataTable) return;\n",
              "\n",
              "          const docLinkHtml = 'Like what you see? Visit the ' +\n",
              "            '<a target=\"_blank\" href=https://colab.research.google.com/notebooks/data_table.ipynb>data table notebook</a>'\n",
              "            + ' to learn more about interactive tables.';\n",
              "          element.innerHTML = '';\n",
              "          dataTable['output_type'] = 'display_data';\n",
              "          await google.colab.output.renderOutput(dataTable, element);\n",
              "          const docLink = document.createElement('div');\n",
              "          docLink.innerHTML = docLinkHtml;\n",
              "          element.appendChild(docLink);\n",
              "        }\n",
              "      </script>\n",
              "    </div>\n",
              "  </div>\n",
              "  "
            ]
          },
          "metadata": {}
        }
      ]
    },
    {
      "cell_type": "markdown",
      "source": [
        "## 긍정리뷰 워드클라우드"
      ],
      "metadata": {
        "id": "84p7_YFLlcyJ"
      }
    },
    {
      "cell_type": "code",
      "source": [
        "okt = Okt()\n",
        "\n",
        "content_list = list(pos['main_pos'])\n",
        "noun_list = []\n",
        "\n",
        "for sentence in content_list:\n",
        "\n",
        "\n",
        "    sentence = re.sub('[a-zA-z0-9]','', sentence)\n",
        "    \n",
        "    for word, tag in okt.pos(sentence):\n",
        "      # 명사만 추출\n",
        "        if tag in ['Noun']:  \n",
        "\n",
        "            if len(word) == 1:\n",
        "                continue\n",
        "\n",
        "            else:\n",
        "                noun_list.append(word)\n",
        "\n",
        "count = Counter(noun_list)\n",
        "poswords = dict(count.most_common(n=50)) "
      ],
      "metadata": {
        "id": "1D0_Za7PfjXV"
      },
      "execution_count": 98,
      "outputs": []
    },
    {
      "cell_type": "code",
      "source": [
        "poswords"
      ],
      "metadata": {
        "colab": {
          "base_uri": "https://localhost:8080/"
        },
        "outputId": "8e4b0b4e-8ba1-4c60-83fe-a361ef341ef1",
        "id": "wV0jVm0itQW7"
      },
      "execution_count": 99,
      "outputs": [
        {
          "output_type": "execute_result",
          "data": {
            "text/plain": [
              "{'가슴': 44,\n",
              " '가장': 30,\n",
              " '가족': 21,\n",
              " '감동': 150,\n",
              " '강추': 25,\n",
              " '계속': 21,\n",
              " '기억': 35,\n",
              " '눈물': 30,\n",
              " '느낌': 22,\n",
              " '다시': 90,\n",
              " '대박': 23,\n",
              " '드라마': 93,\n",
              " '리다': 33,\n",
              " '마음': 47,\n",
              " '마지막': 52,\n",
              " '매력': 47,\n",
              " '명작': 75,\n",
              " '모습': 22,\n",
              " '배우': 52,\n",
              " '보고': 81,\n",
              " '사람': 37,\n",
              " '사랑': 84,\n",
              " '생각': 91,\n",
              " '스토리': 37,\n",
              " '시리즈': 21,\n",
              " '아이': 22,\n",
              " '액션': 25,\n",
              " '여운': 35,\n",
              " '역시': 50,\n",
              " '연기': 93,\n",
              " '영상': 21,\n",
              " '영화': 836,\n",
              " '완전': 57,\n",
              " '음악': 32,\n",
              " '이야기': 28,\n",
              " '인간': 22,\n",
              " '인생': 42,\n",
              " '작품': 59,\n",
              " '장면': 36,\n",
              " '재미': 39,\n",
              " '정말': 216,\n",
              " '주인공': 21,\n",
              " '지금': 47,\n",
              " '진짜': 129,\n",
              " '처음': 27,\n",
              " '최고': 224,\n",
              " '추천': 34,\n",
              " '평점': 58,\n",
              " '하나': 35,\n",
              " '현실': 21}"
            ]
          },
          "metadata": {},
          "execution_count": 99
        }
      ]
    },
    {
      "cell_type": "code",
      "source": [
        "poswords.items()"
      ],
      "metadata": {
        "colab": {
          "base_uri": "https://localhost:8080/"
        },
        "outputId": "2850e76f-c729-4855-bafb-acc9e8d1917d",
        "id": "P1HzII9VtN5Z"
      },
      "execution_count": 100,
      "outputs": [
        {
          "output_type": "execute_result",
          "data": {
            "text/plain": [
              "dict_items([('영화', 836), ('최고', 224), ('정말', 216), ('감동', 150), ('진짜', 129), ('드라마', 93), ('연기', 93), ('생각', 91), ('다시', 90), ('사랑', 84), ('보고', 81), ('명작', 75), ('작품', 59), ('평점', 58), ('완전', 57), ('배우', 52), ('마지막', 52), ('역시', 50), ('지금', 47), ('마음', 47), ('매력', 47), ('가슴', 44), ('인생', 42), ('재미', 39), ('사람', 37), ('스토리', 37), ('장면', 36), ('하나', 35), ('기억', 35), ('여운', 35), ('추천', 34), ('리다', 33), ('음악', 32), ('가장', 30), ('눈물', 30), ('이야기', 28), ('처음', 27), ('액션', 25), ('강추', 25), ('대박', 23), ('인간', 22), ('아이', 22), ('느낌', 22), ('모습', 22), ('가족', 21), ('시리즈', 21), ('영상', 21), ('계속', 21), ('현실', 21), ('주인공', 21)])"
            ]
          },
          "metadata": {},
          "execution_count": 100
        }
      ]
    },
    {
      "cell_type": "code",
      "source": [
        "#특정 단어 지정해서 불용어 제거\n",
        "poswords.pop('정말')"
      ],
      "metadata": {
        "colab": {
          "base_uri": "https://localhost:8080/"
        },
        "id": "_vwFGWKQgdPK",
        "outputId": "329d58af-5d1d-4750-c22b-9f8e8f8ec7b2"
      },
      "execution_count": 101,
      "outputs": [
        {
          "output_type": "execute_result",
          "data": {
            "text/plain": [
              "216"
            ]
          },
          "metadata": {},
          "execution_count": 101
        }
      ]
    },
    {
      "cell_type": "code",
      "source": [
        "# 불용어 리스트 생성해서 제거\n",
        "stop_words = \"다시 완전 마지막 지금 역시 영화\"\n",
        "stop_words = stop_words.split(' ')\n",
        "\n",
        "\n",
        "# 불용어 제거 실시\n",
        "posword2 = [(i,j)for i,j in poswords.items()  if i not in stop_words]\n",
        "\n",
        "# 결과 출력\n",
        "posword3=dict(posword2)\n",
        "print(posword3)"
      ],
      "metadata": {
        "colab": {
          "base_uri": "https://localhost:8080/"
        },
        "outputId": "b4fca777-d091-4cf4-85e9-dd18c4508c2e",
        "id": "0qkyktl6lP5Q"
      },
      "execution_count": 102,
      "outputs": [
        {
          "output_type": "stream",
          "name": "stdout",
          "text": [
            "{'최고': 224, '감동': 150, '진짜': 129, '드라마': 93, '연기': 93, '생각': 91, '사랑': 84, '보고': 81, '명작': 75, '작품': 59, '평점': 58, '배우': 52, '마음': 47, '매력': 47, '가슴': 44, '인생': 42, '재미': 39, '사람': 37, '스토리': 37, '장면': 36, '하나': 35, '기억': 35, '여운': 35, '추천': 34, '리다': 33, '음악': 32, '가장': 30, '눈물': 30, '이야기': 28, '처음': 27, '액션': 25, '강추': 25, '대박': 23, '인간': 22, '아이': 22, '느낌': 22, '모습': 22, '가족': 21, '시리즈': 21, '영상': 21, '계속': 21, '현실': 21, '주인공': 21}\n"
          ]
        }
      ]
    },
    {
      "cell_type": "code",
      "source": [
        "from PIL import Image, ImageFilter"
      ],
      "metadata": {
        "id": "61nBuCzsiwRU"
      },
      "execution_count": 103,
      "outputs": []
    },
    {
      "cell_type": "code",
      "source": [
        "Image.open(\"/content/drive/MyDrive/Ybigta_summer/KoNLPy/제목 없음.jpg\") # 부정리뷰 워드클라우드에서는 원하는 이미지로 대체할 것"
      ],
      "metadata": {
        "colab": {
          "base_uri": "https://localhost:8080/",
          "height": 284
        },
        "id": "uhpEY13Fi5cq",
        "outputId": "d4d3053e-90df-4a46-b7f6-1959b34fcba6"
      },
      "execution_count": 104,
      "outputs": [
        {
          "output_type": "execute_result",
          "data": {
            "text/plain": [
              "<PIL.JpegImagePlugin.JpegImageFile image mode=RGB size=536x267 at 0x7F086E6E8810>"
            ],
            "image/png": "[encoded data removed]"
          },
          "metadata": {},
          "execution_count": 104
        }
      ]
    },
    {
      "cell_type": "code",
      "source": [
        "import numpy as np\n",
        "mask_array = np.array(Image.open(\"/content/drive/MyDrive/Ybigta_summer/KoNLPy/제목 없음.jpg\"))\n",
        "mask_array"
      ],
      "metadata": {
        "colab": {
          "base_uri": "https://localhost:8080/"
        },
        "id": "Abo3heX8i7gm",
        "outputId": "da0108ff-1d9d-48a9-9d37-0803f5db3f83"
      },
      "execution_count": 105,
      "outputs": [
        {
          "output_type": "execute_result",
          "data": {
            "text/plain": [
              "array([[[255, 255, 255],\n",
              "        [255, 255, 255],\n",
              "        [255, 255, 255],\n",
              "        ...,\n",
              "        [255, 255, 255],\n",
              "        [255, 255, 255],\n",
              "        [255, 255, 255]],\n",
              "\n",
              "       [[255, 255, 255],\n",
              "        [255, 255, 255],\n",
              "        [255, 255, 255],\n",
              "        ...,\n",
              "        [255, 255, 255],\n",
              "        [255, 255, 255],\n",
              "        [255, 255, 255]],\n",
              "\n",
              "       [[255, 255, 255],\n",
              "        [255, 255, 255],\n",
              "        [255, 255, 255],\n",
              "        ...,\n",
              "        [255, 255, 255],\n",
              "        [255, 255, 255],\n",
              "        [255, 255, 255]],\n",
              "\n",
              "       ...,\n",
              "\n",
              "       [[255, 255, 255],\n",
              "        [255, 255, 255],\n",
              "        [255, 255, 255],\n",
              "        ...,\n",
              "        [255, 255, 255],\n",
              "        [255, 255, 255],\n",
              "        [255, 255, 255]],\n",
              "\n",
              "       [[255, 255, 255],\n",
              "        [255, 255, 255],\n",
              "        [255, 255, 255],\n",
              "        ...,\n",
              "        [255, 255, 255],\n",
              "        [255, 255, 255],\n",
              "        [255, 255, 255]],\n",
              "\n",
              "       [[255, 255, 255],\n",
              "        [255, 255, 255],\n",
              "        [255, 255, 255],\n",
              "        ...,\n",
              "        [255, 255, 255],\n",
              "        [255, 255, 255],\n",
              "        [255, 255, 255]]], dtype=uint8)"
            ]
          },
          "metadata": {},
          "execution_count": 105
        }
      ]
    },
    {
      "cell_type": "markdown",
      "source": [
        "옵션정리\n",
        "\n",
        "alicewc = WordCloud(\n",
        "    \n",
        "    background_color = \"white\",# 배경색 설정\n",
        "\n",
        "    collocations = False, # 이때 collocations=True 이면 said King, said Hatter 같이 자주 나타나는 단어는 하나의 어구로 분류됨.\n",
        "\n",
        "    stopwords = stopwords, #불용어 지정\n",
        "\n",
        "    width = 600, height = 400, #이미지 크기 지정\n",
        "\n",
        "    colormap = \"Reds\", # 글씨 색깔 지정\n",
        "\n",
        "    #font_path = 'path입력'\n",
        "\n",
        "    min_font_size = 5, max_font_size = 100 #폰트 지정 작게할수록 더 많은 글씨가 보이고 크게하면 글자가 강조됨. \n",
        "    \n",
        "    )"
      ],
      "metadata": {
        "id": "8yi8_hsHtWYA"
      }
    },
    {
      "cell_type": "code",
      "source": [
        "mask1 = np.array(Image.open(\"/content/drive/MyDrive/Ybigta_summer/KoNLPy/제목 없음.jpg\"))\n",
        "\n",
        "wordcloud = WordCloud(\n",
        "    font_path = fontpath, \n",
        "    width = 800,\n",
        "    height = 800,\n",
        "    background_color=\"white\",\n",
        "    mask = mask1\n",
        ")\n",
        "\n",
        "wordcloud = wordcloud.generate_from_frequencies(posword3)\n",
        "plt.figure(figsize=(20, 20))\n",
        "plt.imshow(wordcloud, interpolation=\"bilinear\")\n",
        "plt.axis(\"off\")\n",
        "plt.show()"
      ],
      "metadata": {
        "colab": {
          "base_uri": "https://localhost:8080/",
          "height": 334
        },
        "outputId": "8521c292-9345-4e6b-a2cd-e08a2ec70b8d",
        "id": "CPAr-FJ3tJUl"
      },
      "execution_count": 107,
      "outputs": [
        {
          "output_type": "display_data",
          "data": {
            "text/plain": [
              "<Figure size 1440x1440 with 1 Axes>"
            ],
            "image/png": "[encoded data removed]"
          },
          "metadata": {
            "needs_background": "light"
          }
        }
      ]
    },
    {
      "cell_type": "markdown",
      "source": [
        "## # To do 부정리뷰 워드클라우드"
      ],
      "metadata": {
        "id": "vpfVIfTYlgQD"
      }
    },
    {
      "cell_type": "markdown",
      "source": [
        "부정리뷰 워드클라우드를 생성해주세요!"
      ],
      "metadata": {
        "id": "A8B6ad2Glwtu"
      }
    },
    {
      "cell_type": "code",
      "source": [
        "content_list = list(neg['main_pos'])\n",
        "noun_list = []\n",
        "\n",
        "for sentence in content_list:\n",
        "\n",
        "\n",
        "    sentence = re.sub('[a-zA-z0-9]','', sentence)\n",
        "    \n",
        "    for word, tag in okt.pos(sentence):\n",
        "      # 명사만 추출\n",
        "        if tag in ['Noun']:  \n",
        "\n",
        "            if len(word) == 1:\n",
        "                continue\n",
        "\n",
        "            else:\n",
        "                noun_list.append(word)\n",
        "\n",
        "count = Counter(noun_list)\n",
        "poswords = dict(count.most_common(n=50)) "
      ],
      "metadata": {
        "id": "lisEF08D576w"
      },
      "execution_count": 109,
      "outputs": []
    },
    {
      "cell_type": "code",
      "source": [
        "poswords"
      ],
      "metadata": {
        "colab": {
          "base_uri": "https://localhost:8080/"
        },
        "id": "FsO5POC4572C",
        "outputId": "05c674d0-7cbd-4a2b-f745-5a6e9bb4450c"
      },
      "execution_count": 110,
      "outputs": [
        {
          "output_type": "execute_result",
          "data": {
            "text/plain": [
              "{'감독': 83,\n",
              " '개봉': 24,\n",
              " '결말': 29,\n",
              " '공포': 27,\n",
              " '그냥': 80,\n",
              " '내용': 93,\n",
              " '느낌': 29,\n",
              " '드라마': 36,\n",
              " '무슨': 31,\n",
              " '뭔가': 29,\n",
              " '배우': 77,\n",
              " '별로': 66,\n",
              " '보고': 47,\n",
              " '보지': 27,\n",
              " '사람': 54,\n",
              " '생각': 46,\n",
              " '소재': 32,\n",
              " '수준': 37,\n",
              " '스토리': 111,\n",
              " '시간': 103,\n",
              " '실망': 37,\n",
              " '쓰레기': 77,\n",
              " '알다': 59,\n",
              " '액션': 59,\n",
              " '연기': 61,\n",
              " '연출': 41,\n",
              " '영화': 770,\n",
              " '완전': 29,\n",
              " '웃기': 29,\n",
              " '원작': 28,\n",
              " '이건': 70,\n",
              " '이야기': 41,\n",
              " '이해': 35,\n",
              " '작품': 27,\n",
              " '재미': 99,\n",
              " '전개': 30,\n",
              " '전혀': 26,\n",
              " '점도': 31,\n",
              " '정도': 49,\n",
              " '정말': 91,\n",
              " '제목': 22,\n",
              " '졸작': 24,\n",
              " '주인공': 28,\n",
              " '진짜': 130,\n",
              " '처음': 45,\n",
              " '최악': 84,\n",
              " '캐릭터': 23,\n",
              " '코미디': 31,\n",
              " '평점': 125,\n",
              " '하나': 36}"
            ]
          },
          "metadata": {},
          "execution_count": 110
        }
      ]
    },
    {
      "cell_type": "code",
      "source": [
        "# 불용어 제거\n",
        "stop_words = ['진짜', '정말', '개봉', '결말', '드라마', '보고', '보지', '사람', '생각', '시간', '영화']\n",
        "posword2 = [(i, j) for i, j in poswords.items() if i not in stop_words]\n",
        "\n",
        "# 결과 출력\n",
        "posword3 = dict(posword2)\n",
        "print(posword3)"
      ],
      "metadata": {
        "colab": {
          "base_uri": "https://localhost:8080/"
        },
        "id": "GyBWNdpT57zL",
        "outputId": "96da0db5-d70b-4ed1-9595-5eabb7415687"
      },
      "execution_count": 113,
      "outputs": [
        {
          "output_type": "stream",
          "name": "stdout",
          "text": [
            "{'평점': 125, '스토리': 111, '재미': 99, '내용': 93, '최악': 84, '감독': 83, '그냥': 80, '쓰레기': 77, '배우': 77, '이건': 70, '별로': 66, '연기': 61, '액션': 59, '알다': 59, '정도': 49, '처음': 45, '연출': 41, '이야기': 41, '실망': 37, '수준': 37, '하나': 36, '이해': 35, '소재': 32, '무슨': 31, '점도': 31, '코미디': 31, '전개': 30, '완전': 29, '느낌': 29, '뭔가': 29, '웃기': 29, '주인공': 28, '원작': 28, '공포': 27, '작품': 27, '전혀': 26, '졸작': 24, '캐릭터': 23, '제목': 22}\n"
          ]
        }
      ]
    },
    {
      "cell_type": "code",
      "source": [
        "from PIL import Image, ImageFilter"
      ],
      "metadata": {
        "id": "bjeVdkAQ57vg"
      },
      "execution_count": 114,
      "outputs": []
    },
    {
      "cell_type": "code",
      "source": [
        "Image.open(\"/content/drive/MyDrive/Ybigta_summer/KoNLPy/제목 없음.jpg\") "
      ],
      "metadata": {
        "colab": {
          "base_uri": "https://localhost:8080/",
          "height": 284
        },
        "id": "yBviBNKx57r3",
        "outputId": "12dc0d77-ebd2-4f34-9888-79af9a676291"
      },
      "execution_count": 115,
      "outputs": [
        {
          "output_type": "execute_result",
          "data": {
            "text/plain": [
              "<PIL.JpegImagePlugin.JpegImageFile image mode=RGB size=536x267 at 0x7F086E6EC210>"
            ],
            "image/png": "[encoded data removed]"
          },
          "metadata": {},
          "execution_count": 115
        }
      ]
    },
    {
      "cell_type": "code",
      "source": [
        "mask_array = np.array(Image.open(\"/content/drive/MyDrive/Ybigta_summer/KoNLPy/제목 없음.jpg\"))\n",
        "mask_array"
      ],
      "metadata": {
        "colab": {
          "base_uri": "https://localhost:8080/"
        },
        "id": "ycpikTCK57kJ",
        "outputId": "08909cd5-7b57-4721-f9cc-e5ed9dec29cd"
      },
      "execution_count": 116,
      "outputs": [
        {
          "output_type": "execute_result",
          "data": {
            "text/plain": [
              "array([[[255, 255, 255],\n",
              "        [255, 255, 255],\n",
              "        [255, 255, 255],\n",
              "        ...,\n",
              "        [255, 255, 255],\n",
              "        [255, 255, 255],\n",
              "        [255, 255, 255]],\n",
              "\n",
              "       [[255, 255, 255],\n",
              "        [255, 255, 255],\n",
              "        [255, 255, 255],\n",
              "        ...,\n",
              "        [255, 255, 255],\n",
              "        [255, 255, 255],\n",
              "        [255, 255, 255]],\n",
              "\n",
              "       [[255, 255, 255],\n",
              "        [255, 255, 255],\n",
              "        [255, 255, 255],\n",
              "        ...,\n",
              "        [255, 255, 255],\n",
              "        [255, 255, 255],\n",
              "        [255, 255, 255]],\n",
              "\n",
              "       ...,\n",
              "\n",
              "       [[255, 255, 255],\n",
              "        [255, 255, 255],\n",
              "        [255, 255, 255],\n",
              "        ...,\n",
              "        [255, 255, 255],\n",
              "        [255, 255, 255],\n",
              "        [255, 255, 255]],\n",
              "\n",
              "       [[255, 255, 255],\n",
              "        [255, 255, 255],\n",
              "        [255, 255, 255],\n",
              "        ...,\n",
              "        [255, 255, 255],\n",
              "        [255, 255, 255],\n",
              "        [255, 255, 255]],\n",
              "\n",
              "       [[255, 255, 255],\n",
              "        [255, 255, 255],\n",
              "        [255, 255, 255],\n",
              "        ...,\n",
              "        [255, 255, 255],\n",
              "        [255, 255, 255],\n",
              "        [255, 255, 255]]], dtype=uint8)"
            ]
          },
          "metadata": {},
          "execution_count": 116
        }
      ]
    },
    {
      "cell_type": "code",
      "source": [
        "mask1 = np.array(Image.open(\"/content/drive/MyDrive/Ybigta_summer/KoNLPy/제목 없음.jpg\"))\n",
        "\n",
        "wordcloud = WordCloud(\n",
        "    font_path = fontpath, \n",
        "    width = 800,\n",
        "    height = 800,\n",
        "    background_color=\"white\",\n",
        "    mask = mask1\n",
        ")\n",
        "\n",
        "wordcloud = wordcloud.generate_from_frequencies(posword3)\n",
        "plt.figure(figsize=(20, 20))\n",
        "plt.imshow(wordcloud, interpolation=\"bilinear\")\n",
        "plt.axis(\"off\")\n",
        "plt.show()"
      ],
      "metadata": {
        "colab": {
          "base_uri": "https://localhost:8080/",
          "height": 334
        },
        "id": "6g-I0u0M57ad",
        "outputId": "4ccd779f-e38f-42d6-81fd-27a51c982512"
      },
      "execution_count": 117,
      "outputs": [
        {
          "output_type": "display_data",
          "data": {
            "text/plain": [
              "<Figure size 1440x1440 with 1 Axes>"
            ],
            "image/png": "[encoded data removed]"
          },
          "metadata": {
            "needs_background": "light"
          }
        }
      ]
    },
    {
      "cell_type": "code",
      "source": [
        ""
      ],
      "metadata": {
        "id": "Kyvx1dAi769u"
      },
      "execution_count": null,
      "outputs": []
    }
  ],
  "metadata": {
    "kernelspec": {
      "display_name": "eunil_py38",
      "language": "python",
      "name": "eunil_py38"
    },
    "language_info": {
      "codemirror_mode": {
        "name": "ipython",
        "version": 3
      },
      "file_extension": ".py",
      "mimetype": "text/x-python",
      "name": "python",
      "nbconvert_exporter": "python",
      "pygments_lexer": "ipython3",
      "version": "3.8.12"
    },
    "colab": {
      "name": "0806_wordcloud_konlpy.ipynb",
      "provenance": [],
      "collapsed_sections": [],
      "include_colab_link": true
    }
  },
  "nbformat": 4,
  "nbformat_minor": 0
}