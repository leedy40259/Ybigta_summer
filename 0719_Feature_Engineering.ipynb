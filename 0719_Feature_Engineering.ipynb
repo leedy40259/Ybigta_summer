{
  "nbformat": 4,
  "nbformat_minor": 0,
  "metadata": {
    "colab": {
      "name": "0719_Feature_Engineering.ipynb",
      "provenance": [],
      "mount_file_id": "1zVIh-UFkxp3CeW2OlmSi1Fx480ZY3jep",
      "authorship_tag": "ABX9TyPTIdefGOyO8+5TqhhcphDb",
      "include_colab_link": true
    },
    "kernelspec": {
      "name": "python3",
      "display_name": "Python 3"
    },
    "language_info": {
      "name": "python"
    }
  },
  "cells": [
    {
      "cell_type": "markdown",
      "metadata": {
        "id": "view-in-github",
        "colab_type": "text"
      },
      "source": [
        "<a href=\"https://colab.research.google.com/github/leedy40259/Ybigta_summer/blob/main/0719_Feature_Engineering.ipynb\" target=\"_parent\"><img src=\"https://colab.research.google.com/assets/colab-badge.svg\" alt=\"Open In Colab\"/></a>"
      ]
    },
    {
      "cell_type": "code",
      "execution_count": null,
      "metadata": {
        "id": "R_zgxI44Agrz"
      },
      "outputs": [],
      "source": [
        "import pandas as pd\n",
        "import numpy as np\n",
        "import matplotlib.pyplot as plt\n",
        "import seaborn as sns"
      ]
    },
    {
      "cell_type": "code",
      "source": [
        "# 파일 가져오기\n",
        "df = pd.read_csv('/content/drive/MyDrive/Ybigta_summer/titanic.csv')"
      ],
      "metadata": {
        "id": "RRFxt8dBBRwN"
      },
      "execution_count": null,
      "outputs": []
    },
    {
      "cell_type": "code",
      "source": [
        "# 컬럼 확인\n",
        "df.info()"
      ],
      "metadata": {
        "colab": {
          "base_uri": "https://localhost:8080/"
        },
        "id": "bY__-6lWBZDW",
        "outputId": "23577d4d-0d8b-4b1e-d3cc-0fca960a0930"
      },
      "execution_count": null,
      "outputs": [
        {
          "output_type": "stream",
          "name": "stdout",
          "text": [
            "<class 'pandas.core.frame.DataFrame'>\n",
            "RangeIndex: 418 entries, 0 to 417\n",
            "Data columns (total 11 columns):\n",
            " #   Column       Non-Null Count  Dtype  \n",
            "---  ------       --------------  -----  \n",
            " 0   PassengerId  418 non-null    int64  \n",
            " 1   Pclass       418 non-null    int64  \n",
            " 2   Name         418 non-null    object \n",
            " 3   Sex          418 non-null    object \n",
            " 4   Age          332 non-null    float64\n",
            " 5   SibSp        418 non-null    int64  \n",
            " 6   Parch        418 non-null    int64  \n",
            " 7   Ticket       418 non-null    object \n",
            " 8   Fare         417 non-null    float64\n",
            " 9   Cabin        91 non-null     object \n",
            " 10  Embarked     418 non-null    object \n",
            "dtypes: float64(2), int64(4), object(5)\n",
            "memory usage: 36.0+ KB\n"
          ]
        }
      ]
    },
    {
      "cell_type": "code",
      "source": [
        "# 결측치 확인\n",
        "df.isnull().sum()"
      ],
      "metadata": {
        "colab": {
          "base_uri": "https://localhost:8080/"
        },
        "id": "njea7vOzF0mc",
        "outputId": "dc55558f-e6cc-4fa8-a276-16e8958f267c"
      },
      "execution_count": null,
      "outputs": [
        {
          "output_type": "execute_result",
          "data": {
            "text/plain": [
              "PassengerId      0\n",
              "Pclass           0\n",
              "Name             0\n",
              "Sex              0\n",
              "Age             86\n",
              "SibSp            0\n",
              "Parch            0\n",
              "Ticket           0\n",
              "Fare             1\n",
              "Cabin          327\n",
              "Embarked         0\n",
              "dtype: int64"
            ]
          },
          "metadata": {},
          "execution_count": 90
        }
      ]
    },
    {
      "cell_type": "code",
      "source": [
        "# df 확인\n",
        "df.head()"
      ],
      "metadata": {
        "colab": {
          "base_uri": "https://localhost:8080/",
          "height": 496
        },
        "id": "EqtQif5jBXcR",
        "outputId": "0f589d4d-2194-42c2-8925-190b8df1b5a8"
      },
      "execution_count": null,
      "outputs": [
        {
          "output_type": "execute_result",
          "data": {
            "text/plain": [
              "   PassengerId  Pclass                                          Name     Sex  \\\n",
              "0          892       3                              Kelly, Mr. James    male   \n",
              "1          893       3              Wilkes, Mrs. James (Ellen Needs)  female   \n",
              "2          894       2                     Myles, Mr. Thomas Francis    male   \n",
              "3          895       3                              Wirz, Mr. Albert    male   \n",
              "4          896       3  Hirvonen, Mrs. Alexander (Helga E Lindqvist)  female   \n",
              "\n",
              "    Age  SibSp  Parch   Ticket     Fare Cabin Embarked  \n",
              "0  34.5      0      0   330911   7.8292   NaN        Q  \n",
              "1  47.0      1      0   363272   7.0000   NaN        S  \n",
              "2  62.0      0      0   240276   9.6875   NaN        Q  \n",
              "3  27.0      0      0   315154   8.6625   NaN        S  \n",
              "4  22.0      1      1  3101298  12.2875   NaN        S  "
            ],
            "text/html": [
              "\n",
              "  <div id=\"df-fd9d5a8f-569c-4046-8729-4ceaef5facc9\">\n",
              "    <div class=\"colab-df-container\">\n",
              "      <div>\n",
              "<style scoped>\n",
              "    .dataframe tbody tr th:only-of-type {\n",
              "        vertical-align: middle;\n",
              "    }\n",
              "\n",
              "    .dataframe tbody tr th {\n",
              "        vertical-align: top;\n",
              "    }\n",
              "\n",
              "    .dataframe thead th {\n",
              "        text-align: right;\n",
              "    }\n",
              "</style>\n",
              "<table border=\"1\" class=\"dataframe\">\n",
              "  <thead>\n",
              "    <tr style=\"text-align: right;\">\n",
              "      <th></th>\n",
              "      <th>PassengerId</th>\n",
              "      <th>Pclass</th>\n",
              "      <th>Name</th>\n",
              "      <th>Sex</th>\n",
              "      <th>Age</th>\n",
              "      <th>SibSp</th>\n",
              "      <th>Parch</th>\n",
              "      <th>Ticket</th>\n",
              "      <th>Fare</th>\n",
              "      <th>Cabin</th>\n",
              "      <th>Embarked</th>\n",
              "    </tr>\n",
              "  </thead>\n",
              "  <tbody>\n",
              "    <tr>\n",
              "      <th>0</th>\n",
              "      <td>892</td>\n",
              "      <td>3</td>\n",
              "      <td>Kelly, Mr. James</td>\n",
              "      <td>male</td>\n",
              "      <td>34.5</td>\n",
              "      <td>0</td>\n",
              "      <td>0</td>\n",
              "      <td>330911</td>\n",
              "      <td>7.8292</td>\n",
              "      <td>NaN</td>\n",
              "      <td>Q</td>\n",
              "    </tr>\n",
              "    <tr>\n",
              "      <th>1</th>\n",
              "      <td>893</td>\n",
              "      <td>3</td>\n",
              "      <td>Wilkes, Mrs. James (Ellen Needs)</td>\n",
              "      <td>female</td>\n",
              "      <td>47.0</td>\n",
              "      <td>1</td>\n",
              "      <td>0</td>\n",
              "      <td>363272</td>\n",
              "      <td>7.0000</td>\n",
              "      <td>NaN</td>\n",
              "      <td>S</td>\n",
              "    </tr>\n",
              "    <tr>\n",
              "      <th>2</th>\n",
              "      <td>894</td>\n",
              "      <td>2</td>\n",
              "      <td>Myles, Mr. Thomas Francis</td>\n",
              "      <td>male</td>\n",
              "      <td>62.0</td>\n",
              "      <td>0</td>\n",
              "      <td>0</td>\n",
              "      <td>240276</td>\n",
              "      <td>9.6875</td>\n",
              "      <td>NaN</td>\n",
              "      <td>Q</td>\n",
              "    </tr>\n",
              "    <tr>\n",
              "      <th>3</th>\n",
              "      <td>895</td>\n",
              "      <td>3</td>\n",
              "      <td>Wirz, Mr. Albert</td>\n",
              "      <td>male</td>\n",
              "      <td>27.0</td>\n",
              "      <td>0</td>\n",
              "      <td>0</td>\n",
              "      <td>315154</td>\n",
              "      <td>8.6625</td>\n",
              "      <td>NaN</td>\n",
              "      <td>S</td>\n",
              "    </tr>\n",
              "    <tr>\n",
              "      <th>4</th>\n",
              "      <td>896</td>\n",
              "      <td>3</td>\n",
              "      <td>Hirvonen, Mrs. Alexander (Helga E Lindqvist)</td>\n",
              "      <td>female</td>\n",
              "      <td>22.0</td>\n",
              "      <td>1</td>\n",
              "      <td>1</td>\n",
              "      <td>3101298</td>\n",
              "      <td>12.2875</td>\n",
              "      <td>NaN</td>\n",
              "      <td>S</td>\n",
              "    </tr>\n",
              "  </tbody>\n",
              "</table>\n",
              "</div>\n",
              "      <button class=\"colab-df-convert\" onclick=\"convertToInteractive('df-fd9d5a8f-569c-4046-8729-4ceaef5facc9')\"\n",
              "              title=\"Convert this dataframe to an interactive table.\"\n",
              "              style=\"display:none;\">\n",
              "        \n",
              "  <svg xmlns=\"http://www.w3.org/2000/svg\" height=\"24px\"viewBox=\"0 0 24 24\"\n",
              "       width=\"24px\">\n",
              "    <path d=\"M0 0h24v24H0V0z\" fill=\"none\"/>\n",
              "    <path d=\"M18.56 5.44l.94 2.06.94-2.06 2.06-.94-2.06-.94-.94-2.06-.94 2.06-2.06.94zm-11 1L8.5 8.5l.94-2.06 2.06-.94-2.06-.94L8.5 2.5l-.94 2.06-2.06.94zm10 10l.94 2.06.94-2.06 2.06-.94-2.06-.94-.94-2.06-.94 2.06-2.06.94z\"/><path d=\"M17.41 7.96l-1.37-1.37c-.4-.4-.92-.59-1.43-.59-.52 0-1.04.2-1.43.59L10.3 9.45l-7.72 7.72c-.78.78-.78 2.05 0 2.83L4 21.41c.39.39.9.59 1.41.59.51 0 1.02-.2 1.41-.59l7.78-7.78 2.81-2.81c.8-.78.8-2.07 0-2.86zM5.41 20L4 18.59l7.72-7.72 1.47 1.35L5.41 20z\"/>\n",
              "  </svg>\n",
              "      </button>\n",
              "      \n",
              "  <style>\n",
              "    .colab-df-container {\n",
              "      display:flex;\n",
              "      flex-wrap:wrap;\n",
              "      gap: 12px;\n",
              "    }\n",
              "\n",
              "    .colab-df-convert {\n",
              "      background-color: #E8F0FE;\n",
              "      border: none;\n",
              "      border-radius: 50%;\n",
              "      cursor: pointer;\n",
              "      display: none;\n",
              "      fill: #1967D2;\n",
              "      height: 32px;\n",
              "      padding: 0 0 0 0;\n",
              "      width: 32px;\n",
              "    }\n",
              "\n",
              "    .colab-df-convert:hover {\n",
              "      background-color: #E2EBFA;\n",
              "      box-shadow: 0px 1px 2px rgba(60, 64, 67, 0.3), 0px 1px 3px 1px rgba(60, 64, 67, 0.15);\n",
              "      fill: #174EA6;\n",
              "    }\n",
              "\n",
              "    [theme=dark] .colab-df-convert {\n",
              "      background-color: #3B4455;\n",
              "      fill: #D2E3FC;\n",
              "    }\n",
              "\n",
              "    [theme=dark] .colab-df-convert:hover {\n",
              "      background-color: #434B5C;\n",
              "      box-shadow: 0px 1px 3px 1px rgba(0, 0, 0, 0.15);\n",
              "      filter: drop-shadow(0px 1px 2px rgba(0, 0, 0, 0.3));\n",
              "      fill: #FFFFFF;\n",
              "    }\n",
              "  </style>\n",
              "\n",
              "      <script>\n",
              "        const buttonEl =\n",
              "          document.querySelector('#df-fd9d5a8f-569c-4046-8729-4ceaef5facc9 button.colab-df-convert');\n",
              "        buttonEl.style.display =\n",
              "          google.colab.kernel.accessAllowed ? 'block' : 'none';\n",
              "\n",
              "        async function convertToInteractive(key) {\n",
              "          const element = document.querySelector('#df-fd9d5a8f-569c-4046-8729-4ceaef5facc9');\n",
              "          const dataTable =\n",
              "            await google.colab.kernel.invokeFunction('convertToInteractive',\n",
              "                                                     [key], {});\n",
              "          if (!dataTable) return;\n",
              "\n",
              "          const docLinkHtml = 'Like what you see? Visit the ' +\n",
              "            '<a target=\"_blank\" href=https://colab.research.google.com/notebooks/data_table.ipynb>data table notebook</a>'\n",
              "            + ' to learn more about interactive tables.';\n",
              "          element.innerHTML = '';\n",
              "          dataTable['output_type'] = 'display_data';\n",
              "          await google.colab.output.renderOutput(dataTable, element);\n",
              "          const docLink = document.createElement('div');\n",
              "          docLink.innerHTML = docLinkHtml;\n",
              "          element.appendChild(docLink);\n",
              "        }\n",
              "      </script>\n",
              "    </div>\n",
              "  </div>\n",
              "  "
            ]
          },
          "metadata": {},
          "execution_count": 91
        }
      ]
    },
    {
      "cell_type": "markdown",
      "source": [
        "![image.png](data:image/png;base64,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)"
      ],
      "metadata": {
        "id": "70J62HpTCP26"
      }
    },
    {
      "cell_type": "markdown",
      "source": [
        "### FE 계획\n",
        "1. Age - imputation (mean으로)\n",
        "2. Age - logarithm transformation \n",
        "2. Age - Standard Scaling\n",
        "3. sibsp + parch -> 부양가족있음 indicator Variables\n",
        "4. Fare - imputation\n",
        "4. Fare - logarithm transformation\n",
        "4. Fare - Scaling\n",
        "5. Embarked - label encoding\n",
        "\n"
      ],
      "metadata": {
        "id": "UUV8-N5iCgle"
      }
    },
    {
      "cell_type": "markdown",
      "source": [
        "### Age - imputation"
      ],
      "metadata": {
        "id": "zMrwDv4sUxYW"
      }
    },
    {
      "cell_type": "code",
      "source": [
        "# 결측치 mean으로 채우기\n",
        "df['Age'] = df['Age'].fillna(df['Age'].mean())"
      ],
      "metadata": {
        "id": "RTrRX7UjU-1r"
      },
      "execution_count": null,
      "outputs": []
    },
    {
      "cell_type": "code",
      "source": [
        "# imputation 이후 결측치 개수 확인\n",
        "df['Age'].isnull().sum()"
      ],
      "metadata": {
        "id": "5r2x3Z-zVHWq",
        "colab": {
          "base_uri": "https://localhost:8080/"
        },
        "outputId": "a1ec0e77-d5b4-4126-9b43-30d8ffea0305"
      },
      "execution_count": null,
      "outputs": [
        {
          "output_type": "execute_result",
          "data": {
            "text/plain": [
              "0"
            ]
          },
          "metadata": {},
          "execution_count": 93
        }
      ]
    },
    {
      "cell_type": "markdown",
      "source": [
        "### Age - logarithm transformation & standard scaler"
      ],
      "metadata": {
        "id": "0uKNGwKKXY_B"
      }
    },
    {
      "cell_type": "code",
      "source": [
        "# 로그변환\n",
        "df['Age_log'] = np.log(df['Age'])\n",
        "df['Age_log'].head()"
      ],
      "metadata": {
        "colab": {
          "base_uri": "https://localhost:8080/"
        },
        "id": "th1WKF52ZAaB",
        "outputId": "9e736d58-6830-44eb-c70a-bf3dc928e961"
      },
      "execution_count": null,
      "outputs": [
        {
          "output_type": "execute_result",
          "data": {
            "text/plain": [
              "0    3.540959\n",
              "1    3.850148\n",
              "2    4.127134\n",
              "3    3.295837\n",
              "4    3.091042\n",
              "Name: Age_log, dtype: float64"
            ]
          },
          "metadata": {},
          "execution_count": 94
        }
      ]
    },
    {
      "cell_type": "code",
      "source": [
        "# standard scaler 필요한 모듈 import\n",
        "from sklearn.preprocessing import StandardScaler\n",
        "sd_scaler = StandardScaler()"
      ],
      "metadata": {
        "id": "PaoxWUxLdS1u"
      },
      "execution_count": null,
      "outputs": []
    },
    {
      "cell_type": "code",
      "source": [
        "# Standard scaling\n",
        "sd_scaler = sd_scaler.fit_transform(df['Age_log'].values.reshape(-1, 1))\n",
        "df['sd_scaled_Age'] = sd_scaler"
      ],
      "metadata": {
        "id": "oAUxPS1ueG6d"
      },
      "execution_count": null,
      "outputs": []
    },
    {
      "cell_type": "code",
      "source": [
        "# standard scaling 확인\n",
        "df['sd_scaled_Age'].describe()"
      ],
      "metadata": {
        "colab": {
          "base_uri": "https://localhost:8080/"
        },
        "id": "TxAdx6UQeHJo",
        "outputId": "09033832-7190-4af6-afc0-a0e0a888e9f2"
      },
      "execution_count": null,
      "outputs": [
        {
          "output_type": "execute_result",
          "data": {
            "text/plain": [
              "count    4.180000e+02\n",
              "mean     2.464801e-16\n",
              "std      1.001198e+00\n",
              "min     -7.265539e+00\n",
              "25%     -1.928536e-01\n",
              "50%      2.031176e-01\n",
              "75%      4.426956e-01\n",
              "max      1.529741e+00\n",
              "Name: sd_scaled_Age, dtype: float64"
            ]
          },
          "metadata": {},
          "execution_count": 97
        }
      ]
    },
    {
      "cell_type": "markdown",
      "source": [
        "### sibsp + parch -> 부양가족 있음 Indicator Variables"
      ],
      "metadata": {
        "id": "K_aCcQncWYKX"
      }
    },
    {
      "cell_type": "code",
      "source": [
        "df['family'] = df['SibSp'].add(df['Parch'], axis = 0)\n",
        "df.head()"
      ],
      "metadata": {
        "id": "AOQ6Oz0xWjON",
        "colab": {
          "base_uri": "https://localhost:8080/",
          "height": 496
        },
        "outputId": "b5664812-080a-4cd3-dcb8-47b7d738a725"
      },
      "execution_count": null,
      "outputs": [
        {
          "output_type": "execute_result",
          "data": {
            "text/plain": [
              "   PassengerId  Pclass                                          Name     Sex  \\\n",
              "0          892       3                              Kelly, Mr. James    male   \n",
              "1          893       3              Wilkes, Mrs. James (Ellen Needs)  female   \n",
              "2          894       2                     Myles, Mr. Thomas Francis    male   \n",
              "3          895       3                              Wirz, Mr. Albert    male   \n",
              "4          896       3  Hirvonen, Mrs. Alexander (Helga E Lindqvist)  female   \n",
              "\n",
              "    Age  SibSp  Parch   Ticket     Fare Cabin Embarked   Age_log  \\\n",
              "0  34.5      0      0   330911   7.8292   NaN        Q  3.540959   \n",
              "1  47.0      1      0   363272   7.0000   NaN        S  3.850148   \n",
              "2  62.0      0      0   240276   9.6875   NaN        Q  4.127134   \n",
              "3  27.0      0      0   315154   8.6625   NaN        S  3.295837   \n",
              "4  22.0      1      1  3101298  12.2875   NaN        S  3.091042   \n",
              "\n",
              "   sd_scaled_Age  family  \n",
              "0       0.391508       0  \n",
              "1       0.837115       1  \n",
              "2       1.236312       0  \n",
              "3       0.038234       0  \n",
              "4      -0.256918       2  "
            ],
            "text/html": [
              "\n",
              "  <div id=\"df-87db4126-263e-42d3-a8b4-93a02c0ba5c4\">\n",
              "    <div class=\"colab-df-container\">\n",
              "      <div>\n",
              "<style scoped>\n",
              "    .dataframe tbody tr th:only-of-type {\n",
              "        vertical-align: middle;\n",
              "    }\n",
              "\n",
              "    .dataframe tbody tr th {\n",
              "        vertical-align: top;\n",
              "    }\n",
              "\n",
              "    .dataframe thead th {\n",
              "        text-align: right;\n",
              "    }\n",
              "</style>\n",
              "<table border=\"1\" class=\"dataframe\">\n",
              "  <thead>\n",
              "    <tr style=\"text-align: right;\">\n",
              "      <th></th>\n",
              "      <th>PassengerId</th>\n",
              "      <th>Pclass</th>\n",
              "      <th>Name</th>\n",
              "      <th>Sex</th>\n",
              "      <th>Age</th>\n",
              "      <th>SibSp</th>\n",
              "      <th>Parch</th>\n",
              "      <th>Ticket</th>\n",
              "      <th>Fare</th>\n",
              "      <th>Cabin</th>\n",
              "      <th>Embarked</th>\n",
              "      <th>Age_log</th>\n",
              "      <th>sd_scaled_Age</th>\n",
              "      <th>family</th>\n",
              "    </tr>\n",
              "  </thead>\n",
              "  <tbody>\n",
              "    <tr>\n",
              "      <th>0</th>\n",
              "      <td>892</td>\n",
              "      <td>3</td>\n",
              "      <td>Kelly, Mr. James</td>\n",
              "      <td>male</td>\n",
              "      <td>34.5</td>\n",
              "      <td>0</td>\n",
              "      <td>0</td>\n",
              "      <td>330911</td>\n",
              "      <td>7.8292</td>\n",
              "      <td>NaN</td>\n",
              "      <td>Q</td>\n",
              "      <td>3.540959</td>\n",
              "      <td>0.391508</td>\n",
              "      <td>0</td>\n",
              "    </tr>\n",
              "    <tr>\n",
              "      <th>1</th>\n",
              "      <td>893</td>\n",
              "      <td>3</td>\n",
              "      <td>Wilkes, Mrs. James (Ellen Needs)</td>\n",
              "      <td>female</td>\n",
              "      <td>47.0</td>\n",
              "      <td>1</td>\n",
              "      <td>0</td>\n",
              "      <td>363272</td>\n",
              "      <td>7.0000</td>\n",
              "      <td>NaN</td>\n",
              "      <td>S</td>\n",
              "      <td>3.850148</td>\n",
              "      <td>0.837115</td>\n",
              "      <td>1</td>\n",
              "    </tr>\n",
              "    <tr>\n",
              "      <th>2</th>\n",
              "      <td>894</td>\n",
              "      <td>2</td>\n",
              "      <td>Myles, Mr. Thomas Francis</td>\n",
              "      <td>male</td>\n",
              "      <td>62.0</td>\n",
              "      <td>0</td>\n",
              "      <td>0</td>\n",
              "      <td>240276</td>\n",
              "      <td>9.6875</td>\n",
              "      <td>NaN</td>\n",
              "      <td>Q</td>\n",
              "      <td>4.127134</td>\n",
              "      <td>1.236312</td>\n",
              "      <td>0</td>\n",
              "    </tr>\n",
              "    <tr>\n",
              "      <th>3</th>\n",
              "      <td>895</td>\n",
              "      <td>3</td>\n",
              "      <td>Wirz, Mr. Albert</td>\n",
              "      <td>male</td>\n",
              "      <td>27.0</td>\n",
              "      <td>0</td>\n",
              "      <td>0</td>\n",
              "      <td>315154</td>\n",
              "      <td>8.6625</td>\n",
              "      <td>NaN</td>\n",
              "      <td>S</td>\n",
              "      <td>3.295837</td>\n",
              "      <td>0.038234</td>\n",
              "      <td>0</td>\n",
              "    </tr>\n",
              "    <tr>\n",
              "      <th>4</th>\n",
              "      <td>896</td>\n",
              "      <td>3</td>\n",
              "      <td>Hirvonen, Mrs. Alexander (Helga E Lindqvist)</td>\n",
              "      <td>female</td>\n",
              "      <td>22.0</td>\n",
              "      <td>1</td>\n",
              "      <td>1</td>\n",
              "      <td>3101298</td>\n",
              "      <td>12.2875</td>\n",
              "      <td>NaN</td>\n",
              "      <td>S</td>\n",
              "      <td>3.091042</td>\n",
              "      <td>-0.256918</td>\n",
              "      <td>2</td>\n",
              "    </tr>\n",
              "  </tbody>\n",
              "</table>\n",
              "</div>\n",
              "      <button class=\"colab-df-convert\" onclick=\"convertToInteractive('df-87db4126-263e-42d3-a8b4-93a02c0ba5c4')\"\n",
              "              title=\"Convert this dataframe to an interactive table.\"\n",
              "              style=\"display:none;\">\n",
              "        \n",
              "  <svg xmlns=\"http://www.w3.org/2000/svg\" height=\"24px\"viewBox=\"0 0 24 24\"\n",
              "       width=\"24px\">\n",
              "    <path d=\"M0 0h24v24H0V0z\" fill=\"none\"/>\n",
              "    <path d=\"M18.56 5.44l.94 2.06.94-2.06 2.06-.94-2.06-.94-.94-2.06-.94 2.06-2.06.94zm-11 1L8.5 8.5l.94-2.06 2.06-.94-2.06-.94L8.5 2.5l-.94 2.06-2.06.94zm10 10l.94 2.06.94-2.06 2.06-.94-2.06-.94-.94-2.06-.94 2.06-2.06.94z\"/><path d=\"M17.41 7.96l-1.37-1.37c-.4-.4-.92-.59-1.43-.59-.52 0-1.04.2-1.43.59L10.3 9.45l-7.72 7.72c-.78.78-.78 2.05 0 2.83L4 21.41c.39.39.9.59 1.41.59.51 0 1.02-.2 1.41-.59l7.78-7.78 2.81-2.81c.8-.78.8-2.07 0-2.86zM5.41 20L4 18.59l7.72-7.72 1.47 1.35L5.41 20z\"/>\n",
              "  </svg>\n",
              "      </button>\n",
              "      \n",
              "  <style>\n",
              "    .colab-df-container {\n",
              "      display:flex;\n",
              "      flex-wrap:wrap;\n",
              "      gap: 12px;\n",
              "    }\n",
              "\n",
              "    .colab-df-convert {\n",
              "      background-color: #E8F0FE;\n",
              "      border: none;\n",
              "      border-radius: 50%;\n",
              "      cursor: pointer;\n",
              "      display: none;\n",
              "      fill: #1967D2;\n",
              "      height: 32px;\n",
              "      padding: 0 0 0 0;\n",
              "      width: 32px;\n",
              "    }\n",
              "\n",
              "    .colab-df-convert:hover {\n",
              "      background-color: #E2EBFA;\n",
              "      box-shadow: 0px 1px 2px rgba(60, 64, 67, 0.3), 0px 1px 3px 1px rgba(60, 64, 67, 0.15);\n",
              "      fill: #174EA6;\n",
              "    }\n",
              "\n",
              "    [theme=dark] .colab-df-convert {\n",
              "      background-color: #3B4455;\n",
              "      fill: #D2E3FC;\n",
              "    }\n",
              "\n",
              "    [theme=dark] .colab-df-convert:hover {\n",
              "      background-color: #434B5C;\n",
              "      box-shadow: 0px 1px 3px 1px rgba(0, 0, 0, 0.15);\n",
              "      filter: drop-shadow(0px 1px 2px rgba(0, 0, 0, 0.3));\n",
              "      fill: #FFFFFF;\n",
              "    }\n",
              "  </style>\n",
              "\n",
              "      <script>\n",
              "        const buttonEl =\n",
              "          document.querySelector('#df-87db4126-263e-42d3-a8b4-93a02c0ba5c4 button.colab-df-convert');\n",
              "        buttonEl.style.display =\n",
              "          google.colab.kernel.accessAllowed ? 'block' : 'none';\n",
              "\n",
              "        async function convertToInteractive(key) {\n",
              "          const element = document.querySelector('#df-87db4126-263e-42d3-a8b4-93a02c0ba5c4');\n",
              "          const dataTable =\n",
              "            await google.colab.kernel.invokeFunction('convertToInteractive',\n",
              "                                                     [key], {});\n",
              "          if (!dataTable) return;\n",
              "\n",
              "          const docLinkHtml = 'Like what you see? Visit the ' +\n",
              "            '<a target=\"_blank\" href=https://colab.research.google.com/notebooks/data_table.ipynb>data table notebook</a>'\n",
              "            + ' to learn more about interactive tables.';\n",
              "          element.innerHTML = '';\n",
              "          dataTable['output_type'] = 'display_data';\n",
              "          await google.colab.output.renderOutput(dataTable, element);\n",
              "          const docLink = document.createElement('div');\n",
              "          docLink.innerHTML = docLinkHtml;\n",
              "          element.appendChild(docLink);\n",
              "        }\n",
              "      </script>\n",
              "    </div>\n",
              "  </div>\n",
              "  "
            ]
          },
          "metadata": {},
          "execution_count": 98
        }
      ]
    },
    {
      "cell_type": "markdown",
      "source": [
        "### Fare - Imputation"
      ],
      "metadata": {
        "id": "ZQxqJHZBzcdE"
      }
    },
    {
      "cell_type": "code",
      "source": [
        "# 결측치 제거\n",
        "df['Fare'] = df['Fare'].fillna(0)\n",
        "df['Fare'].isnull().sum()"
      ],
      "metadata": {
        "colab": {
          "base_uri": "https://localhost:8080/"
        },
        "id": "6bRovzqRjT4N",
        "outputId": "d21004eb-ac0c-42ed-b2c9-7e4fb945130f"
      },
      "execution_count": null,
      "outputs": [
        {
          "output_type": "execute_result",
          "data": {
            "text/plain": [
              "0"
            ]
          },
          "metadata": {},
          "execution_count": 124
        }
      ]
    },
    {
      "cell_type": "markdown",
      "source": [
        "### Fare - logarithm transformation & standard scaling"
      ],
      "metadata": {
        "id": "6lgEjxNue_PT"
      }
    },
    {
      "cell_type": "code",
      "source": [
        "# logarithm transformation\n",
        "df['Fare_log'] = np.log(df['Fare'])\n",
        "df['Fare_log']"
      ],
      "metadata": {
        "colab": {
          "base_uri": "https://localhost:8080/"
        },
        "id": "MTpsQAJIh3Ss",
        "outputId": "c40d04c8-22d3-41f8-ce31-87f895bc7126"
      },
      "execution_count": null,
      "outputs": [
        {
          "output_type": "stream",
          "name": "stderr",
          "text": [
            "/usr/local/lib/python3.7/dist-packages/pandas/core/arraylike.py:364: RuntimeWarning: divide by zero encountered in log\n",
            "  result = getattr(ufunc, method)(*inputs, **kwargs)\n"
          ]
        },
        {
          "output_type": "execute_result",
          "data": {
            "text/plain": [
              "0      2.057860\n",
              "1      1.945910\n",
              "2      2.270836\n",
              "3      2.159003\n",
              "4      2.508582\n",
              "         ...   \n",
              "413    2.085672\n",
              "414    4.690430\n",
              "415    1.981001\n",
              "416    2.085672\n",
              "417    3.107198\n",
              "Name: Fare_log, Length: 417, dtype: float64"
            ]
          },
          "metadata": {},
          "execution_count": 125
        }
      ]
    },
    {
      "cell_type": "code",
      "source": [
        "# Fare_log의 이상치 확인\n",
        "sns.boxplot(x=df['Fare_log'])"
      ],
      "metadata": {
        "colab": {
          "base_uri": "https://localhost:8080/",
          "height": 298
        },
        "id": "GbhI3Xk7mCd6",
        "outputId": "54a53c0e-00f3-414b-e2d1-7e7fac71ceda"
      },
      "execution_count": null,
      "outputs": [
        {
          "output_type": "execute_result",
          "data": {
            "text/plain": [
              "<matplotlib.axes._subplots.AxesSubplot at 0x7fd4e61adbd0>"
            ]
          },
          "metadata": {},
          "execution_count": 126
        },
        {
          "output_type": "display_data",
          "data": {
            "text/plain": [
              "<Figure size 432x288 with 1 Axes>"
            ],
            "image/png": "[encoded data removed]"
          },
          "metadata": {
            "needs_background": "light"
          }
        }
      ]
    },
    {
      "cell_type": "code",
      "source": [
        "# Fare_log의 이상치 제거\n",
        "outlier = df[df['Fare_log'] >= 6].index\n",
        "df = df.drop(outlier)"
      ],
      "metadata": {
        "id": "lgnx-jxMnBSV"
      },
      "execution_count": null,
      "outputs": []
    },
    {
      "cell_type": "code",
      "source": [
        "sns.boxplot(x=df['Fare_log'])"
      ],
      "metadata": {
        "colab": {
          "base_uri": "https://localhost:8080/",
          "height": 298
        },
        "id": "FocZPxUWoIt8",
        "outputId": "ebb693e1-dd18-4c8c-bd0b-c327d77a3dd5"
      },
      "execution_count": null,
      "outputs": [
        {
          "output_type": "execute_result",
          "data": {
            "text/plain": [
              "<matplotlib.axes._subplots.AxesSubplot at 0x7fd4e63fd450>"
            ]
          },
          "metadata": {},
          "execution_count": 128
        },
        {
          "output_type": "display_data",
          "data": {
            "text/plain": [
              "<Figure size 432x288 with 1 Axes>"
            ],
            "image/png": "[encoded data removed]"
          },
          "metadata": {
            "needs_background": "light"
          }
        }
      ]
    },
    {
      "cell_type": "code",
      "source": [
        "# nan, infinity 확인\n",
        "print(np.isnan(df['Fare_log']).sum())\n",
        "print(np.isinf(df['Fare_log']).sum())"
      ],
      "metadata": {
        "colab": {
          "base_uri": "https://localhost:8080/"
        },
        "id": "NO8u7D47pnsH",
        "outputId": "00b14737-aea3-4f53-c584-f1fbdda3ef53"
      },
      "execution_count": null,
      "outputs": [
        {
          "output_type": "stream",
          "name": "stdout",
          "text": [
            "0\n",
            "2\n"
          ]
        }
      ]
    },
    {
      "cell_type": "code",
      "source": [
        "# infinity를 0으로 바꾸기 (꼭 -inf도 포함시켜야 함!)\n",
        "df['Fare_log'].replace([np.inf, -np.inf], 0, inplace = True)\n",
        "np.isinf(df['Fare_log']).sum()"
      ],
      "metadata": {
        "colab": {
          "base_uri": "https://localhost:8080/"
        },
        "id": "yqjTejRjqOkO",
        "outputId": "3205c65d-d2ac-4a5a-f54f-1e499e89aaca"
      },
      "execution_count": null,
      "outputs": [
        {
          "output_type": "execute_result",
          "data": {
            "text/plain": [
              "0"
            ]
          },
          "metadata": {},
          "execution_count": 130
        }
      ]
    },
    {
      "cell_type": "code",
      "source": [
        "# standard scaling\n",
        "sd_scaler = StandardScaler()\n",
        "sd_scaler2 = sd_scaler.fit_transform(df['Fare_log'].values.reshape(-1, 1))\n",
        "df['sd_scaled_Fare'] = sd_scaler2\n",
        "df['sd_scaled_Fare'].describe()"
      ],
      "metadata": {
        "colab": {
          "base_uri": "https://localhost:8080/"
        },
        "id": "A87OtShEiXIs",
        "outputId": "1a0fdb20-8d50-4b16-9edc-9fcca03ccab3"
      },
      "execution_count": null,
      "outputs": [
        {
          "output_type": "execute_result",
          "data": {
            "text/plain": [
              "count    4.170000e+02\n",
              "mean    -1.288604e-16\n",
              "std      1.001201e+00\n",
              "min     -2.958794e+00\n",
              "25%     -8.792366e-01\n",
              "50%     -2.707122e-01\n",
              "75%      5.132768e-01\n",
              "max      2.649027e+00\n",
              "Name: sd_scaled_Fare, dtype: float64"
            ]
          },
          "metadata": {},
          "execution_count": 131
        }
      ]
    },
    {
      "cell_type": "markdown",
      "source": [
        "### Embarked - label encoding"
      ],
      "metadata": {
        "id": "4Jhprfcpipda"
      }
    },
    {
      "cell_type": "code",
      "source": [
        "# 필요한 모듈 임포트\n",
        "from sklearn.preprocessing import LabelEncoder\n",
        "encoder = LabelEncoder()"
      ],
      "metadata": {
        "id": "i6SwKVwzt2hK"
      },
      "execution_count": null,
      "outputs": []
    },
    {
      "cell_type": "code",
      "source": [
        "# label encoding\n",
        "encoded = encoder.fit_transform(df['Embarked'])\n",
        "df['label_Embarked'] = encoded"
      ],
      "metadata": {
        "id": "nRj8JqWAvuuY"
      },
      "execution_count": null,
      "outputs": []
    },
    {
      "cell_type": "code",
      "source": [
        "# Embarked 컬럼과 label_Embarked 컬럼 비교\n",
        "print(df.label_Embarked.value_counts())\n",
        "print(df.Embarked.value_counts())"
      ],
      "metadata": {
        "colab": {
          "base_uri": "https://localhost:8080/"
        },
        "id": "c19PfKFix7g4",
        "outputId": "d3226b56-325b-48d4-d676-b620676ba024"
      },
      "execution_count": null,
      "outputs": [
        {
          "output_type": "stream",
          "name": "stdout",
          "text": [
            "2    270\n",
            "0    101\n",
            "1     46\n",
            "Name: label_Embarked, dtype: int64\n",
            "S    270\n",
            "C    101\n",
            "Q     46\n",
            "Name: Embarked, dtype: int64\n"
          ]
        }
      ]
    }
  ]
}