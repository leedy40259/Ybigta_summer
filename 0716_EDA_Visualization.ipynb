{
  "nbformat": 4,
  "nbformat_minor": 0,
  "metadata": {
    "colab": {
      "name": "0716_EDA_Visualization.ipynb",
      "provenance": [],
      "collapsed_sections": [],
      "include_colab_link": true
    },
    "kernelspec": {
      "display_name": "Python 3",
      "language": "python",
      "name": "python3"
    },
    "language_info": {
      "codemirror_mode": {
        "name": "ipython",
        "version": 3
      },
      "file_extension": ".py",
      "mimetype": "text/x-python",
      "name": "python",
      "nbconvert_exporter": "python",
      "pygments_lexer": "ipython3",
      "version": "3.8.10"
    }
  },
  "cells": [
    {
      "cell_type": "markdown",
      "metadata": {
        "id": "view-in-github",
        "colab_type": "text"
      },
      "source": [
        "<a href=\"https://colab.research.google.com/github/leedy40259/Ybigta_summer/blob/main/0716_EDA_Visualization.ipynb\" target=\"_parent\"><img src=\"https://colab.research.google.com/assets/colab-badge.svg\" alt=\"Open In Colab\"/></a>"
      ]
    },
    {
      "cell_type": "markdown",
      "metadata": {
        "id": "x0yoa3uTfcoz"
      },
      "source": [
        "# EDA 과제 \n",
        "#### <font color='orange'> - 약간 매운맛"
      ]
    },
    {
      "cell_type": "markdown",
      "metadata": {
        "id": "PfuUHX59fco0"
      },
      "source": [
        "by YBIGTA 16기 DA Team 김지환"
      ]
    },
    {
      "cell_type": "markdown",
      "metadata": {
        "id": "vfK2PJbOfco1"
      },
      "source": [
        "<img src='https://i.imgur.com/cqdVyfs.jpg'>\n",
        "\n",
        "\n",
        "---\n",
        "여러분은 Airbnb 런던 지사의 데이터 분석가입니다.\n",
        "\n",
        "이번에 호스트들에게 적정한 방 가격을 책정해주는 프로젝트를 진행할 예정입니다.\n",
        "\n",
        "이를 위해 기존에 런던에 있던 Airbnb 방 데이터를 분석할 것입니다.\n",
        "\n",
        "각 문제에 대해 적절한 코드 혹은 답변을 제시해보세요.\n",
        "\n",
        "---"
      ]
    },
    {
      "cell_type": "code",
      "metadata": {
        "id": "tROG2Acf2eKM"
      },
      "source": [
        "import pandas as pd\n",
        "import numpy as np\n",
        "import matplotlib.pyplot as plt\n",
        "%matplotlib inline\n",
        "# notebook을 실행한 브라우저에서 바로 그림을 볼 수 있게 해주는 코드. 버전에 따라 필요 없을 수도 있습니다.\n",
        "import seaborn as sns"
      ],
      "execution_count": 4,
      "outputs": []
    },
    {
      "cell_type": "code",
      "source": [
        "from google.colab import drive\n",
        "drive.mount('/content/drive')"
      ],
      "metadata": {
        "id": "MVJ_6x-c5z5D",
        "colab": {
          "base_uri": "https://localhost:8080/"
        },
        "outputId": "ce1eaa07-804a-4a3d-cff8-6c914844eebb"
      },
      "execution_count": 5,
      "outputs": [
        {
          "output_type": "stream",
          "name": "stdout",
          "text": [
            "Drive already mounted at /content/drive; to attempt to forcibly remount, call drive.mount(\"/content/drive\", force_remount=True).\n"
          ]
        }
      ]
    },
    {
      "cell_type": "code",
      "metadata": {
        "id": "Ay_oqYuW2eKP",
        "outputId": "38d59854-5c89-450e-c095-ce327875d5c2",
        "colab": {
          "base_uri": "https://localhost:8080/"
        }
      },
      "source": [
        "df = pd.read_csv('/content/drive/MyDrive/Ybigta_summer/airbnb_listings.csv', index_col=0)"
      ],
      "execution_count": 6,
      "outputs": [
        {
          "output_type": "stream",
          "name": "stderr",
          "text": [
            "/usr/local/lib/python3.7/dist-packages/IPython/core/interactiveshell.py:2882: DtypeWarning: Columns (25,26,47) have mixed types.Specify dtype option on import or set low_memory=False.\n",
            "  exec(code_obj, self.user_global_ns, self.user_ns)\n"
          ]
        }
      ]
    },
    {
      "cell_type": "markdown",
      "metadata": {
        "id": "PJLnjOfZfco8"
      },
      "source": [
        "# EDA"
      ]
    },
    {
      "cell_type": "markdown",
      "metadata": {
        "id": "W4Bydfl-fco9"
      },
      "source": [
        "### 1) 전체 데이터 확인"
      ]
    },
    {
      "cell_type": "markdown",
      "metadata": {
        "id": "E3dSDYVGfco9"
      },
      "source": [
        "- #### <font color='orange'> Q1. 상위 5개의 데이터를 확인해보세요. 컬럼 수가 많으니 모든 컬럼을 표시하도록 조정하세요. </font>"
      ]
    },
    {
      "cell_type": "code",
      "metadata": {
        "id": "13sbz1b62eKT",
        "outputId": "b95042ab-0378-41d5-e85f-11fa7ca1b035",
        "colab": {
          "base_uri": "https://localhost:8080/",
          "height": 404
        }
      },
      "source": [
        "# Q1\n",
        "df.head()"
      ],
      "execution_count": 7,
      "outputs": [
        {
          "output_type": "execute_result",
          "data": {
            "text/plain": [
              "     id  host_response_time host_response_rate host_acceptance_rate  \\\n",
              "0  2060  a few days or more                22%                  50%   \n",
              "1  2595        within a day                87%                  38%   \n",
              "2  3831      within an hour                83%                  96%   \n",
              "3  5099                 NaN                NaN                  71%   \n",
              "4  5114        within a day                50%                  NaN   \n",
              "\n",
              "  host_is_superhost  host_listings_count  host_total_listings_count  \\\n",
              "0                 f                  0.0                        0.0   \n",
              "1                 f                  6.0                        6.0   \n",
              "2                 f                  1.0                        1.0   \n",
              "3                 f                  1.0                        1.0   \n",
              "4                 f                  3.0                        3.0   \n",
              "\n",
              "                                  host_verifications host_has_profile_pic  \\\n",
              "0                                        ['reviews']                    t   \n",
              "1  ['email', 'phone', 'reviews', 'offline_governm...                    t   \n",
              "2               ['email', 'phone', 'reviews', 'kba']                    t   \n",
              "3  ['email', 'phone', 'reviews', 'jumio', 'govern...                    t   \n",
              "4                      ['email', 'phone', 'reviews']                    t   \n",
              "\n",
              "  host_identity_verified  ... review_scores_value  requires_license  license  \\\n",
              "0                      f  ...                 NaN                 f      NaN   \n",
              "1                      t  ...                 9.0                 f      NaN   \n",
              "2                      t  ...                 8.0                 f      NaN   \n",
              "3                      f  ...                 9.0                 f      NaN   \n",
              "4                      f  ...                10.0                 f      NaN   \n",
              "\n",
              "  jurisdiction_names instant_bookable is_business_travel_ready  \\\n",
              "0                NaN                f                        f   \n",
              "1                NaN                f                        f   \n",
              "2                NaN                f                        f   \n",
              "3                NaN                f                        f   \n",
              "4                NaN                f                        f   \n",
              "\n",
              "           cancellation_policy  require_guest_profile_picture  \\\n",
              "0                     flexible                              f   \n",
              "1  strict_14_with_grace_period                              t   \n",
              "2                     moderate                              f   \n",
              "3                     moderate                              t   \n",
              "4  strict_14_with_grace_period                              f   \n",
              "\n",
              "   require_guest_phone_verification  reviews_per_month  \n",
              "0                                 f               0.01  \n",
              "1                                 t               0.38  \n",
              "2                                 f               4.71  \n",
              "3                                 t               0.59  \n",
              "4                                 f               0.56  \n",
              "\n",
              "[5 rows x 54 columns]"
            ],
            "text/html": [
              "\n",
              "  <div id=\"df-e076afd6-949f-411e-b1b1-17538c8ab0fb\">\n",
              "    <div class=\"colab-df-container\">\n",
              "      <div>\n",
              "<style scoped>\n",
              "    .dataframe tbody tr th:only-of-type {\n",
              "        vertical-align: middle;\n",
              "    }\n",
              "\n",
              "    .dataframe tbody tr th {\n",
              "        vertical-align: top;\n",
              "    }\n",
              "\n",
              "    .dataframe thead th {\n",
              "        text-align: right;\n",
              "    }\n",
              "</style>\n",
              "<table border=\"1\" class=\"dataframe\">\n",
              "  <thead>\n",
              "    <tr style=\"text-align: right;\">\n",
              "      <th></th>\n",
              "      <th>id</th>\n",
              "      <th>host_response_time</th>\n",
              "      <th>host_response_rate</th>\n",
              "      <th>host_acceptance_rate</th>\n",
              "      <th>host_is_superhost</th>\n",
              "      <th>host_listings_count</th>\n",
              "      <th>host_total_listings_count</th>\n",
              "      <th>host_verifications</th>\n",
              "      <th>host_has_profile_pic</th>\n",
              "      <th>host_identity_verified</th>\n",
              "      <th>...</th>\n",
              "      <th>review_scores_value</th>\n",
              "      <th>requires_license</th>\n",
              "      <th>license</th>\n",
              "      <th>jurisdiction_names</th>\n",
              "      <th>instant_bookable</th>\n",
              "      <th>is_business_travel_ready</th>\n",
              "      <th>cancellation_policy</th>\n",
              "      <th>require_guest_profile_picture</th>\n",
              "      <th>require_guest_phone_verification</th>\n",
              "      <th>reviews_per_month</th>\n",
              "    </tr>\n",
              "  </thead>\n",
              "  <tbody>\n",
              "    <tr>\n",
              "      <th>0</th>\n",
              "      <td>2060</td>\n",
              "      <td>a few days or more</td>\n",
              "      <td>22%</td>\n",
              "      <td>50%</td>\n",
              "      <td>f</td>\n",
              "      <td>0.0</td>\n",
              "      <td>0.0</td>\n",
              "      <td>['reviews']</td>\n",
              "      <td>t</td>\n",
              "      <td>f</td>\n",
              "      <td>...</td>\n",
              "      <td>NaN</td>\n",
              "      <td>f</td>\n",
              "      <td>NaN</td>\n",
              "      <td>NaN</td>\n",
              "      <td>f</td>\n",
              "      <td>f</td>\n",
              "      <td>flexible</td>\n",
              "      <td>f</td>\n",
              "      <td>f</td>\n",
              "      <td>0.01</td>\n",
              "    </tr>\n",
              "    <tr>\n",
              "      <th>1</th>\n",
              "      <td>2595</td>\n",
              "      <td>within a day</td>\n",
              "      <td>87%</td>\n",
              "      <td>38%</td>\n",
              "      <td>f</td>\n",
              "      <td>6.0</td>\n",
              "      <td>6.0</td>\n",
              "      <td>['email', 'phone', 'reviews', 'offline_governm...</td>\n",
              "      <td>t</td>\n",
              "      <td>t</td>\n",
              "      <td>...</td>\n",
              "      <td>9.0</td>\n",
              "      <td>f</td>\n",
              "      <td>NaN</td>\n",
              "      <td>NaN</td>\n",
              "      <td>f</td>\n",
              "      <td>f</td>\n",
              "      <td>strict_14_with_grace_period</td>\n",
              "      <td>t</td>\n",
              "      <td>t</td>\n",
              "      <td>0.38</td>\n",
              "    </tr>\n",
              "    <tr>\n",
              "      <th>2</th>\n",
              "      <td>3831</td>\n",
              "      <td>within an hour</td>\n",
              "      <td>83%</td>\n",
              "      <td>96%</td>\n",
              "      <td>f</td>\n",
              "      <td>1.0</td>\n",
              "      <td>1.0</td>\n",
              "      <td>['email', 'phone', 'reviews', 'kba']</td>\n",
              "      <td>t</td>\n",
              "      <td>t</td>\n",
              "      <td>...</td>\n",
              "      <td>8.0</td>\n",
              "      <td>f</td>\n",
              "      <td>NaN</td>\n",
              "      <td>NaN</td>\n",
              "      <td>f</td>\n",
              "      <td>f</td>\n",
              "      <td>moderate</td>\n",
              "      <td>f</td>\n",
              "      <td>f</td>\n",
              "      <td>4.71</td>\n",
              "    </tr>\n",
              "    <tr>\n",
              "      <th>3</th>\n",
              "      <td>5099</td>\n",
              "      <td>NaN</td>\n",
              "      <td>NaN</td>\n",
              "      <td>71%</td>\n",
              "      <td>f</td>\n",
              "      <td>1.0</td>\n",
              "      <td>1.0</td>\n",
              "      <td>['email', 'phone', 'reviews', 'jumio', 'govern...</td>\n",
              "      <td>t</td>\n",
              "      <td>f</td>\n",
              "      <td>...</td>\n",
              "      <td>9.0</td>\n",
              "      <td>f</td>\n",
              "      <td>NaN</td>\n",
              "      <td>NaN</td>\n",
              "      <td>f</td>\n",
              "      <td>f</td>\n",
              "      <td>moderate</td>\n",
              "      <td>t</td>\n",
              "      <td>t</td>\n",
              "      <td>0.59</td>\n",
              "    </tr>\n",
              "    <tr>\n",
              "      <th>4</th>\n",
              "      <td>5114</td>\n",
              "      <td>within a day</td>\n",
              "      <td>50%</td>\n",
              "      <td>NaN</td>\n",
              "      <td>f</td>\n",
              "      <td>3.0</td>\n",
              "      <td>3.0</td>\n",
              "      <td>['email', 'phone', 'reviews']</td>\n",
              "      <td>t</td>\n",
              "      <td>f</td>\n",
              "      <td>...</td>\n",
              "      <td>10.0</td>\n",
              "      <td>f</td>\n",
              "      <td>NaN</td>\n",
              "      <td>NaN</td>\n",
              "      <td>f</td>\n",
              "      <td>f</td>\n",
              "      <td>strict_14_with_grace_period</td>\n",
              "      <td>f</td>\n",
              "      <td>f</td>\n",
              "      <td>0.56</td>\n",
              "    </tr>\n",
              "  </tbody>\n",
              "</table>\n",
              "<p>5 rows × 54 columns</p>\n",
              "</div>\n",
              "      <button class=\"colab-df-convert\" onclick=\"convertToInteractive('df-e076afd6-949f-411e-b1b1-17538c8ab0fb')\"\n",
              "              title=\"Convert this dataframe to an interactive table.\"\n",
              "              style=\"display:none;\">\n",
              "        \n",
              "  <svg xmlns=\"http://www.w3.org/2000/svg\" height=\"24px\"viewBox=\"0 0 24 24\"\n",
              "       width=\"24px\">\n",
              "    <path d=\"M0 0h24v24H0V0z\" fill=\"none\"/>\n",
              "    <path d=\"M18.56 5.44l.94 2.06.94-2.06 2.06-.94-2.06-.94-.94-2.06-.94 2.06-2.06.94zm-11 1L8.5 8.5l.94-2.06 2.06-.94-2.06-.94L8.5 2.5l-.94 2.06-2.06.94zm10 10l.94 2.06.94-2.06 2.06-.94-2.06-.94-.94-2.06-.94 2.06-2.06.94z\"/><path d=\"M17.41 7.96l-1.37-1.37c-.4-.4-.92-.59-1.43-.59-.52 0-1.04.2-1.43.59L10.3 9.45l-7.72 7.72c-.78.78-.78 2.05 0 2.83L4 21.41c.39.39.9.59 1.41.59.51 0 1.02-.2 1.41-.59l7.78-7.78 2.81-2.81c.8-.78.8-2.07 0-2.86zM5.41 20L4 18.59l7.72-7.72 1.47 1.35L5.41 20z\"/>\n",
              "  </svg>\n",
              "      </button>\n",
              "      \n",
              "  <style>\n",
              "    .colab-df-container {\n",
              "      display:flex;\n",
              "      flex-wrap:wrap;\n",
              "      gap: 12px;\n",
              "    }\n",
              "\n",
              "    .colab-df-convert {\n",
              "      background-color: #E8F0FE;\n",
              "      border: none;\n",
              "      border-radius: 50%;\n",
              "      cursor: pointer;\n",
              "      display: none;\n",
              "      fill: #1967D2;\n",
              "      height: 32px;\n",
              "      padding: 0 0 0 0;\n",
              "      width: 32px;\n",
              "    }\n",
              "\n",
              "    .colab-df-convert:hover {\n",
              "      background-color: #E2EBFA;\n",
              "      box-shadow: 0px 1px 2px rgba(60, 64, 67, 0.3), 0px 1px 3px 1px rgba(60, 64, 67, 0.15);\n",
              "      fill: #174EA6;\n",
              "    }\n",
              "\n",
              "    [theme=dark] .colab-df-convert {\n",
              "      background-color: #3B4455;\n",
              "      fill: #D2E3FC;\n",
              "    }\n",
              "\n",
              "    [theme=dark] .colab-df-convert:hover {\n",
              "      background-color: #434B5C;\n",
              "      box-shadow: 0px 1px 3px 1px rgba(0, 0, 0, 0.15);\n",
              "      filter: drop-shadow(0px 1px 2px rgba(0, 0, 0, 0.3));\n",
              "      fill: #FFFFFF;\n",
              "    }\n",
              "  </style>\n",
              "\n",
              "      <script>\n",
              "        const buttonEl =\n",
              "          document.querySelector('#df-e076afd6-949f-411e-b1b1-17538c8ab0fb button.colab-df-convert');\n",
              "        buttonEl.style.display =\n",
              "          google.colab.kernel.accessAllowed ? 'block' : 'none';\n",
              "\n",
              "        async function convertToInteractive(key) {\n",
              "          const element = document.querySelector('#df-e076afd6-949f-411e-b1b1-17538c8ab0fb');\n",
              "          const dataTable =\n",
              "            await google.colab.kernel.invokeFunction('convertToInteractive',\n",
              "                                                     [key], {});\n",
              "          if (!dataTable) return;\n",
              "\n",
              "          const docLinkHtml = 'Like what you see? Visit the ' +\n",
              "            '<a target=\"_blank\" href=https://colab.research.google.com/notebooks/data_table.ipynb>data table notebook</a>'\n",
              "            + ' to learn more about interactive tables.';\n",
              "          element.innerHTML = '';\n",
              "          dataTable['output_type'] = 'display_data';\n",
              "          await google.colab.output.renderOutput(dataTable, element);\n",
              "          const docLink = document.createElement('div');\n",
              "          docLink.innerHTML = docLinkHtml;\n",
              "          element.appendChild(docLink);\n",
              "        }\n",
              "      </script>\n",
              "    </div>\n",
              "  </div>\n",
              "  "
            ]
          },
          "metadata": {},
          "execution_count": 7
        }
      ]
    },
    {
      "cell_type": "markdown",
      "metadata": {
        "id": "bs39AwwafcpA"
      },
      "source": [
        "---\n",
        "### 2) 결측치 확인"
      ]
    },
    {
      "cell_type": "markdown",
      "metadata": {
        "id": "9-IpP0m4fcpA"
      },
      "source": [
        "- #### <font color='orange'> Q2. 각 컬럼의 결측치를 확인하고, 결측치가 많은 순서대로 결측치 비율과 함께 표로 나타내보세요.\n",
        "<font color='orange'> (결측치 0개인 컬럼은 나타내지 마세요)"
      ]
    },
    {
      "cell_type": "code",
      "metadata": {
        "id": "GN2gxJDifcpB",
        "outputId": "67031298-aff9-4ed7-dd92-83637079cda2",
        "colab": {
          "base_uri": "https://localhost:8080/",
          "height": 833
        }
      },
      "source": [
        "# Q2\n",
        "percentage_of_null = df.isnull().sum()/len(df)*100\n",
        "df_null = percentage_of_null.to_frame(name = 'null').sort_values('null', ascending = False)\n",
        "df_null = df_null.loc[(df_null != 0).any(axis = 1)]\n",
        "df_null"
      ],
      "execution_count": 8,
      "outputs": [
        {
          "output_type": "execute_result",
          "data": {
            "text/plain": [
              "                                  null\n",
              "jurisdiction_names           99.970470\n",
              "license                      99.927160\n",
              "square_feet                  99.234192\n",
              "monthly_price                90.792582\n",
              "weekly_price                 89.398772\n",
              "host_response_rate           37.416332\n",
              "host_response_time           37.416332\n",
              "security_deposit             34.107016\n",
              "host_acceptance_rate         27.590755\n",
              "review_scores_location       22.604142\n",
              "review_scores_value          22.604142\n",
              "review_scores_checkin        22.598236\n",
              "review_scores_accuracy       22.572644\n",
              "review_scores_communication  22.566738\n",
              "review_scores_cleanliness    22.545082\n",
              "review_scores_rating         22.503740\n",
              "reviews_per_month            20.578392\n",
              "beds                          0.948894\n",
              "bedrooms                      0.151587\n",
              "bathrooms                     0.106308\n",
              "host_identity_verified        0.009843\n",
              "host_has_profile_pic          0.009843\n",
              "host_total_listings_count     0.009843\n",
              "host_listings_count           0.009843\n",
              "host_is_superhost             0.009843"
            ],
            "text/html": [
              "\n",
              "  <div id=\"df-2f92b5ca-1e4b-4935-ac3c-a48aa56f8aa5\">\n",
              "    <div class=\"colab-df-container\">\n",
              "      <div>\n",
              "<style scoped>\n",
              "    .dataframe tbody tr th:only-of-type {\n",
              "        vertical-align: middle;\n",
              "    }\n",
              "\n",
              "    .dataframe tbody tr th {\n",
              "        vertical-align: top;\n",
              "    }\n",
              "\n",
              "    .dataframe thead th {\n",
              "        text-align: right;\n",
              "    }\n",
              "</style>\n",
              "<table border=\"1\" class=\"dataframe\">\n",
              "  <thead>\n",
              "    <tr style=\"text-align: right;\">\n",
              "      <th></th>\n",
              "      <th>null</th>\n",
              "    </tr>\n",
              "  </thead>\n",
              "  <tbody>\n",
              "    <tr>\n",
              "      <th>jurisdiction_names</th>\n",
              "      <td>99.970470</td>\n",
              "    </tr>\n",
              "    <tr>\n",
              "      <th>license</th>\n",
              "      <td>99.927160</td>\n",
              "    </tr>\n",
              "    <tr>\n",
              "      <th>square_feet</th>\n",
              "      <td>99.234192</td>\n",
              "    </tr>\n",
              "    <tr>\n",
              "      <th>monthly_price</th>\n",
              "      <td>90.792582</td>\n",
              "    </tr>\n",
              "    <tr>\n",
              "      <th>weekly_price</th>\n",
              "      <td>89.398772</td>\n",
              "    </tr>\n",
              "    <tr>\n",
              "      <th>host_response_rate</th>\n",
              "      <td>37.416332</td>\n",
              "    </tr>\n",
              "    <tr>\n",
              "      <th>host_response_time</th>\n",
              "      <td>37.416332</td>\n",
              "    </tr>\n",
              "    <tr>\n",
              "      <th>security_deposit</th>\n",
              "      <td>34.107016</td>\n",
              "    </tr>\n",
              "    <tr>\n",
              "      <th>host_acceptance_rate</th>\n",
              "      <td>27.590755</td>\n",
              "    </tr>\n",
              "    <tr>\n",
              "      <th>review_scores_location</th>\n",
              "      <td>22.604142</td>\n",
              "    </tr>\n",
              "    <tr>\n",
              "      <th>review_scores_value</th>\n",
              "      <td>22.604142</td>\n",
              "    </tr>\n",
              "    <tr>\n",
              "      <th>review_scores_checkin</th>\n",
              "      <td>22.598236</td>\n",
              "    </tr>\n",
              "    <tr>\n",
              "      <th>review_scores_accuracy</th>\n",
              "      <td>22.572644</td>\n",
              "    </tr>\n",
              "    <tr>\n",
              "      <th>review_scores_communication</th>\n",
              "      <td>22.566738</td>\n",
              "    </tr>\n",
              "    <tr>\n",
              "      <th>review_scores_cleanliness</th>\n",
              "      <td>22.545082</td>\n",
              "    </tr>\n",
              "    <tr>\n",
              "      <th>review_scores_rating</th>\n",
              "      <td>22.503740</td>\n",
              "    </tr>\n",
              "    <tr>\n",
              "      <th>reviews_per_month</th>\n",
              "      <td>20.578392</td>\n",
              "    </tr>\n",
              "    <tr>\n",
              "      <th>beds</th>\n",
              "      <td>0.948894</td>\n",
              "    </tr>\n",
              "    <tr>\n",
              "      <th>bedrooms</th>\n",
              "      <td>0.151587</td>\n",
              "    </tr>\n",
              "    <tr>\n",
              "      <th>bathrooms</th>\n",
              "      <td>0.106308</td>\n",
              "    </tr>\n",
              "    <tr>\n",
              "      <th>host_identity_verified</th>\n",
              "      <td>0.009843</td>\n",
              "    </tr>\n",
              "    <tr>\n",
              "      <th>host_has_profile_pic</th>\n",
              "      <td>0.009843</td>\n",
              "    </tr>\n",
              "    <tr>\n",
              "      <th>host_total_listings_count</th>\n",
              "      <td>0.009843</td>\n",
              "    </tr>\n",
              "    <tr>\n",
              "      <th>host_listings_count</th>\n",
              "      <td>0.009843</td>\n",
              "    </tr>\n",
              "    <tr>\n",
              "      <th>host_is_superhost</th>\n",
              "      <td>0.009843</td>\n",
              "    </tr>\n",
              "  </tbody>\n",
              "</table>\n",
              "</div>\n",
              "      <button class=\"colab-df-convert\" onclick=\"convertToInteractive('df-2f92b5ca-1e4b-4935-ac3c-a48aa56f8aa5')\"\n",
              "              title=\"Convert this dataframe to an interactive table.\"\n",
              "              style=\"display:none;\">\n",
              "        \n",
              "  <svg xmlns=\"http://www.w3.org/2000/svg\" height=\"24px\"viewBox=\"0 0 24 24\"\n",
              "       width=\"24px\">\n",
              "    <path d=\"M0 0h24v24H0V0z\" fill=\"none\"/>\n",
              "    <path d=\"M18.56 5.44l.94 2.06.94-2.06 2.06-.94-2.06-.94-.94-2.06-.94 2.06-2.06.94zm-11 1L8.5 8.5l.94-2.06 2.06-.94-2.06-.94L8.5 2.5l-.94 2.06-2.06.94zm10 10l.94 2.06.94-2.06 2.06-.94-2.06-.94-.94-2.06-.94 2.06-2.06.94z\"/><path d=\"M17.41 7.96l-1.37-1.37c-.4-.4-.92-.59-1.43-.59-.52 0-1.04.2-1.43.59L10.3 9.45l-7.72 7.72c-.78.78-.78 2.05 0 2.83L4 21.41c.39.39.9.59 1.41.59.51 0 1.02-.2 1.41-.59l7.78-7.78 2.81-2.81c.8-.78.8-2.07 0-2.86zM5.41 20L4 18.59l7.72-7.72 1.47 1.35L5.41 20z\"/>\n",
              "  </svg>\n",
              "      </button>\n",
              "      \n",
              "  <style>\n",
              "    .colab-df-container {\n",
              "      display:flex;\n",
              "      flex-wrap:wrap;\n",
              "      gap: 12px;\n",
              "    }\n",
              "\n",
              "    .colab-df-convert {\n",
              "      background-color: #E8F0FE;\n",
              "      border: none;\n",
              "      border-radius: 50%;\n",
              "      cursor: pointer;\n",
              "      display: none;\n",
              "      fill: #1967D2;\n",
              "      height: 32px;\n",
              "      padding: 0 0 0 0;\n",
              "      width: 32px;\n",
              "    }\n",
              "\n",
              "    .colab-df-convert:hover {\n",
              "      background-color: #E2EBFA;\n",
              "      box-shadow: 0px 1px 2px rgba(60, 64, 67, 0.3), 0px 1px 3px 1px rgba(60, 64, 67, 0.15);\n",
              "      fill: #174EA6;\n",
              "    }\n",
              "\n",
              "    [theme=dark] .colab-df-convert {\n",
              "      background-color: #3B4455;\n",
              "      fill: #D2E3FC;\n",
              "    }\n",
              "\n",
              "    [theme=dark] .colab-df-convert:hover {\n",
              "      background-color: #434B5C;\n",
              "      box-shadow: 0px 1px 3px 1px rgba(0, 0, 0, 0.15);\n",
              "      filter: drop-shadow(0px 1px 2px rgba(0, 0, 0, 0.3));\n",
              "      fill: #FFFFFF;\n",
              "    }\n",
              "  </style>\n",
              "\n",
              "      <script>\n",
              "        const buttonEl =\n",
              "          document.querySelector('#df-2f92b5ca-1e4b-4935-ac3c-a48aa56f8aa5 button.colab-df-convert');\n",
              "        buttonEl.style.display =\n",
              "          google.colab.kernel.accessAllowed ? 'block' : 'none';\n",
              "\n",
              "        async function convertToInteractive(key) {\n",
              "          const element = document.querySelector('#df-2f92b5ca-1e4b-4935-ac3c-a48aa56f8aa5');\n",
              "          const dataTable =\n",
              "            await google.colab.kernel.invokeFunction('convertToInteractive',\n",
              "                                                     [key], {});\n",
              "          if (!dataTable) return;\n",
              "\n",
              "          const docLinkHtml = 'Like what you see? Visit the ' +\n",
              "            '<a target=\"_blank\" href=https://colab.research.google.com/notebooks/data_table.ipynb>data table notebook</a>'\n",
              "            + ' to learn more about interactive tables.';\n",
              "          element.innerHTML = '';\n",
              "          dataTable['output_type'] = 'display_data';\n",
              "          await google.colab.output.renderOutput(dataTable, element);\n",
              "          const docLink = document.createElement('div');\n",
              "          docLink.innerHTML = docLinkHtml;\n",
              "          element.appendChild(docLink);\n",
              "        }\n",
              "      </script>\n",
              "    </div>\n",
              "  </div>\n",
              "  "
            ]
          },
          "metadata": {},
          "execution_count": 8
        }
      ]
    },
    {
      "cell_type": "code",
      "source": [
        "missingnum = df.isnull().sum()\n",
        "missingnum = missingnum[missingnum>0]\n",
        "q2df = pd.DataFrame(missingnum, columns=['missing_num'])\n",
        "q2df = q2df.sort_values(by='missing_num', ascending = False)\n",
        "q2df['missing_%'] = round(q2df['missing_num']/len(df)*100,1)\n",
        "q2df"
      ],
      "metadata": {
        "colab": {
          "base_uri": "https://localhost:8080/",
          "height": 833
        },
        "id": "Ne07ZdBYRgfH",
        "outputId": "54476f0f-2796-4264-d24c-d91ff53e33fe"
      },
      "execution_count": 9,
      "outputs": [
        {
          "output_type": "execute_result",
          "data": {
            "text/plain": [
              "                             missing_num  missing_%\n",
              "jurisdiction_names                 50781      100.0\n",
              "license                            50759       99.9\n",
              "square_feet                        50407       99.2\n",
              "monthly_price                      46119       90.8\n",
              "weekly_price                       45411       89.4\n",
              "host_response_rate                 19006       37.4\n",
              "host_response_time                 19006       37.4\n",
              "security_deposit                   17325       34.1\n",
              "host_acceptance_rate               14015       27.6\n",
              "review_scores_value                11482       22.6\n",
              "review_scores_location             11482       22.6\n",
              "review_scores_checkin              11479       22.6\n",
              "review_scores_accuracy             11466       22.6\n",
              "review_scores_communication        11463       22.6\n",
              "review_scores_cleanliness          11452       22.5\n",
              "review_scores_rating               11431       22.5\n",
              "reviews_per_month                  10453       20.6\n",
              "beds                                 482        0.9\n",
              "bedrooms                              77        0.2\n",
              "bathrooms                             54        0.1\n",
              "host_listings_count                    5        0.0\n",
              "host_total_listings_count              5        0.0\n",
              "host_has_profile_pic                   5        0.0\n",
              "host_is_superhost                      5        0.0\n",
              "host_identity_verified                 5        0.0"
            ],
            "text/html": [
              "\n",
              "  <div id=\"df-56b44d2f-9eb8-4eea-abf1-a01bab176b97\">\n",
              "    <div class=\"colab-df-container\">\n",
              "      <div>\n",
              "<style scoped>\n",
              "    .dataframe tbody tr th:only-of-type {\n",
              "        vertical-align: middle;\n",
              "    }\n",
              "\n",
              "    .dataframe tbody tr th {\n",
              "        vertical-align: top;\n",
              "    }\n",
              "\n",
              "    .dataframe thead th {\n",
              "        text-align: right;\n",
              "    }\n",
              "</style>\n",
              "<table border=\"1\" class=\"dataframe\">\n",
              "  <thead>\n",
              "    <tr style=\"text-align: right;\">\n",
              "      <th></th>\n",
              "      <th>missing_num</th>\n",
              "      <th>missing_%</th>\n",
              "    </tr>\n",
              "  </thead>\n",
              "  <tbody>\n",
              "    <tr>\n",
              "      <th>jurisdiction_names</th>\n",
              "      <td>50781</td>\n",
              "      <td>100.0</td>\n",
              "    </tr>\n",
              "    <tr>\n",
              "      <th>license</th>\n",
              "      <td>50759</td>\n",
              "      <td>99.9</td>\n",
              "    </tr>\n",
              "    <tr>\n",
              "      <th>square_feet</th>\n",
              "      <td>50407</td>\n",
              "      <td>99.2</td>\n",
              "    </tr>\n",
              "    <tr>\n",
              "      <th>monthly_price</th>\n",
              "      <td>46119</td>\n",
              "      <td>90.8</td>\n",
              "    </tr>\n",
              "    <tr>\n",
              "      <th>weekly_price</th>\n",
              "      <td>45411</td>\n",
              "      <td>89.4</td>\n",
              "    </tr>\n",
              "    <tr>\n",
              "      <th>host_response_rate</th>\n",
              "      <td>19006</td>\n",
              "      <td>37.4</td>\n",
              "    </tr>\n",
              "    <tr>\n",
              "      <th>host_response_time</th>\n",
              "      <td>19006</td>\n",
              "      <td>37.4</td>\n",
              "    </tr>\n",
              "    <tr>\n",
              "      <th>security_deposit</th>\n",
              "      <td>17325</td>\n",
              "      <td>34.1</td>\n",
              "    </tr>\n",
              "    <tr>\n",
              "      <th>host_acceptance_rate</th>\n",
              "      <td>14015</td>\n",
              "      <td>27.6</td>\n",
              "    </tr>\n",
              "    <tr>\n",
              "      <th>review_scores_value</th>\n",
              "      <td>11482</td>\n",
              "      <td>22.6</td>\n",
              "    </tr>\n",
              "    <tr>\n",
              "      <th>review_scores_location</th>\n",
              "      <td>11482</td>\n",
              "      <td>22.6</td>\n",
              "    </tr>\n",
              "    <tr>\n",
              "      <th>review_scores_checkin</th>\n",
              "      <td>11479</td>\n",
              "      <td>22.6</td>\n",
              "    </tr>\n",
              "    <tr>\n",
              "      <th>review_scores_accuracy</th>\n",
              "      <td>11466</td>\n",
              "      <td>22.6</td>\n",
              "    </tr>\n",
              "    <tr>\n",
              "      <th>review_scores_communication</th>\n",
              "      <td>11463</td>\n",
              "      <td>22.6</td>\n",
              "    </tr>\n",
              "    <tr>\n",
              "      <th>review_scores_cleanliness</th>\n",
              "      <td>11452</td>\n",
              "      <td>22.5</td>\n",
              "    </tr>\n",
              "    <tr>\n",
              "      <th>review_scores_rating</th>\n",
              "      <td>11431</td>\n",
              "      <td>22.5</td>\n",
              "    </tr>\n",
              "    <tr>\n",
              "      <th>reviews_per_month</th>\n",
              "      <td>10453</td>\n",
              "      <td>20.6</td>\n",
              "    </tr>\n",
              "    <tr>\n",
              "      <th>beds</th>\n",
              "      <td>482</td>\n",
              "      <td>0.9</td>\n",
              "    </tr>\n",
              "    <tr>\n",
              "      <th>bedrooms</th>\n",
              "      <td>77</td>\n",
              "      <td>0.2</td>\n",
              "    </tr>\n",
              "    <tr>\n",
              "      <th>bathrooms</th>\n",
              "      <td>54</td>\n",
              "      <td>0.1</td>\n",
              "    </tr>\n",
              "    <tr>\n",
              "      <th>host_listings_count</th>\n",
              "      <td>5</td>\n",
              "      <td>0.0</td>\n",
              "    </tr>\n",
              "    <tr>\n",
              "      <th>host_total_listings_count</th>\n",
              "      <td>5</td>\n",
              "      <td>0.0</td>\n",
              "    </tr>\n",
              "    <tr>\n",
              "      <th>host_has_profile_pic</th>\n",
              "      <td>5</td>\n",
              "      <td>0.0</td>\n",
              "    </tr>\n",
              "    <tr>\n",
              "      <th>host_is_superhost</th>\n",
              "      <td>5</td>\n",
              "      <td>0.0</td>\n",
              "    </tr>\n",
              "    <tr>\n",
              "      <th>host_identity_verified</th>\n",
              "      <td>5</td>\n",
              "      <td>0.0</td>\n",
              "    </tr>\n",
              "  </tbody>\n",
              "</table>\n",
              "</div>\n",
              "      <button class=\"colab-df-convert\" onclick=\"convertToInteractive('df-56b44d2f-9eb8-4eea-abf1-a01bab176b97')\"\n",
              "              title=\"Convert this dataframe to an interactive table.\"\n",
              "              style=\"display:none;\">\n",
              "        \n",
              "  <svg xmlns=\"http://www.w3.org/2000/svg\" height=\"24px\"viewBox=\"0 0 24 24\"\n",
              "       width=\"24px\">\n",
              "    <path d=\"M0 0h24v24H0V0z\" fill=\"none\"/>\n",
              "    <path d=\"M18.56 5.44l.94 2.06.94-2.06 2.06-.94-2.06-.94-.94-2.06-.94 2.06-2.06.94zm-11 1L8.5 8.5l.94-2.06 2.06-.94-2.06-.94L8.5 2.5l-.94 2.06-2.06.94zm10 10l.94 2.06.94-2.06 2.06-.94-2.06-.94-.94-2.06-.94 2.06-2.06.94z\"/><path d=\"M17.41 7.96l-1.37-1.37c-.4-.4-.92-.59-1.43-.59-.52 0-1.04.2-1.43.59L10.3 9.45l-7.72 7.72c-.78.78-.78 2.05 0 2.83L4 21.41c.39.39.9.59 1.41.59.51 0 1.02-.2 1.41-.59l7.78-7.78 2.81-2.81c.8-.78.8-2.07 0-2.86zM5.41 20L4 18.59l7.72-7.72 1.47 1.35L5.41 20z\"/>\n",
              "  </svg>\n",
              "      </button>\n",
              "      \n",
              "  <style>\n",
              "    .colab-df-container {\n",
              "      display:flex;\n",
              "      flex-wrap:wrap;\n",
              "      gap: 12px;\n",
              "    }\n",
              "\n",
              "    .colab-df-convert {\n",
              "      background-color: #E8F0FE;\n",
              "      border: none;\n",
              "      border-radius: 50%;\n",
              "      cursor: pointer;\n",
              "      display: none;\n",
              "      fill: #1967D2;\n",
              "      height: 32px;\n",
              "      padding: 0 0 0 0;\n",
              "      width: 32px;\n",
              "    }\n",
              "\n",
              "    .colab-df-convert:hover {\n",
              "      background-color: #E2EBFA;\n",
              "      box-shadow: 0px 1px 2px rgba(60, 64, 67, 0.3), 0px 1px 3px 1px rgba(60, 64, 67, 0.15);\n",
              "      fill: #174EA6;\n",
              "    }\n",
              "\n",
              "    [theme=dark] .colab-df-convert {\n",
              "      background-color: #3B4455;\n",
              "      fill: #D2E3FC;\n",
              "    }\n",
              "\n",
              "    [theme=dark] .colab-df-convert:hover {\n",
              "      background-color: #434B5C;\n",
              "      box-shadow: 0px 1px 3px 1px rgba(0, 0, 0, 0.15);\n",
              "      filter: drop-shadow(0px 1px 2px rgba(0, 0, 0, 0.3));\n",
              "      fill: #FFFFFF;\n",
              "    }\n",
              "  </style>\n",
              "\n",
              "      <script>\n",
              "        const buttonEl =\n",
              "          document.querySelector('#df-56b44d2f-9eb8-4eea-abf1-a01bab176b97 button.colab-df-convert');\n",
              "        buttonEl.style.display =\n",
              "          google.colab.kernel.accessAllowed ? 'block' : 'none';\n",
              "\n",
              "        async function convertToInteractive(key) {\n",
              "          const element = document.querySelector('#df-56b44d2f-9eb8-4eea-abf1-a01bab176b97');\n",
              "          const dataTable =\n",
              "            await google.colab.kernel.invokeFunction('convertToInteractive',\n",
              "                                                     [key], {});\n",
              "          if (!dataTable) return;\n",
              "\n",
              "          const docLinkHtml = 'Like what you see? Visit the ' +\n",
              "            '<a target=\"_blank\" href=https://colab.research.google.com/notebooks/data_table.ipynb>data table notebook</a>'\n",
              "            + ' to learn more about interactive tables.';\n",
              "          element.innerHTML = '';\n",
              "          dataTable['output_type'] = 'display_data';\n",
              "          await google.colab.output.renderOutput(dataTable, element);\n",
              "          const docLink = document.createElement('div');\n",
              "          docLink.innerHTML = docLinkHtml;\n",
              "          element.appendChild(docLink);\n",
              "        }\n",
              "      </script>\n",
              "    </div>\n",
              "  </div>\n",
              "  "
            ]
          },
          "metadata": {},
          "execution_count": 9
        }
      ]
    },
    {
      "cell_type": "markdown",
      "metadata": {
        "id": "87TiQRKbfcpE"
      },
      "source": [
        "- #### <font color='orange'> Q3. 결측치가 있는 컬럼과 결측치 비율을 보기쉽게 그래프로 나타내 보세요."
      ]
    },
    {
      "cell_type": "markdown",
      "source": [
        ""
      ],
      "metadata": {
        "id": "upNHwp5e6ksa"
      }
    },
    {
      "cell_type": "markdown",
      "metadata": {
        "id": "NQhe9aDrM2d9"
      },
      "source": [
        ""
      ]
    },
    {
      "cell_type": "code",
      "metadata": {
        "id": "1PVB7F3yfcpE",
        "outputId": "b3aa54cd-09b6-4222-de46-e149633d83b7",
        "colab": {
          "base_uri": "https://localhost:8080/",
          "height": 407
        }
      },
      "source": [
        "# Q3\n",
        "null = df.isnull().sum()/len(df) * 100\n",
        "null = null[null>0]\n",
        "df_null = null.to_frame(name = 'null').sort_values(by = 'null', ascending = False)\n",
        "df_null.plot.bar(color = sns.color_palette('Greens_d'))\n",
        "plt.show()"
      ],
      "execution_count": 10,
      "outputs": [
        {
          "output_type": "display_data",
          "data": {
            "text/plain": [
              "<Figure size 432x288 with 1 Axes>"
            ],
            "image/png": "[encoded data removed]"
          },
          "metadata": {
            "needs_background": "light"
          }
        }
      ]
    },
    {
      "cell_type": "markdown",
      "metadata": {
        "id": "D8Xr7__1fcpI"
      },
      "source": [
        "- #### <font color='orange'> Q4. 결측치가 적은 beds 컬럼을 좀 더 자세히 살펴보겠습니다. \n",
        "  #### <font color='orange'> 'beds' 컬럼이 결측치인 데이터의 상위 5개를 출력해주세요."
      ]
    },
    {
      "cell_type": "code",
      "metadata": {
        "id": "52-Do2c_fcpJ",
        "outputId": "7fb2722f-6bfa-4de4-9c75-8b129214949d",
        "colab": {
          "base_uri": "https://localhost:8080/",
          "height": 404
        }
      },
      "source": [
        "# Q4\n",
        "df[df['beds'].isnull()].head()"
      ],
      "execution_count": 11,
      "outputs": [
        {
          "output_type": "execute_result",
          "data": {
            "text/plain": [
              "          id host_response_time host_response_rate host_acceptance_rate  \\\n",
              "808   321845                NaN                NaN                  NaN   \n",
              "1002  468613                NaN                NaN                  NaN   \n",
              "1058  499249                NaN                NaN                   0%   \n",
              "1074  505231                NaN                NaN                  NaN   \n",
              "1208  587519                NaN                NaN                   0%   \n",
              "\n",
              "     host_is_superhost  host_listings_count  host_total_listings_count  \\\n",
              "808                  f                  0.0                        0.0   \n",
              "1002                 f                  1.0                        1.0   \n",
              "1058                 f                  1.0                        1.0   \n",
              "1074                 f                  1.0                        1.0   \n",
              "1208                 f                  1.0                        1.0   \n",
              "\n",
              "                                     host_verifications host_has_profile_pic  \\\n",
              "808                                           ['email']                    t   \n",
              "1002   ['email', 'phone', 'facebook', 'reviews', 'kba']                    t   \n",
              "1058  ['email', 'phone', 'reviews', 'offline_governm...                    t   \n",
              "1074                      ['email', 'phone', 'reviews']                    t   \n",
              "1208          ['email', 'phone', 'facebook', 'reviews']                    t   \n",
              "\n",
              "     host_identity_verified  ... review_scores_value  requires_license  \\\n",
              "808                       f  ...                 NaN                 f   \n",
              "1002                      t  ...                 NaN                 f   \n",
              "1058                      f  ...                10.0                 f   \n",
              "1074                      f  ...                10.0                 f   \n",
              "1208                      f  ...                 6.0                 f   \n",
              "\n",
              "      license jurisdiction_names instant_bookable is_business_travel_ready  \\\n",
              "808       NaN                NaN                f                        f   \n",
              "1002      NaN                NaN                f                        f   \n",
              "1058      NaN                NaN                t                        f   \n",
              "1074      NaN                NaN                f                        f   \n",
              "1208      NaN                NaN                f                        f   \n",
              "\n",
              "              cancellation_policy  require_guest_profile_picture  \\\n",
              "808   strict_14_with_grace_period                              f   \n",
              "1002                     flexible                              f   \n",
              "1058  strict_14_with_grace_period                              f   \n",
              "1074                     moderate                              f   \n",
              "1208                     flexible                              f   \n",
              "\n",
              "      require_guest_phone_verification  reviews_per_month  \n",
              "808                                  f                NaN  \n",
              "1002                                 f                NaN  \n",
              "1058                                 f               0.01  \n",
              "1074                                 f               0.01  \n",
              "1208                                 f               0.02  \n",
              "\n",
              "[5 rows x 54 columns]"
            ],
            "text/html": [
              "\n",
              "  <div id=\"df-d75088b9-bc45-4f43-bb9e-96ab21724789\">\n",
              "    <div class=\"colab-df-container\">\n",
              "      <div>\n",
              "<style scoped>\n",
              "    .dataframe tbody tr th:only-of-type {\n",
              "        vertical-align: middle;\n",
              "    }\n",
              "\n",
              "    .dataframe tbody tr th {\n",
              "        vertical-align: top;\n",
              "    }\n",
              "\n",
              "    .dataframe thead th {\n",
              "        text-align: right;\n",
              "    }\n",
              "</style>\n",
              "<table border=\"1\" class=\"dataframe\">\n",
              "  <thead>\n",
              "    <tr style=\"text-align: right;\">\n",
              "      <th></th>\n",
              "      <th>id</th>\n",
              "      <th>host_response_time</th>\n",
              "      <th>host_response_rate</th>\n",
              "      <th>host_acceptance_rate</th>\n",
              "      <th>host_is_superhost</th>\n",
              "      <th>host_listings_count</th>\n",
              "      <th>host_total_listings_count</th>\n",
              "      <th>host_verifications</th>\n",
              "      <th>host_has_profile_pic</th>\n",
              "      <th>host_identity_verified</th>\n",
              "      <th>...</th>\n",
              "      <th>review_scores_value</th>\n",
              "      <th>requires_license</th>\n",
              "      <th>license</th>\n",
              "      <th>jurisdiction_names</th>\n",
              "      <th>instant_bookable</th>\n",
              "      <th>is_business_travel_ready</th>\n",
              "      <th>cancellation_policy</th>\n",
              "      <th>require_guest_profile_picture</th>\n",
              "      <th>require_guest_phone_verification</th>\n",
              "      <th>reviews_per_month</th>\n",
              "    </tr>\n",
              "  </thead>\n",
              "  <tbody>\n",
              "    <tr>\n",
              "      <th>808</th>\n",
              "      <td>321845</td>\n",
              "      <td>NaN</td>\n",
              "      <td>NaN</td>\n",
              "      <td>NaN</td>\n",
              "      <td>f</td>\n",
              "      <td>0.0</td>\n",
              "      <td>0.0</td>\n",
              "      <td>['email']</td>\n",
              "      <td>t</td>\n",
              "      <td>f</td>\n",
              "      <td>...</td>\n",
              "      <td>NaN</td>\n",
              "      <td>f</td>\n",
              "      <td>NaN</td>\n",
              "      <td>NaN</td>\n",
              "      <td>f</td>\n",
              "      <td>f</td>\n",
              "      <td>strict_14_with_grace_period</td>\n",
              "      <td>f</td>\n",
              "      <td>f</td>\n",
              "      <td>NaN</td>\n",
              "    </tr>\n",
              "    <tr>\n",
              "      <th>1002</th>\n",
              "      <td>468613</td>\n",
              "      <td>NaN</td>\n",
              "      <td>NaN</td>\n",
              "      <td>NaN</td>\n",
              "      <td>f</td>\n",
              "      <td>1.0</td>\n",
              "      <td>1.0</td>\n",
              "      <td>['email', 'phone', 'facebook', 'reviews', 'kba']</td>\n",
              "      <td>t</td>\n",
              "      <td>t</td>\n",
              "      <td>...</td>\n",
              "      <td>NaN</td>\n",
              "      <td>f</td>\n",
              "      <td>NaN</td>\n",
              "      <td>NaN</td>\n",
              "      <td>f</td>\n",
              "      <td>f</td>\n",
              "      <td>flexible</td>\n",
              "      <td>f</td>\n",
              "      <td>f</td>\n",
              "      <td>NaN</td>\n",
              "    </tr>\n",
              "    <tr>\n",
              "      <th>1058</th>\n",
              "      <td>499249</td>\n",
              "      <td>NaN</td>\n",
              "      <td>NaN</td>\n",
              "      <td>0%</td>\n",
              "      <td>f</td>\n",
              "      <td>1.0</td>\n",
              "      <td>1.0</td>\n",
              "      <td>['email', 'phone', 'reviews', 'offline_governm...</td>\n",
              "      <td>t</td>\n",
              "      <td>f</td>\n",
              "      <td>...</td>\n",
              "      <td>10.0</td>\n",
              "      <td>f</td>\n",
              "      <td>NaN</td>\n",
              "      <td>NaN</td>\n",
              "      <td>t</td>\n",
              "      <td>f</td>\n",
              "      <td>strict_14_with_grace_period</td>\n",
              "      <td>f</td>\n",
              "      <td>f</td>\n",
              "      <td>0.01</td>\n",
              "    </tr>\n",
              "    <tr>\n",
              "      <th>1074</th>\n",
              "      <td>505231</td>\n",
              "      <td>NaN</td>\n",
              "      <td>NaN</td>\n",
              "      <td>NaN</td>\n",
              "      <td>f</td>\n",
              "      <td>1.0</td>\n",
              "      <td>1.0</td>\n",
              "      <td>['email', 'phone', 'reviews']</td>\n",
              "      <td>t</td>\n",
              "      <td>f</td>\n",
              "      <td>...</td>\n",
              "      <td>10.0</td>\n",
              "      <td>f</td>\n",
              "      <td>NaN</td>\n",
              "      <td>NaN</td>\n",
              "      <td>f</td>\n",
              "      <td>f</td>\n",
              "      <td>moderate</td>\n",
              "      <td>f</td>\n",
              "      <td>f</td>\n",
              "      <td>0.01</td>\n",
              "    </tr>\n",
              "    <tr>\n",
              "      <th>1208</th>\n",
              "      <td>587519</td>\n",
              "      <td>NaN</td>\n",
              "      <td>NaN</td>\n",
              "      <td>0%</td>\n",
              "      <td>f</td>\n",
              "      <td>1.0</td>\n",
              "      <td>1.0</td>\n",
              "      <td>['email', 'phone', 'facebook', 'reviews']</td>\n",
              "      <td>t</td>\n",
              "      <td>f</td>\n",
              "      <td>...</td>\n",
              "      <td>6.0</td>\n",
              "      <td>f</td>\n",
              "      <td>NaN</td>\n",
              "      <td>NaN</td>\n",
              "      <td>f</td>\n",
              "      <td>f</td>\n",
              "      <td>flexible</td>\n",
              "      <td>f</td>\n",
              "      <td>f</td>\n",
              "      <td>0.02</td>\n",
              "    </tr>\n",
              "  </tbody>\n",
              "</table>\n",
              "<p>5 rows × 54 columns</p>\n",
              "</div>\n",
              "      <button class=\"colab-df-convert\" onclick=\"convertToInteractive('df-d75088b9-bc45-4f43-bb9e-96ab21724789')\"\n",
              "              title=\"Convert this dataframe to an interactive table.\"\n",
              "              style=\"display:none;\">\n",
              "        \n",
              "  <svg xmlns=\"http://www.w3.org/2000/svg\" height=\"24px\"viewBox=\"0 0 24 24\"\n",
              "       width=\"24px\">\n",
              "    <path d=\"M0 0h24v24H0V0z\" fill=\"none\"/>\n",
              "    <path d=\"M18.56 5.44l.94 2.06.94-2.06 2.06-.94-2.06-.94-.94-2.06-.94 2.06-2.06.94zm-11 1L8.5 8.5l.94-2.06 2.06-.94-2.06-.94L8.5 2.5l-.94 2.06-2.06.94zm10 10l.94 2.06.94-2.06 2.06-.94-2.06-.94-.94-2.06-.94 2.06-2.06.94z\"/><path d=\"M17.41 7.96l-1.37-1.37c-.4-.4-.92-.59-1.43-.59-.52 0-1.04.2-1.43.59L10.3 9.45l-7.72 7.72c-.78.78-.78 2.05 0 2.83L4 21.41c.39.39.9.59 1.41.59.51 0 1.02-.2 1.41-.59l7.78-7.78 2.81-2.81c.8-.78.8-2.07 0-2.86zM5.41 20L4 18.59l7.72-7.72 1.47 1.35L5.41 20z\"/>\n",
              "  </svg>\n",
              "      </button>\n",
              "      \n",
              "  <style>\n",
              "    .colab-df-container {\n",
              "      display:flex;\n",
              "      flex-wrap:wrap;\n",
              "      gap: 12px;\n",
              "    }\n",
              "\n",
              "    .colab-df-convert {\n",
              "      background-color: #E8F0FE;\n",
              "      border: none;\n",
              "      border-radius: 50%;\n",
              "      cursor: pointer;\n",
              "      display: none;\n",
              "      fill: #1967D2;\n",
              "      height: 32px;\n",
              "      padding: 0 0 0 0;\n",
              "      width: 32px;\n",
              "    }\n",
              "\n",
              "    .colab-df-convert:hover {\n",
              "      background-color: #E2EBFA;\n",
              "      box-shadow: 0px 1px 2px rgba(60, 64, 67, 0.3), 0px 1px 3px 1px rgba(60, 64, 67, 0.15);\n",
              "      fill: #174EA6;\n",
              "    }\n",
              "\n",
              "    [theme=dark] .colab-df-convert {\n",
              "      background-color: #3B4455;\n",
              "      fill: #D2E3FC;\n",
              "    }\n",
              "\n",
              "    [theme=dark] .colab-df-convert:hover {\n",
              "      background-color: #434B5C;\n",
              "      box-shadow: 0px 1px 3px 1px rgba(0, 0, 0, 0.15);\n",
              "      filter: drop-shadow(0px 1px 2px rgba(0, 0, 0, 0.3));\n",
              "      fill: #FFFFFF;\n",
              "    }\n",
              "  </style>\n",
              "\n",
              "      <script>\n",
              "        const buttonEl =\n",
              "          document.querySelector('#df-d75088b9-bc45-4f43-bb9e-96ab21724789 button.colab-df-convert');\n",
              "        buttonEl.style.display =\n",
              "          google.colab.kernel.accessAllowed ? 'block' : 'none';\n",
              "\n",
              "        async function convertToInteractive(key) {\n",
              "          const element = document.querySelector('#df-d75088b9-bc45-4f43-bb9e-96ab21724789');\n",
              "          const dataTable =\n",
              "            await google.colab.kernel.invokeFunction('convertToInteractive',\n",
              "                                                     [key], {});\n",
              "          if (!dataTable) return;\n",
              "\n",
              "          const docLinkHtml = 'Like what you see? Visit the ' +\n",
              "            '<a target=\"_blank\" href=https://colab.research.google.com/notebooks/data_table.ipynb>data table notebook</a>'\n",
              "            + ' to learn more about interactive tables.';\n",
              "          element.innerHTML = '';\n",
              "          dataTable['output_type'] = 'display_data';\n",
              "          await google.colab.output.renderOutput(dataTable, element);\n",
              "          const docLink = document.createElement('div');\n",
              "          docLink.innerHTML = docLinkHtml;\n",
              "          element.appendChild(docLink);\n",
              "        }\n",
              "      </script>\n",
              "    </div>\n",
              "  </div>\n",
              "  "
            ]
          },
          "metadata": {},
          "execution_count": 11
        }
      ]
    },
    {
      "cell_type": "markdown",
      "metadata": {
        "id": "aG4VKbWVfcpM"
      },
      "source": [
        "---\n",
        "### 3) 범주형 변수 확인\n",
        "<font color='gray'> - 편의를 위해 결측치가 있는 컬럼을 모두 제거하고 진행하겠습니다."
      ]
    },
    {
      "cell_type": "code",
      "metadata": {
        "id": "82BUbKO1fcpM"
      },
      "source": [
        "drop_col = ['jurisdiction_names', 'license', 'square_feet', 'monthly_price',\n",
        "       'weekly_price', 'host_response_rate', 'host_response_time',\n",
        "       'security_deposit', 'host_acceptance_rate', 'review_scores_location',\n",
        "       'review_scores_value', 'review_scores_checkin',\n",
        "       'review_scores_accuracy', 'review_scores_communication',\n",
        "       'review_scores_cleanliness', 'review_scores_rating',\n",
        "       'reviews_per_month', 'beds']"
      ],
      "execution_count": 12,
      "outputs": []
    },
    {
      "cell_type": "code",
      "metadata": {
        "id": "pgWTlyZ0fcpO"
      },
      "source": [
        "df = df.drop(columns=drop_col)"
      ],
      "execution_count": 13,
      "outputs": []
    },
    {
      "cell_type": "markdown",
      "metadata": {
        "id": "9uEFs_yxfcpR"
      },
      "source": [
        "- #### 각 컬럼별 변수 타입 확인"
      ]
    },
    {
      "cell_type": "code",
      "metadata": {
        "id": "C52vx5OEfcpR",
        "outputId": "26ad97b8-24f6-4033-8f99-2f54382b26a9",
        "colab": {
          "base_uri": "https://localhost:8080/"
        }
      },
      "source": [
        "df.info()"
      ],
      "execution_count": 14,
      "outputs": [
        {
          "output_type": "stream",
          "name": "stdout",
          "text": [
            "<class 'pandas.core.frame.DataFrame'>\n",
            "Int64Index: 50796 entries, 0 to 50795\n",
            "Data columns (total 36 columns):\n",
            " #   Column                            Non-Null Count  Dtype  \n",
            "---  ------                            --------------  -----  \n",
            " 0   id                                50796 non-null  int64  \n",
            " 1   host_is_superhost                 50791 non-null  object \n",
            " 2   host_listings_count               50791 non-null  float64\n",
            " 3   host_total_listings_count         50791 non-null  float64\n",
            " 4   host_verifications                50796 non-null  object \n",
            " 5   host_has_profile_pic              50791 non-null  object \n",
            " 6   host_identity_verified            50791 non-null  object \n",
            " 7   neighborhood                      50796 non-null  object \n",
            " 8   latitude                          50796 non-null  float64\n",
            " 9   longitude                         50796 non-null  float64\n",
            " 10  is_location_exact                 50796 non-null  object \n",
            " 11  property_type                     50796 non-null  object \n",
            " 12  room_type                         50796 non-null  object \n",
            " 13  accommodates                      50796 non-null  int64  \n",
            " 14  bathrooms                         50742 non-null  float64\n",
            " 15  bedrooms                          50719 non-null  float64\n",
            " 16  bed_type                          50796 non-null  object \n",
            " 17  amenities                         50796 non-null  object \n",
            " 18  price                             50796 non-null  int64  \n",
            " 19  guests_included                   50796 non-null  int64  \n",
            " 20  extra_people                      50796 non-null  object \n",
            " 21  minimum_nights                    50796 non-null  int64  \n",
            " 22  maximum_nights                    50796 non-null  int64  \n",
            " 23  has_availability                  50796 non-null  object \n",
            " 24  availability_30                   50796 non-null  int64  \n",
            " 25  availability_60                   50796 non-null  int64  \n",
            " 26  availability_90                   50796 non-null  int64  \n",
            " 27  availability_365                  50796 non-null  int64  \n",
            " 28  number_of_reviews                 50796 non-null  int64  \n",
            " 29  number_of_reviews_ltm             50796 non-null  int64  \n",
            " 30  requires_license                  50796 non-null  object \n",
            " 31  instant_bookable                  50796 non-null  object \n",
            " 32  is_business_travel_ready          50796 non-null  object \n",
            " 33  cancellation_policy               50796 non-null  object \n",
            " 34  require_guest_profile_picture     50796 non-null  object \n",
            " 35  require_guest_phone_verification  50796 non-null  object \n",
            "dtypes: float64(6), int64(12), object(18)\n",
            "memory usage: 14.3+ MB\n"
          ]
        }
      ]
    },
    {
      "cell_type": "markdown",
      "metadata": {
        "id": "wmmKNpDffcpT"
      },
      "source": [
        "- #### <font color='orange'> Q5. Room Type 에는 어떤 것들이 있는지 살펴보겠습니다. \n",
        "#### <font color='orange'> room_type의 종류별 갯수에 대한 그래프를 그려주세요."
      ]
    },
    {
      "cell_type": "code",
      "metadata": {
        "id": "L5NgpaZAfcpU",
        "outputId": "000b0d47-275c-4731-9fa3-106116221e29",
        "colab": {
          "base_uri": "https://localhost:8080/",
          "height": 298
        }
      },
      "source": [
        "# Q5\n",
        "sns.countplot(x = 'room_type', data = df)"
      ],
      "execution_count": 15,
      "outputs": [
        {
          "output_type": "execute_result",
          "data": {
            "text/plain": [
              "<matplotlib.axes._subplots.AxesSubplot at 0x7fdbcb4d9e10>"
            ]
          },
          "metadata": {},
          "execution_count": 15
        },
        {
          "output_type": "display_data",
          "data": {
            "text/plain": [
              "<Figure size 432x288 with 1 Axes>"
            ],
            "image/png": "[encoded data removed]"
          },
          "metadata": {
            "needs_background": "light"
          }
        }
      ]
    },
    {
      "cell_type": "markdown",
      "metadata": {
        "id": "tDraukBJfcpW"
      },
      "source": [
        "- #### <font color='orange'> Q6. 위 그래프의 세로축이 갯수가 아닌 비율을 나타내도록 재구성해보세요."
      ]
    },
    {
      "cell_type": "code",
      "metadata": {
        "id": "0Sw6cCs0fcpW",
        "outputId": "194f0399-e879-4238-d4c4-a2e5297f9e1f",
        "colab": {
          "base_uri": "https://localhost:8080/",
          "height": 265
        }
      },
      "source": [
        "#6 \n",
        "room_percentage = df['room_type'].value_counts(normalize = True)\n",
        "room_percentage.plot.bar()\n",
        "plt.xticks(rotation = 0)\n",
        "plt.show()"
      ],
      "execution_count": 16,
      "outputs": [
        {
          "output_type": "display_data",
          "data": {
            "text/plain": [
              "<Figure size 432x288 with 1 Axes>"
            ],
            "image/png": "[encoded data removed]"
          },
          "metadata": {
            "needs_background": "light"
          }
        }
      ]
    },
    {
      "cell_type": "markdown",
      "metadata": {
        "id": "iN06xvJufcpZ"
      },
      "source": [
        "- #### <font color='orange'> Q7. 각 지역별로 room_type의 비율이 어땠는 지 알고 싶습니다.\n",
        "#### <font color='orange'> 아래 그래프와 같이 각 지역별로 room_type의 갯수가 어땠는지 보여주세요.    "
      ]
    },
    {
      "cell_type": "code",
      "metadata": {
        "id": "wAXnxXDVfcpa",
        "outputId": "3b40d1df-f511-4532-8d77-534ce1122ec8",
        "colab": {
          "base_uri": "https://localhost:8080/",
          "height": 406
        }
      },
      "source": [
        "# Q7\n",
        "plt.figure(figsize = (15, 6))\n",
        "df_group = df.groupby(['neighborhood', 'room_type'])['room_type'].agg(**{'count':'count'}).sort_values(by = 'count', ascending = False).reset_index()\n",
        "sns.barplot(x = 'neighborhood', y = 'count', hue = 'room_type', data = df_group)"
      ],
      "execution_count": 17,
      "outputs": [
        {
          "output_type": "execute_result",
          "data": {
            "text/plain": [
              "<matplotlib.axes._subplots.AxesSubplot at 0x7fdbcae68610>"
            ]
          },
          "metadata": {},
          "execution_count": 17
        },
        {
          "output_type": "display_data",
          "data": {
            "text/plain": [
              "<Figure size 1080x432 with 1 Axes>"
            ],
            "image/png": "[encoded data removed]"
          },
          "metadata": {
            "needs_background": "light"
          }
        }
      ]
    },
    {
      "cell_type": "markdown",
      "metadata": {
        "id": "UA5MIpa0fcpg"
      },
      "source": [
        "- #### <font color='orange'> Q8. 각 지역별로 가격의 분포가 어떤지 알고 싶습니다.\n",
        "#### <font color='orange'> 아래 그래프와 같이 각 지역별로 가격의 분포를 보여주세요."
      ]
    },
    {
      "cell_type": "code",
      "metadata": {
        "id": "7tcvOOZmfcpg",
        "outputId": "b8b63836-c32c-40c1-9b71-874ed731d7e3",
        "colab": {
          "base_uri": "https://localhost:8080/",
          "height": 406
        }
      },
      "source": [
        "# Q8\n",
        "# plt.figure() 여기부턴 직접 사이즈 조절해보세요\n",
        "plt.figure(figsize = (15, 6))\n",
        "sns.stripplot(x = 'neighborhood', y = 'price', data = df)"
      ],
      "execution_count": 18,
      "outputs": [
        {
          "output_type": "execute_result",
          "data": {
            "text/plain": [
              "<matplotlib.axes._subplots.AxesSubplot at 0x7fdbcad850d0>"
            ]
          },
          "metadata": {},
          "execution_count": 18
        },
        {
          "output_type": "display_data",
          "data": {
            "text/plain": [
              "<Figure size 1080x432 with 1 Axes>"
            ],
            "image/png": "[encoded data removed]"
          },
          "metadata": {
            "needs_background": "light"
          }
        }
      ]
    },
    {
      "cell_type": "markdown",
      "metadata": {
        "id": "xVaZ98NWfcpj"
      },
      "source": [
        "- #### <font color='orange'> Q9. 위 그래프들로부터 알 수 있는 사실은 무엇인가요? 그 이유는 무엇이라고 생각하시나요?"
      ]
    },
    {
      "cell_type": "code",
      "metadata": {
        "id": "CjWumnVOfcpj"
      },
      "source": [
        "# Q9\n",
        "\n",
        "# Manhattan, Brooklyn의 price data의 이상치의 존재를 의심해 보아야 함"
      ],
      "execution_count": 19,
      "outputs": []
    },
    {
      "cell_type": "markdown",
      "metadata": {
        "id": "orxw6U8C2eK5"
      },
      "source": [
        "---\n",
        "### 4) 연속형 변수 확인"
      ]
    },
    {
      "cell_type": "markdown",
      "metadata": {
        "id": "fnmWOYOnfcpn"
      },
      "source": [
        "- #### <font color='orange'> Q10. 각 방의 수용가능인원의 분포를 알고싶습니다.\n",
        "#### <font color='orange'> 'accommodates' 칼럼에 대한 히스토그램을 그려주세요."
      ]
    },
    {
      "cell_type": "code",
      "metadata": {
        "id": "P4Ttc5iGfcpo",
        "outputId": "e6a710e6-73f7-42a5-cf6a-460c99d798e6",
        "colab": {
          "base_uri": "https://localhost:8080/",
          "height": 374
        }
      },
      "source": [
        "# Q10\n",
        "accommodates = df['accommodates'].to_numpy()\n",
        "plt.figure(figsize = (15, 6))\n",
        "plt.hist(accommodates, bins = 20)\n",
        "plt.show()"
      ],
      "execution_count": 20,
      "outputs": [
        {
          "output_type": "display_data",
          "data": {
            "text/plain": [
              "<Figure size 1080x432 with 1 Axes>"
            ],
            "image/png": "[encoded data removed]"
          },
          "metadata": {
            "needs_background": "light"
          }
        }
      ]
    },
    {
      "cell_type": "markdown",
      "metadata": {
        "id": "Likx5P43fcpr"
      },
      "source": [
        "- #### <font color='orange'> Q11. 각 방의 가격의 분포를 알고 싶습니다.\n",
        "#### <font color='orange'> 'price' 칼럼에 대한 히스토그램을 그려주세요. 범위는 0~1000까지만 보여주세요."
      ]
    },
    {
      "cell_type": "code",
      "metadata": {
        "id": "PM4oic9Ffcpr",
        "outputId": "d199d4e9-f6a4-4a61-a515-531d9dbed72e",
        "colab": {
          "base_uri": "https://localhost:8080/",
          "height": 374
        }
      },
      "source": [
        "# Q11\n",
        "price = df['price'][df['price']<1000].to_numpy()\n",
        "plt.figure(figsize = (15, 6))\n",
        "plt.hist(price, bins = 50)\n",
        "plt.show()"
      ],
      "execution_count": 21,
      "outputs": [
        {
          "output_type": "display_data",
          "data": {
            "text/plain": [
              "<Figure size 1080x432 with 1 Axes>"
            ],
            "image/png": "[encoded data removed]"
          },
          "metadata": {
            "needs_background": "light"
          }
        }
      ]
    },
    {
      "cell_type": "markdown",
      "metadata": {
        "id": "ZXHTpb4bfcpt"
      },
      "source": [
        "---\n",
        "\n",
        "EDA는 언뜻보면 불필요해 보이는 과정이지만, 실제 데이터를 다룰때 매우매우 중요한 과정입니다.\n",
        "\n",
        "때문에 기본적인 개념 및 시각화 방법은 숙지해 두시는 것이 좋습니다!\n",
        "\n",
        "시각화한 자료를 바탕으로 실제 특성들을 가공하는 방법에 대해서는 \n",
        "\n",
        "<font color='orange'> 다음 시간인 FE 시간에 배우게 될 예정입니다.\n",
        "\n",
        "다음 시간에 봐요!\n",
        "\n",
        "---"
      ]
    },
    {
      "cell_type": "markdown",
      "metadata": {
        "id": "QCliOYxPfcpw"
      },
      "source": [
        "* Q2 hint\n",
        "\n",
        "<font color='white'> df의 null의 개수를 센 다음에, \".to_frame()\" 을 써보세요. </font>"
      ]
    },
    {
      "cell_type": "markdown",
      "metadata": {
        "id": "bhGUNQPlfcpw"
      },
      "source": [
        "* **굵은 텍스트** Q3 hint\n",
        "\n",
        "<font color='white'> x축 라벨을 45도 기울이려면 plot.set_xticklabels()을 찾아보세요. </font>\n",
        "\n"
      ]
    }
  ]
}