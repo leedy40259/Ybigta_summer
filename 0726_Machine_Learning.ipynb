{
  "nbformat": 4,
  "nbformat_minor": 0,
  "metadata": {
    "colab": {
      "name": "0726_Machine_Learning.ipynb",
      "provenance": [],
      "include_colab_link": true
    },
    "kernelspec": {
      "name": "python3",
      "display_name": "Python 3"
    },
    "language_info": {
      "name": "python"
    }
  },
  "cells": [
    {
      "cell_type": "markdown",
      "metadata": {
        "id": "view-in-github",
        "colab_type": "text"
      },
      "source": [
        "<a href=\"https://colab.research.google.com/github/leedy40259/Ybigta_summer/blob/main/0726_Machine_Learning.ipynb\" target=\"_parent\"><img src=\"https://colab.research.google.com/assets/colab-badge.svg\" alt=\"Open In Colab\"/></a>"
      ]
    },
    {
      "cell_type": "code",
      "source": [
        "from google.colab import drive\n",
        "drive.mount('/content/drive')"
      ],
      "metadata": {
        "colab": {
          "base_uri": "https://localhost:8080/"
        },
        "id": "eecsqoSXDGTh",
        "outputId": "3b93b7e3-7ec5-46a1-e9ad-05d5f98d0106"
      },
      "execution_count": 2,
      "outputs": [
        {
          "output_type": "stream",
          "name": "stdout",
          "text": [
            "Mounted at /content/drive\n"
          ]
        }
      ]
    },
    {
      "cell_type": "code",
      "execution_count": 3,
      "metadata": {
        "id": "1AWIATyIacOL"
      },
      "outputs": [],
      "source": [
        "import pandas as pd\n",
        "from sklearn.ensemble import RandomForestRegressor\n",
        "\n",
        "train = pd.read_csv('/content/drive/MyDrive/Ybigta_summer/movies_train.csv')\n",
        "test = pd.read_csv('/content/drive/MyDrive/Ybigta_summer/movies_test.csv')"
      ]
    },
    {
      "cell_type": "markdown",
      "source": [
        "# 데이터 전처리"
      ],
      "metadata": {
        "id": "6yaoqpCutVLf"
      }
    },
    {
      "cell_type": "code",
      "source": [
        "# 결측치가 많은 데이터 제거\n",
        "train = train.drop(['dir_prev_bfnum'],axis = 1)\n",
        "test =  test.drop(['dir_prev_bfnum'],axis = 1)"
      ],
      "metadata": {
        "id": "Yl2kA7fFtP5R"
      },
      "execution_count": 4,
      "outputs": []
    },
    {
      "cell_type": "code",
      "source": [
        "# 감독명 : 너무 다양해서 제거\n",
        "train = train.drop(['director'],axis = 1)\n",
        "test = test.drop(['director'],axis = 1)"
      ],
      "metadata": {
        "id": "lIk3wrTctQ9v"
      },
      "execution_count": 5,
      "outputs": []
    },
    {
      "cell_type": "code",
      "source": [
        "# 제목 : 의미가 없기 때문에 제거\n",
        "train = train.drop(['title'],axis= 1)\n",
        "test = test.drop(['title'],axis= 1)"
      ],
      "metadata": {
        "id": "ePWuo17btR1M"
      },
      "execution_count": 6,
      "outputs": []
    },
    {
      "cell_type": "code",
      "source": [
        "# 상위 5개의 배급사를 제외하고 '기타'로처리\n",
        "distributor_list = train.distributor.value_counts()[:5]\n",
        "def func(distributor):\n",
        "    if distributor in distributor_list:\n",
        "        return distributor\n",
        "    else:\n",
        "        return '기타'\n",
        "\n",
        "train['distributor'] = train['distributor'].apply(lambda x : func(x))\n",
        "test['distributor'] = test['distributor'].apply(lambda x : func(x))"
      ],
      "metadata": {
        "id": "gJLgQnsftUi3"
      },
      "execution_count": 7,
      "outputs": []
    },
    {
      "cell_type": "code",
      "source": [
        "# 개봉일을 바탕으로 년,월 변수 생성\n",
        "train['년'] = train['release_time'].apply(lambda x: int(x[:4]))\n",
        "train['월'] = train['release_time'].apply(lambda x: int(x[5:7]))\n",
        "train =  train.drop(['release_time'],axis = 1)\n",
        "\n",
        "test['년'] = test['release_time'].apply(lambda x: int(x[:4]))\n",
        "test['월'] = test['release_time'].apply(lambda x: int(x[5:7]))\n",
        "test =  test.drop(['release_time'],axis = 1)"
      ],
      "metadata": {
        "id": "go0393kDtapB"
      },
      "execution_count": 8,
      "outputs": []
    },
    {
      "cell_type": "code",
      "source": [
        "# 원핫 인코딩\n",
        "train = pd.get_dummies(train)\n",
        "test = pd.get_dummies(test)"
      ],
      "metadata": {
        "id": "8OU0rcEktbvc"
      },
      "execution_count": 9,
      "outputs": []
    },
    {
      "cell_type": "markdown",
      "source": [
        "# 모델 생성 및 예측(과제부분)"
      ],
      "metadata": {
        "id": "QKlW-N1wtfcX"
      }
    },
    {
      "cell_type": "code",
      "source": [
        "train_x = train.drop(['box_off_num'],axis= 1)\n",
        "train_y = train['box_off_num']"
      ],
      "metadata": {
        "id": "NiON_n6Xth_4"
      },
      "execution_count": 10,
      "outputs": []
    },
    {
      "cell_type": "code",
      "source": [
        "model=RandomForestRegressor(max_depth=5, n_estimators = 200, oob_score=True)\n",
        "model.fit(train_x,train_y)\n"
      ],
      "metadata": {
        "colab": {
          "base_uri": "https://localhost:8080/"
        },
        "id": "mSS_Imr_tiB8",
        "outputId": "0a6014fd-d40f-435b-f128-c3d5930644f4"
      },
      "execution_count": 19,
      "outputs": [
        {
          "output_type": "execute_result",
          "data": {
            "text/plain": [
              "RandomForestRegressor(max_depth=5, n_estimators=200, oob_score=True)"
            ]
          },
          "metadata": {},
          "execution_count": 19
        }
      ]
    },
    {
      "cell_type": "code",
      "source": [
        "pred = model.predict(test)"
      ],
      "metadata": {
        "id": "IPCxBt-Wtpzw"
      },
      "execution_count": 20,
      "outputs": []
    },
    {
      "cell_type": "markdown",
      "source": [
        "# 제출"
      ],
      "metadata": {
        "id": "wUS7MUcctquK"
      }
    },
    {
      "cell_type": "code",
      "source": [
        "submission = pd.read_csv('/content/drive/MyDrive/Ybigta_summer/submission.csv')\n",
        "submission"
      ],
      "metadata": {
        "colab": {
          "base_uri": "https://localhost:8080/",
          "height": 424
        },
        "id": "YRoaRvpotuVy",
        "outputId": "920389bd-111d-4fc9-f010-57829113f1ac"
      },
      "execution_count": 22,
      "outputs": [
        {
          "output_type": "execute_result",
          "data": {
            "text/plain": [
              "               title  box_off_num\n",
              "0             용서는 없다            0\n",
              "1        아빠가 여자를 좋아해            0\n",
              "2                하모니            0\n",
              "3                의형제            0\n",
              "4              평행 이론            0\n",
              "..               ...          ...\n",
              "238        해에게서 소년에게            0\n",
              "239           울보 권투부            0\n",
              "240             어떤살인            0\n",
              "241        말하지 못한 비밀            0\n",
              "242  조선안방 스캔들-칠거지악 2            0\n",
              "\n",
              "[243 rows x 2 columns]"
            ],
            "text/html": [
              "\n",
              "  <div id=\"df-65aa931d-dc24-4843-9a90-3be72c3bc797\">\n",
              "    <div class=\"colab-df-container\">\n",
              "      <div>\n",
              "<style scoped>\n",
              "    .dataframe tbody tr th:only-of-type {\n",
              "        vertical-align: middle;\n",
              "    }\n",
              "\n",
              "    .dataframe tbody tr th {\n",
              "        vertical-align: top;\n",
              "    }\n",
              "\n",
              "    .dataframe thead th {\n",
              "        text-align: right;\n",
              "    }\n",
              "</style>\n",
              "<table border=\"1\" class=\"dataframe\">\n",
              "  <thead>\n",
              "    <tr style=\"text-align: right;\">\n",
              "      <th></th>\n",
              "      <th>title</th>\n",
              "      <th>box_off_num</th>\n",
              "    </tr>\n",
              "  </thead>\n",
              "  <tbody>\n",
              "    <tr>\n",
              "      <th>0</th>\n",
              "      <td>용서는 없다</td>\n",
              "      <td>0</td>\n",
              "    </tr>\n",
              "    <tr>\n",
              "      <th>1</th>\n",
              "      <td>아빠가 여자를 좋아해</td>\n",
              "      <td>0</td>\n",
              "    </tr>\n",
              "    <tr>\n",
              "      <th>2</th>\n",
              "      <td>하모니</td>\n",
              "      <td>0</td>\n",
              "    </tr>\n",
              "    <tr>\n",
              "      <th>3</th>\n",
              "      <td>의형제</td>\n",
              "      <td>0</td>\n",
              "    </tr>\n",
              "    <tr>\n",
              "      <th>4</th>\n",
              "      <td>평행 이론</td>\n",
              "      <td>0</td>\n",
              "    </tr>\n",
              "    <tr>\n",
              "      <th>...</th>\n",
              "      <td>...</td>\n",
              "      <td>...</td>\n",
              "    </tr>\n",
              "    <tr>\n",
              "      <th>238</th>\n",
              "      <td>해에게서 소년에게</td>\n",
              "      <td>0</td>\n",
              "    </tr>\n",
              "    <tr>\n",
              "      <th>239</th>\n",
              "      <td>울보 권투부</td>\n",
              "      <td>0</td>\n",
              "    </tr>\n",
              "    <tr>\n",
              "      <th>240</th>\n",
              "      <td>어떤살인</td>\n",
              "      <td>0</td>\n",
              "    </tr>\n",
              "    <tr>\n",
              "      <th>241</th>\n",
              "      <td>말하지 못한 비밀</td>\n",
              "      <td>0</td>\n",
              "    </tr>\n",
              "    <tr>\n",
              "      <th>242</th>\n",
              "      <td>조선안방 스캔들-칠거지악 2</td>\n",
              "      <td>0</td>\n",
              "    </tr>\n",
              "  </tbody>\n",
              "</table>\n",
              "<p>243 rows × 2 columns</p>\n",
              "</div>\n",
              "      <button class=\"colab-df-convert\" onclick=\"convertToInteractive('df-65aa931d-dc24-4843-9a90-3be72c3bc797')\"\n",
              "              title=\"Convert this dataframe to an interactive table.\"\n",
              "              style=\"display:none;\">\n",
              "        \n",
              "  <svg xmlns=\"http://www.w3.org/2000/svg\" height=\"24px\"viewBox=\"0 0 24 24\"\n",
              "       width=\"24px\">\n",
              "    <path d=\"M0 0h24v24H0V0z\" fill=\"none\"/>\n",
              "    <path d=\"M18.56 5.44l.94 2.06.94-2.06 2.06-.94-2.06-.94-.94-2.06-.94 2.06-2.06.94zm-11 1L8.5 8.5l.94-2.06 2.06-.94-2.06-.94L8.5 2.5l-.94 2.06-2.06.94zm10 10l.94 2.06.94-2.06 2.06-.94-2.06-.94-.94-2.06-.94 2.06-2.06.94z\"/><path d=\"M17.41 7.96l-1.37-1.37c-.4-.4-.92-.59-1.43-.59-.52 0-1.04.2-1.43.59L10.3 9.45l-7.72 7.72c-.78.78-.78 2.05 0 2.83L4 21.41c.39.39.9.59 1.41.59.51 0 1.02-.2 1.41-.59l7.78-7.78 2.81-2.81c.8-.78.8-2.07 0-2.86zM5.41 20L4 18.59l7.72-7.72 1.47 1.35L5.41 20z\"/>\n",
              "  </svg>\n",
              "      </button>\n",
              "      \n",
              "  <style>\n",
              "    .colab-df-container {\n",
              "      display:flex;\n",
              "      flex-wrap:wrap;\n",
              "      gap: 12px;\n",
              "    }\n",
              "\n",
              "    .colab-df-convert {\n",
              "      background-color: #E8F0FE;\n",
              "      border: none;\n",
              "      border-radius: 50%;\n",
              "      cursor: pointer;\n",
              "      display: none;\n",
              "      fill: #1967D2;\n",
              "      height: 32px;\n",
              "      padding: 0 0 0 0;\n",
              "      width: 32px;\n",
              "    }\n",
              "\n",
              "    .colab-df-convert:hover {\n",
              "      background-color: #E2EBFA;\n",
              "      box-shadow: 0px 1px 2px rgba(60, 64, 67, 0.3), 0px 1px 3px 1px rgba(60, 64, 67, 0.15);\n",
              "      fill: #174EA6;\n",
              "    }\n",
              "\n",
              "    [theme=dark] .colab-df-convert {\n",
              "      background-color: #3B4455;\n",
              "      fill: #D2E3FC;\n",
              "    }\n",
              "\n",
              "    [theme=dark] .colab-df-convert:hover {\n",
              "      background-color: #434B5C;\n",
              "      box-shadow: 0px 1px 3px 1px rgba(0, 0, 0, 0.15);\n",
              "      filter: drop-shadow(0px 1px 2px rgba(0, 0, 0, 0.3));\n",
              "      fill: #FFFFFF;\n",
              "    }\n",
              "  </style>\n",
              "\n",
              "      <script>\n",
              "        const buttonEl =\n",
              "          document.querySelector('#df-65aa931d-dc24-4843-9a90-3be72c3bc797 button.colab-df-convert');\n",
              "        buttonEl.style.display =\n",
              "          google.colab.kernel.accessAllowed ? 'block' : 'none';\n",
              "\n",
              "        async function convertToInteractive(key) {\n",
              "          const element = document.querySelector('#df-65aa931d-dc24-4843-9a90-3be72c3bc797');\n",
              "          const dataTable =\n",
              "            await google.colab.kernel.invokeFunction('convertToInteractive',\n",
              "                                                     [key], {});\n",
              "          if (!dataTable) return;\n",
              "\n",
              "          const docLinkHtml = 'Like what you see? Visit the ' +\n",
              "            '<a target=\"_blank\" href=https://colab.research.google.com/notebooks/data_table.ipynb>data table notebook</a>'\n",
              "            + ' to learn more about interactive tables.';\n",
              "          element.innerHTML = '';\n",
              "          dataTable['output_type'] = 'display_data';\n",
              "          await google.colab.output.renderOutput(dataTable, element);\n",
              "          const docLink = document.createElement('div');\n",
              "          docLink.innerHTML = docLinkHtml;\n",
              "          element.appendChild(docLink);\n",
              "        }\n",
              "      </script>\n",
              "    </div>\n",
              "  </div>\n",
              "  "
            ]
          },
          "metadata": {},
          "execution_count": 22
        }
      ]
    },
    {
      "cell_type": "code",
      "source": [
        "submission['box_off_num'] = pred"
      ],
      "metadata": {
        "id": "ai1KVPRZtw1c"
      },
      "execution_count": 23,
      "outputs": []
    },
    {
      "cell_type": "code",
      "source": [
        "submission"
      ],
      "metadata": {
        "colab": {
          "base_uri": "https://localhost:8080/",
          "height": 424
        },
        "id": "paR-Racntxv1",
        "outputId": "81adbd4e-c051-45fb-ad5e-4e944c908e0c"
      },
      "execution_count": 24,
      "outputs": [
        {
          "output_type": "execute_result",
          "data": {
            "text/plain": [
              "               title   box_off_num\n",
              "0             용서는 없다  2.796714e+06\n",
              "1        아빠가 여자를 좋아해  1.241286e+06\n",
              "2                하모니  1.503811e+06\n",
              "3                의형제  1.848024e+06\n",
              "4              평행 이론  1.163026e+06\n",
              "..               ...           ...\n",
              "238        해에게서 소년에게  1.001625e+05\n",
              "239           울보 권투부  3.176572e+04\n",
              "240             어떤살인  2.791619e+05\n",
              "241        말하지 못한 비밀  4.449703e+04\n",
              "242  조선안방 스캔들-칠거지악 2  3.141895e+04\n",
              "\n",
              "[243 rows x 2 columns]"
            ],
            "text/html": [
              "\n",
              "  <div id=\"df-4aaf068b-fcd0-4123-8ccc-895019d648fb\">\n",
              "    <div class=\"colab-df-container\">\n",
              "      <div>\n",
              "<style scoped>\n",
              "    .dataframe tbody tr th:only-of-type {\n",
              "        vertical-align: middle;\n",
              "    }\n",
              "\n",
              "    .dataframe tbody tr th {\n",
              "        vertical-align: top;\n",
              "    }\n",
              "\n",
              "    .dataframe thead th {\n",
              "        text-align: right;\n",
              "    }\n",
              "</style>\n",
              "<table border=\"1\" class=\"dataframe\">\n",
              "  <thead>\n",
              "    <tr style=\"text-align: right;\">\n",
              "      <th></th>\n",
              "      <th>title</th>\n",
              "      <th>box_off_num</th>\n",
              "    </tr>\n",
              "  </thead>\n",
              "  <tbody>\n",
              "    <tr>\n",
              "      <th>0</th>\n",
              "      <td>용서는 없다</td>\n",
              "      <td>2.796714e+06</td>\n",
              "    </tr>\n",
              "    <tr>\n",
              "      <th>1</th>\n",
              "      <td>아빠가 여자를 좋아해</td>\n",
              "      <td>1.241286e+06</td>\n",
              "    </tr>\n",
              "    <tr>\n",
              "      <th>2</th>\n",
              "      <td>하모니</td>\n",
              "      <td>1.503811e+06</td>\n",
              "    </tr>\n",
              "    <tr>\n",
              "      <th>3</th>\n",
              "      <td>의형제</td>\n",
              "      <td>1.848024e+06</td>\n",
              "    </tr>\n",
              "    <tr>\n",
              "      <th>4</th>\n",
              "      <td>평행 이론</td>\n",
              "      <td>1.163026e+06</td>\n",
              "    </tr>\n",
              "    <tr>\n",
              "      <th>...</th>\n",
              "      <td>...</td>\n",
              "      <td>...</td>\n",
              "    </tr>\n",
              "    <tr>\n",
              "      <th>238</th>\n",
              "      <td>해에게서 소년에게</td>\n",
              "      <td>1.001625e+05</td>\n",
              "    </tr>\n",
              "    <tr>\n",
              "      <th>239</th>\n",
              "      <td>울보 권투부</td>\n",
              "      <td>3.176572e+04</td>\n",
              "    </tr>\n",
              "    <tr>\n",
              "      <th>240</th>\n",
              "      <td>어떤살인</td>\n",
              "      <td>2.791619e+05</td>\n",
              "    </tr>\n",
              "    <tr>\n",
              "      <th>241</th>\n",
              "      <td>말하지 못한 비밀</td>\n",
              "      <td>4.449703e+04</td>\n",
              "    </tr>\n",
              "    <tr>\n",
              "      <th>242</th>\n",
              "      <td>조선안방 스캔들-칠거지악 2</td>\n",
              "      <td>3.141895e+04</td>\n",
              "    </tr>\n",
              "  </tbody>\n",
              "</table>\n",
              "<p>243 rows × 2 columns</p>\n",
              "</div>\n",
              "      <button class=\"colab-df-convert\" onclick=\"convertToInteractive('df-4aaf068b-fcd0-4123-8ccc-895019d648fb')\"\n",
              "              title=\"Convert this dataframe to an interactive table.\"\n",
              "              style=\"display:none;\">\n",
              "        \n",
              "  <svg xmlns=\"http://www.w3.org/2000/svg\" height=\"24px\"viewBox=\"0 0 24 24\"\n",
              "       width=\"24px\">\n",
              "    <path d=\"M0 0h24v24H0V0z\" fill=\"none\"/>\n",
              "    <path d=\"M18.56 5.44l.94 2.06.94-2.06 2.06-.94-2.06-.94-.94-2.06-.94 2.06-2.06.94zm-11 1L8.5 8.5l.94-2.06 2.06-.94-2.06-.94L8.5 2.5l-.94 2.06-2.06.94zm10 10l.94 2.06.94-2.06 2.06-.94-2.06-.94-.94-2.06-.94 2.06-2.06.94z\"/><path d=\"M17.41 7.96l-1.37-1.37c-.4-.4-.92-.59-1.43-.59-.52 0-1.04.2-1.43.59L10.3 9.45l-7.72 7.72c-.78.78-.78 2.05 0 2.83L4 21.41c.39.39.9.59 1.41.59.51 0 1.02-.2 1.41-.59l7.78-7.78 2.81-2.81c.8-.78.8-2.07 0-2.86zM5.41 20L4 18.59l7.72-7.72 1.47 1.35L5.41 20z\"/>\n",
              "  </svg>\n",
              "      </button>\n",
              "      \n",
              "  <style>\n",
              "    .colab-df-container {\n",
              "      display:flex;\n",
              "      flex-wrap:wrap;\n",
              "      gap: 12px;\n",
              "    }\n",
              "\n",
              "    .colab-df-convert {\n",
              "      background-color: #E8F0FE;\n",
              "      border: none;\n",
              "      border-radius: 50%;\n",
              "      cursor: pointer;\n",
              "      display: none;\n",
              "      fill: #1967D2;\n",
              "      height: 32px;\n",
              "      padding: 0 0 0 0;\n",
              "      width: 32px;\n",
              "    }\n",
              "\n",
              "    .colab-df-convert:hover {\n",
              "      background-color: #E2EBFA;\n",
              "      box-shadow: 0px 1px 2px rgba(60, 64, 67, 0.3), 0px 1px 3px 1px rgba(60, 64, 67, 0.15);\n",
              "      fill: #174EA6;\n",
              "    }\n",
              "\n",
              "    [theme=dark] .colab-df-convert {\n",
              "      background-color: #3B4455;\n",
              "      fill: #D2E3FC;\n",
              "    }\n",
              "\n",
              "    [theme=dark] .colab-df-convert:hover {\n",
              "      background-color: #434B5C;\n",
              "      box-shadow: 0px 1px 3px 1px rgba(0, 0, 0, 0.15);\n",
              "      filter: drop-shadow(0px 1px 2px rgba(0, 0, 0, 0.3));\n",
              "      fill: #FFFFFF;\n",
              "    }\n",
              "  </style>\n",
              "\n",
              "      <script>\n",
              "        const buttonEl =\n",
              "          document.querySelector('#df-4aaf068b-fcd0-4123-8ccc-895019d648fb button.colab-df-convert');\n",
              "        buttonEl.style.display =\n",
              "          google.colab.kernel.accessAllowed ? 'block' : 'none';\n",
              "\n",
              "        async function convertToInteractive(key) {\n",
              "          const element = document.querySelector('#df-4aaf068b-fcd0-4123-8ccc-895019d648fb');\n",
              "          const dataTable =\n",
              "            await google.colab.kernel.invokeFunction('convertToInteractive',\n",
              "                                                     [key], {});\n",
              "          if (!dataTable) return;\n",
              "\n",
              "          const docLinkHtml = 'Like what you see? Visit the ' +\n",
              "            '<a target=\"_blank\" href=https://colab.research.google.com/notebooks/data_table.ipynb>data table notebook</a>'\n",
              "            + ' to learn more about interactive tables.';\n",
              "          element.innerHTML = '';\n",
              "          dataTable['output_type'] = 'display_data';\n",
              "          await google.colab.output.renderOutput(dataTable, element);\n",
              "          const docLink = document.createElement('div');\n",
              "          docLink.innerHTML = docLinkHtml;\n",
              "          element.appendChild(docLink);\n",
              "        }\n",
              "      </script>\n",
              "    </div>\n",
              "  </div>\n",
              "  "
            ]
          },
          "metadata": {},
          "execution_count": 24
        }
      ]
    },
    {
      "cell_type": "code",
      "source": [
        "submission.to_csv('베이스라인.csv',index = False)"
      ],
      "metadata": {
        "id": "weUAnuy9tyXE"
      },
      "execution_count": 25,
      "outputs": []
    },
    {
      "cell_type": "markdown",
      "source": [
        "# 제출 점수(과제부분)"
      ],
      "metadata": {
        "id": "qUSYjotTt-In"
      }
    },
    {
      "cell_type": "markdown",
      "source": [
        "![image.png](data:image/png;base64,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)"
      ],
      "metadata": {
        "id": "OmkkZqz2RKfW"
      }
    }
  ]
}